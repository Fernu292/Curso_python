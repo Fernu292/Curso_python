{
 "cells": [
  {
   "cell_type": "markdown",
   "id": "5a468f02-0820-4b13-b570-acf5f8384caa",
   "metadata": {},
   "source": [
    "# Pandas\n",
    "\n",
    "Es una libreria de computo y analisis de datos que proporciona herramientas poderosas para manejo de datos y estructuras en DataFrames, posee la licencia BSD-License.\n",
    "\n",
    "Posee dos estructuras de datos fundamentales, Series y DataFrames. Las Series son similares a un Array de una dimension, y un DataFrame se corresponde con una tabla 2D\n",
    "\n",
    "* Series: Array de una dimesion\n",
    "* DataFrame: Se corresponde con una tabla 2D\n",
    "* Panel: Similar a un diccionario de DataFrames"
   ]
  },
  {
   "cell_type": "code",
   "execution_count": 1,
   "id": "67e12852-5bc7-4536-b6c9-54403e63b11c",
   "metadata": {},
   "outputs": [],
   "source": [
    "import pandas as pd"
   ]
  },
  {
   "cell_type": "markdown",
   "id": "079a2be1-2135-46f4-b592-f9e6ed7985ab",
   "metadata": {},
   "source": [
    "## Series \n",
    "\n",
    "Podemos generar series en base a una lista de python y tendra la siguiente estructura"
   ]
  },
  {
   "cell_type": "code",
   "execution_count": 2,
   "id": "90971f1c-658e-4497-9d41-ac1deff079a1",
   "metadata": {},
   "outputs": [
    {
     "data": {
      "text/plain": [
       "0       0\n",
       "1       1\n",
       "2       4\n",
       "3       9\n",
       "4      16\n",
       "5      25\n",
       "6      36\n",
       "7      49\n",
       "8      64\n",
       "9      81\n",
       "10    100\n",
       "dtype: int64"
      ]
     },
     "execution_count": 2,
     "metadata": {},
     "output_type": "execute_result"
    }
   ],
   "source": [
    "serie = pd.Series([x**2 for x in range(11)])\n",
    "serie"
   ]
  },
  {
   "cell_type": "markdown",
   "id": "1d7e5bb3-9d31-4508-9fbe-617e99ecb093",
   "metadata": {},
   "source": [
    "Tambien podemos crear una serie en base a un diccionario de Python"
   ]
  },
  {
   "cell_type": "code",
   "execution_count": 3,
   "id": "cab94ad9-5877-4c28-bbf7-fbd65b06fc06",
   "metadata": {},
   "outputs": [
    {
     "data": {
      "text/plain": [
       "Mexico      20\n",
       "Colombia    25\n",
       "USA         30\n",
       "dtype: int64"
      ]
     },
     "execution_count": 3,
     "metadata": {},
     "output_type": "execute_result"
    }
   ],
   "source": [
    "temperaturas = {\"Mexico\": 20, \"Colombia\": 25, \"USA\": 30}\n",
    "temp = pd.Series(temperaturas)\n",
    "temp"
   ]
  },
  {
   "cell_type": "markdown",
   "id": "0cb2b409-0827-4935-8b6a-da55cba5489e",
   "metadata": {},
   "source": [
    "Podemos crear igualmente una serie en base a asignarle a todos los elementos un valor en especifico, supongamos que creamos \n",
    "un DataFrame para las ventas de una empresa en el 2024 por lo cual que iniciaremos todas las ventas con $0"
   ]
  },
  {
   "cell_type": "code",
   "execution_count": 4,
   "id": "31d6a0ee-9e6d-4b2f-bf52-58cf878cef50",
   "metadata": {},
   "outputs": [
    {
     "data": {
      "text/plain": [
       "Enero         0.0\n",
       "Febrero       0.0\n",
       "Marzo         0.0\n",
       "Abril         0.0\n",
       "Mayo          0.0\n",
       "Junio         0.0\n",
       "Julio         0.0\n",
       "Agosto        0.0\n",
       "Septiembre    0.0\n",
       "Octubre       0.0\n",
       "Noviembre     0.0\n",
       "Diciembre     0.0\n",
       "dtype: float64"
      ]
     },
     "execution_count": 4,
     "metadata": {},
     "output_type": "execute_result"
    }
   ],
   "source": [
    "meses = [\"Enero\", \"Febrero\", \"Marzo\", \"Abril\", \"Mayo\", \"Junio\", \"Julio\", \"Agosto\", \"Septiembre\", \"Octubre\", \"Noviembre\", \"Diciembre\"]\n",
    "ventas = pd.Series(0.0, meses)\n",
    "ventas"
   ]
  },
  {
   "cell_type": "markdown",
   "id": "b95bf163-361c-4ec8-bc63-38986d11479a",
   "metadata": {},
   "source": [
    "## Accediendo a los elementos de una serie\n",
    "\n",
    "Podemos acceder por la posicion, usando los indices de manera similar a un array, ademas tabien podemos acceder mediante la clave que le asignamos con el diccionario"
   ]
  },
  {
   "cell_type": "code",
   "execution_count": 5,
   "id": "5290065f-2bc2-4331-b730-56e5694a43e8",
   "metadata": {},
   "outputs": [
    {
     "name": "stdout",
     "output_type": "stream",
     "text": [
      "Enero: 0.0\n",
      "Enero: 0.0\n"
     ]
    }
   ],
   "source": [
    "# Usamos el metodo iloc para acceder a una posicion especifica\n",
    "print(f'Enero: {ventas.iloc[0]}')\n",
    "\n",
    "# Usamos la llave de acceso para optener el valor \n",
    "print(f'Enero: {ventas[\"Enero\"]}')"
   ]
  },
  {
   "cell_type": "code",
   "execution_count": 6,
   "id": "0004a708-fdf7-43b8-9005-99091aac5287",
   "metadata": {},
   "outputs": [
    {
     "name": "stdout",
     "output_type": "stream",
     "text": [
      "Julio: 0.0\n"
     ]
    }
   ],
   "source": [
    "# Tambien podemos acceder mediante el metodo loc\n",
    "print(f'Julio: {ventas.loc[\"Julio\"]}')"
   ]
  },
  {
   "cell_type": "markdown",
   "id": "7d06d44e-6b4e-40d7-ab52-3440d74bac93",
   "metadata": {},
   "source": [
    "### Segmentacion y acceso\n",
    "\n",
    "Se puede usar segmentacion de listas para acceder a ciertos valores de la serie.\n",
    "[Inicio, Final-1] podemos verlo en cuestion de intervalos como un intervalo cerrado abierto\n",
    "Por ejemplo ventas[2:5] lo podemos interpretar como \n",
    "[2,5) = {2,3,4}\n",
    "\n",
    "Ya que en el segundo argumento se toma como un intervalo abierto, entonces se toma como n-1\n"
   ]
  },
  {
   "cell_type": "code",
   "execution_count": 7,
   "id": "6339b215-aaf1-4dd1-a1d2-c4bc0f020257",
   "metadata": {},
   "outputs": [
    {
     "data": {
      "text/plain": [
       "Marzo    0.0\n",
       "Abril    0.0\n",
       "Mayo     0.0\n",
       "dtype: float64"
      ]
     },
     "execution_count": 7,
     "metadata": {},
     "output_type": "execute_result"
    }
   ],
   "source": [
    "# Accediendo de la posicion 2 -> 4 de la Serie\n",
    "ventas.iloc[2:5]"
   ]
  },
  {
   "cell_type": "markdown",
   "id": "c6529747-3dcd-4ac1-8380-118c852178a8",
   "metadata": {},
   "source": [
    "### Operaciones aritmeticas con Series\n",
    "\n",
    "Las series de pandas son compatibles y similares a los arrays de numpy, por lo que podemos manipularlos con dicha libreria"
   ]
  },
  {
   "cell_type": "code",
   "execution_count": 8,
   "id": "edabc704-6802-4063-8aa3-2ac045a5f1e5",
   "metadata": {},
   "outputs": [
    {
     "data": {
      "text/plain": [
       "0.0"
      ]
     },
     "execution_count": 8,
     "metadata": {},
     "output_type": "execute_result"
    }
   ],
   "source": [
    "import numpy as np\n",
    "\n",
    "sumaVentas = np.sum(ventas)\n",
    "sumaVentas"
   ]
  },
  {
   "cell_type": "code",
   "execution_count": 9,
   "id": "c60f14ca-1749-4b86-ac11-c2498282c175",
   "metadata": {},
   "outputs": [
    {
     "data": {
      "text/plain": [
       "array([ 398,  549,  893, 1177, 1434, 1376, 1148,  901,  415, 1407,  907,\n",
       "        858])"
      ]
     },
     "execution_count": 9,
     "metadata": {},
     "output_type": "execute_result"
    }
   ],
   "source": [
    "ventaAleatoria = np.random.randint(low=0, high=1500, size=12)\n",
    "ventaAleatoria"
   ]
  },
  {
   "cell_type": "code",
   "execution_count": 10,
   "id": "54bd2044-5c8e-42dd-941c-ee2bcc3d2d53",
   "metadata": {},
   "outputs": [
    {
     "data": {
      "text/plain": [
       "Enero          398.0\n",
       "Febrero        549.0\n",
       "Marzo          893.0\n",
       "Abril         1177.0\n",
       "Mayo          1434.0\n",
       "Junio         1376.0\n",
       "Julio         1148.0\n",
       "Agosto         901.0\n",
       "Septiembre     415.0\n",
       "Octubre       1407.0\n",
       "Noviembre      907.0\n",
       "Diciembre      858.0\n",
       "dtype: float64"
      ]
     },
     "execution_count": 10,
     "metadata": {},
     "output_type": "execute_result"
    }
   ],
   "source": [
    "ventas += ventaAleatoria\n",
    "ventas"
   ]
  },
  {
   "cell_type": "code",
   "execution_count": 11,
   "id": "1c315ceb-0765-4744-ab9f-4eeda0f51f46",
   "metadata": {},
   "outputs": [
    {
     "name": "stdout",
     "output_type": "stream",
     "text": [
      "Suma anual 2024: $11463.0\n"
     ]
    }
   ],
   "source": [
    "# Obtenemos la suma de las ventas totales del año\n",
    "\n",
    "sumaVentas = np.sum(ventas)\n",
    "print(f'Suma anual 2024: ${sumaVentas}')"
   ]
  },
  {
   "cell_type": "code",
   "execution_count": 13,
   "id": "7188a422-713a-49b8-bef0-17a1e4acad29",
   "metadata": {},
   "outputs": [
    {
     "data": {
      "text/plain": [
       "Enero          398.0\n",
       "Febrero        549.0\n",
       "Marzo          893.0\n",
       "Abril         1177.0\n",
       "Mayo          1434.0\n",
       "Junio         1376.0\n",
       "Julio         1148.0\n",
       "Agosto         901.0\n",
       "Septiembre     415.0\n",
       "Octubre       1407.0\n",
       "Noviembre      907.0\n",
       "Diciembre      858.0\n",
       "Name: Ventas 2024, dtype: float64"
      ]
     },
     "execution_count": 13,
     "metadata": {},
     "output_type": "execute_result"
    }
   ],
   "source": [
    "ventas = pd.Series(ventas, name=\"Ventas 2024\")\n",
    "ventas"
   ]
  },
  {
   "cell_type": "markdown",
   "id": "234a7bce-2ed5-4575-a37c-0c01d4121b09",
   "metadata": {},
   "source": [
    "## Representacion grafica de las ventas en el 2024\n",
    "\n",
    "En base a nuestro ejemplo de ventas, podemos realizar analisis graficos de dichos comportamientos, para asi generar reportes mas atractivos y entendibles, no solo para compañeros de area si no para ejecutivos."
   ]
  },
  {
   "cell_type": "code",
   "execution_count": 14,
   "id": "92a7e346-e564-4d4d-aa06-b52251ef41d1",
   "metadata": {},
   "outputs": [
    {
     "data": {
      "image/png": "[encoded data removed]",
      "text/plain": [
       "<Figure size 640x480 with 1 Axes>"
      ]
     },
     "metadata": {},
     "output_type": "display_data"
    }
   ],
   "source": [
    "import matplotlib.pyplot as plt\n",
    "\n",
    "ventas.plot()\n",
    "plt.show()"
   ]
  },
  {
   "cell_type": "markdown",
   "id": "2fbd643d-c1ba-4005-a356-48bb61047cfb",
   "metadata": {},
   "source": [
    "# Creacion de un objeto DataFrame\n",
    "\n",
    "Los DataFrames son el tipo de dato principal y el mas utilizado en pandas para analisis de datos, y podemos generarlo en base a una serie compleja de datos, tanto archivos de excel, csv y demas formatos"
   ]
  },
  {
   "cell_type": "code",
   "execution_count": 16,
   "id": "6ac55e8f-417e-43d8-8d96-1a32d93fd63d",
   "metadata": {},
   "outputs": [
    {
     "data": {
      "text/html": [
       "<div>\n",
       "<style scoped>\n",
       "    .dataframe tbody tr th:only-of-type {\n",
       "        vertical-align: middle;\n",
       "    }\n",
       "\n",
       "    .dataframe tbody tr th {\n",
       "        vertical-align: top;\n",
       "    }\n",
       "\n",
       "    .dataframe thead th {\n",
       "        text-align: right;\n",
       "    }\n",
       "</style>\n",
       "<table border=\"1\" class=\"dataframe\">\n",
       "  <thead>\n",
       "    <tr style=\"text-align: right;\">\n",
       "      <th></th>\n",
       "      <th>Ingresos</th>\n",
       "      <th>Egresos</th>\n",
       "    </tr>\n",
       "  </thead>\n",
       "  <tbody>\n",
       "    <tr>\n",
       "      <th>Enero</th>\n",
       "      <td>257</td>\n",
       "      <td>611</td>\n",
       "    </tr>\n",
       "    <tr>\n",
       "      <th>Febrero</th>\n",
       "      <td>1092</td>\n",
       "      <td>681</td>\n",
       "    </tr>\n",
       "    <tr>\n",
       "      <th>Marzo</th>\n",
       "      <td>689</td>\n",
       "      <td>188</td>\n",
       "    </tr>\n",
       "    <tr>\n",
       "      <th>Abril</th>\n",
       "      <td>643</td>\n",
       "      <td>790</td>\n",
       "    </tr>\n",
       "    <tr>\n",
       "      <th>Mayo</th>\n",
       "      <td>251</td>\n",
       "      <td>580</td>\n",
       "    </tr>\n",
       "    <tr>\n",
       "      <th>Junio</th>\n",
       "      <td>821</td>\n",
       "      <td>1156</td>\n",
       "    </tr>\n",
       "    <tr>\n",
       "      <th>Julio</th>\n",
       "      <td>877</td>\n",
       "      <td>1228</td>\n",
       "    </tr>\n",
       "    <tr>\n",
       "      <th>Agosto</th>\n",
       "      <td>582</td>\n",
       "      <td>536</td>\n",
       "    </tr>\n",
       "    <tr>\n",
       "      <th>Septiembre</th>\n",
       "      <td>1177</td>\n",
       "      <td>1223</td>\n",
       "    </tr>\n",
       "    <tr>\n",
       "      <th>Octubre</th>\n",
       "      <td>306</td>\n",
       "      <td>175</td>\n",
       "    </tr>\n",
       "    <tr>\n",
       "      <th>Noviembre</th>\n",
       "      <td>221</td>\n",
       "      <td>323</td>\n",
       "    </tr>\n",
       "    <tr>\n",
       "      <th>Diciembre</th>\n",
       "      <td>1468</td>\n",
       "      <td>1433</td>\n",
       "    </tr>\n",
       "  </tbody>\n",
       "</table>\n",
       "</div>"
      ],
      "text/plain": [
       "            Ingresos  Egresos\n",
       "Enero            257      611\n",
       "Febrero         1092      681\n",
       "Marzo            689      188\n",
       "Abril            643      790\n",
       "Mayo             251      580\n",
       "Junio            821     1156\n",
       "Julio            877     1228\n",
       "Agosto           582      536\n",
       "Septiembre      1177     1223\n",
       "Octubre          306      175\n",
       "Noviembre        221      323\n",
       "Diciembre       1468     1433"
      ]
     },
     "execution_count": 16,
     "metadata": {},
     "output_type": "execute_result"
    }
   ],
   "source": [
    "balance = {\n",
    "    \"Ingresos\": pd.Series( np.random.randint(low=0, high=1500, size=12), meses), \n",
    "    \"Egresos\": pd.Series( np.random.randint(low=0, high=1500, size=12), meses)\n",
    "}\n",
    "\n",
    "df = pd.DataFrame(balance)\n",
    "df"
   ]
  },
  {
   "cell_type": "code",
   "execution_count": 29,
   "id": "1b03cd77-f675-4543-b59e-d7191a42c0af",
   "metadata": {},
   "outputs": [
    {
     "data": {
      "text/plain": [
       "Enero          257\n",
       "Febrero       1092\n",
       "Marzo          689\n",
       "Abril          643\n",
       "Mayo           251\n",
       "Junio          821\n",
       "Julio          877\n",
       "Agosto         582\n",
       "Septiembre    1177\n",
       "Octubre        306\n",
       "Noviembre      221\n",
       "Diciembre     1468\n",
       "Name: Ingresos, dtype: int32"
      ]
     },
     "execution_count": 29,
     "metadata": {},
     "output_type": "execute_result"
    }
   ],
   "source": [
    "# Accederemos a los valores de las columnas especificas de un DataFrame\n",
    "df[\"Ingresos\"]"
   ]
  },
  {
   "cell_type": "code",
   "execution_count": 32,
   "id": "d216a19d-b2c2-46ee-8c6f-e43861713552",
   "metadata": {},
   "outputs": [
    {
     "data": {
      "text/html": [
       "<div>\n",
       "<style scoped>\n",
       "    .dataframe tbody tr th:only-of-type {\n",
       "        vertical-align: middle;\n",
       "    }\n",
       "\n",
       "    .dataframe tbody tr th {\n",
       "        vertical-align: top;\n",
       "    }\n",
       "\n",
       "    .dataframe thead th {\n",
       "        text-align: right;\n",
       "    }\n",
       "</style>\n",
       "<table border=\"1\" class=\"dataframe\">\n",
       "  <thead>\n",
       "    <tr style=\"text-align: right;\">\n",
       "      <th></th>\n",
       "      <th>Ingresos</th>\n",
       "      <th>Egresos</th>\n",
       "    </tr>\n",
       "  </thead>\n",
       "  <tbody>\n",
       "    <tr>\n",
       "      <th>Enero</th>\n",
       "      <td>257</td>\n",
       "      <td>611</td>\n",
       "    </tr>\n",
       "    <tr>\n",
       "      <th>Febrero</th>\n",
       "      <td>1092</td>\n",
       "      <td>681</td>\n",
       "    </tr>\n",
       "    <tr>\n",
       "      <th>Marzo</th>\n",
       "      <td>689</td>\n",
       "      <td>188</td>\n",
       "    </tr>\n",
       "    <tr>\n",
       "      <th>Abril</th>\n",
       "      <td>643</td>\n",
       "      <td>790</td>\n",
       "    </tr>\n",
       "    <tr>\n",
       "      <th>Mayo</th>\n",
       "      <td>251</td>\n",
       "      <td>580</td>\n",
       "    </tr>\n",
       "    <tr>\n",
       "      <th>Junio</th>\n",
       "      <td>821</td>\n",
       "      <td>1156</td>\n",
       "    </tr>\n",
       "    <tr>\n",
       "      <th>Julio</th>\n",
       "      <td>877</td>\n",
       "      <td>1228</td>\n",
       "    </tr>\n",
       "    <tr>\n",
       "      <th>Agosto</th>\n",
       "      <td>582</td>\n",
       "      <td>536</td>\n",
       "    </tr>\n",
       "    <tr>\n",
       "      <th>Septiembre</th>\n",
       "      <td>1177</td>\n",
       "      <td>1223</td>\n",
       "    </tr>\n",
       "    <tr>\n",
       "      <th>Octubre</th>\n",
       "      <td>306</td>\n",
       "      <td>175</td>\n",
       "    </tr>\n",
       "    <tr>\n",
       "      <th>Noviembre</th>\n",
       "      <td>221</td>\n",
       "      <td>323</td>\n",
       "    </tr>\n",
       "    <tr>\n",
       "      <th>Diciembre</th>\n",
       "      <td>1468</td>\n",
       "      <td>1433</td>\n",
       "    </tr>\n",
       "  </tbody>\n",
       "</table>\n",
       "</div>"
      ],
      "text/plain": [
       "            Ingresos  Egresos\n",
       "Enero            257      611\n",
       "Febrero         1092      681\n",
       "Marzo            689      188\n",
       "Abril            643      790\n",
       "Mayo             251      580\n",
       "Junio            821     1156\n",
       "Julio            877     1228\n",
       "Agosto           582      536\n",
       "Septiembre      1177     1223\n",
       "Octubre          306      175\n",
       "Noviembre        221      323\n",
       "Diciembre       1468     1433"
      ]
     },
     "execution_count": 32,
     "metadata": {},
     "output_type": "execute_result"
    }
   ],
   "source": [
    "# Accediendo a multiples columnas, en este caso son solo 2, sin embargo funciona para n-columnas\n",
    "# Debemos de pasar un array con la lista de las columnas que deseamos acceder\n",
    "df[[\"Ingresos\", \"Egresos\"]]"
   ]
  },
  {
   "cell_type": "markdown",
   "id": "aa58d8e8-d858-4266-9dc6-1dfed053aed0",
   "metadata": {},
   "source": [
    "### Expresiones booleanas y filtracion de datos\n",
    "\n",
    "Podemos filtrar datos en base a condicionales, y pandas se encarga de retornar si la entrada cumple o no la condicion\n"
   ]
  },
  {
   "cell_type": "code",
   "execution_count": 35,
   "id": "8242318b-1604-44db-be0d-c96d4d74280f",
   "metadata": {},
   "outputs": [
    {
     "data": {
      "text/plain": [
       "Enero         False\n",
       "Febrero        True\n",
       "Marzo         False\n",
       "Abril         False\n",
       "Mayo          False\n",
       "Junio         False\n",
       "Julio         False\n",
       "Agosto        False\n",
       "Septiembre     True\n",
       "Octubre       False\n",
       "Noviembre     False\n",
       "Diciembre      True\n",
       "Name: Ingresos, dtype: bool"
      ]
     },
     "execution_count": 35,
     "metadata": {},
     "output_type": "execute_result"
    }
   ],
   "source": [
    "df[\"Ingresos\"] > 1000"
   ]
  },
  {
   "cell_type": "markdown",
   "id": "be790a75-0d7f-40ba-8c4c-07eda207836a",
   "metadata": {},
   "source": [
    "Podemos combinar expresiones para acceder solo a los elementos que cumplan la condicion"
   ]
  },
  {
   "cell_type": "code",
   "execution_count": 36,
   "id": "4e457874-0868-4af9-bf94-cc1b21fdfdd2",
   "metadata": {},
   "outputs": [
    {
     "data": {
      "text/html": [
       "<div>\n",
       "<style scoped>\n",
       "    .dataframe tbody tr th:only-of-type {\n",
       "        vertical-align: middle;\n",
       "    }\n",
       "\n",
       "    .dataframe tbody tr th {\n",
       "        vertical-align: top;\n",
       "    }\n",
       "\n",
       "    .dataframe thead th {\n",
       "        text-align: right;\n",
       "    }\n",
       "</style>\n",
       "<table border=\"1\" class=\"dataframe\">\n",
       "  <thead>\n",
       "    <tr style=\"text-align: right;\">\n",
       "      <th></th>\n",
       "      <th>Ingresos</th>\n",
       "      <th>Egresos</th>\n",
       "    </tr>\n",
       "  </thead>\n",
       "  <tbody>\n",
       "    <tr>\n",
       "      <th>Febrero</th>\n",
       "      <td>1092</td>\n",
       "      <td>681</td>\n",
       "    </tr>\n",
       "    <tr>\n",
       "      <th>Septiembre</th>\n",
       "      <td>1177</td>\n",
       "      <td>1223</td>\n",
       "    </tr>\n",
       "    <tr>\n",
       "      <th>Diciembre</th>\n",
       "      <td>1468</td>\n",
       "      <td>1433</td>\n",
       "    </tr>\n",
       "  </tbody>\n",
       "</table>\n",
       "</div>"
      ],
      "text/plain": [
       "            Ingresos  Egresos\n",
       "Febrero         1092      681\n",
       "Septiembre      1177     1223\n",
       "Diciembre       1468     1433"
      ]
     },
     "execution_count": 36,
     "metadata": {},
     "output_type": "execute_result"
    }
   ],
   "source": [
    "df[df[\"Ingresos\"] > 1000]"
   ]
  },
  {
   "cell_type": "markdown",
   "id": "e1e609ad-8277-48ab-9dd8-9006fcf19936",
   "metadata": {},
   "source": [
    "### Accediendo a los elementos de las filas del DataFrame\n",
    "\n",
    "Accedemos a los elementos de una fila especifica de un DataFrame igual que lo hariamos a los elementos de una Serie"
   ]
  },
  {
   "cell_type": "code",
   "execution_count": 37,
   "id": "d45751bc-bed5-4cb4-bca9-3cd865e957dd",
   "metadata": {},
   "outputs": [
    {
     "data": {
      "text/html": [
       "<div>\n",
       "<style scoped>\n",
       "    .dataframe tbody tr th:only-of-type {\n",
       "        vertical-align: middle;\n",
       "    }\n",
       "\n",
       "    .dataframe tbody tr th {\n",
       "        vertical-align: top;\n",
       "    }\n",
       "\n",
       "    .dataframe thead th {\n",
       "        text-align: right;\n",
       "    }\n",
       "</style>\n",
       "<table border=\"1\" class=\"dataframe\">\n",
       "  <thead>\n",
       "    <tr style=\"text-align: right;\">\n",
       "      <th></th>\n",
       "      <th>Ingresos</th>\n",
       "      <th>Egresos</th>\n",
       "    </tr>\n",
       "  </thead>\n",
       "  <tbody>\n",
       "    <tr>\n",
       "      <th>Enero</th>\n",
       "      <td>257</td>\n",
       "      <td>611</td>\n",
       "    </tr>\n",
       "    <tr>\n",
       "      <th>Febrero</th>\n",
       "      <td>1092</td>\n",
       "      <td>681</td>\n",
       "    </tr>\n",
       "    <tr>\n",
       "      <th>Marzo</th>\n",
       "      <td>689</td>\n",
       "      <td>188</td>\n",
       "    </tr>\n",
       "    <tr>\n",
       "      <th>Abril</th>\n",
       "      <td>643</td>\n",
       "      <td>790</td>\n",
       "    </tr>\n",
       "    <tr>\n",
       "      <th>Mayo</th>\n",
       "      <td>251</td>\n",
       "      <td>580</td>\n",
       "    </tr>\n",
       "    <tr>\n",
       "      <th>Junio</th>\n",
       "      <td>821</td>\n",
       "      <td>1156</td>\n",
       "    </tr>\n",
       "    <tr>\n",
       "      <th>Julio</th>\n",
       "      <td>877</td>\n",
       "      <td>1228</td>\n",
       "    </tr>\n",
       "    <tr>\n",
       "      <th>Agosto</th>\n",
       "      <td>582</td>\n",
       "      <td>536</td>\n",
       "    </tr>\n",
       "    <tr>\n",
       "      <th>Septiembre</th>\n",
       "      <td>1177</td>\n",
       "      <td>1223</td>\n",
       "    </tr>\n",
       "    <tr>\n",
       "      <th>Octubre</th>\n",
       "      <td>306</td>\n",
       "      <td>175</td>\n",
       "    </tr>\n",
       "    <tr>\n",
       "      <th>Noviembre</th>\n",
       "      <td>221</td>\n",
       "      <td>323</td>\n",
       "    </tr>\n",
       "    <tr>\n",
       "      <th>Diciembre</th>\n",
       "      <td>1468</td>\n",
       "      <td>1433</td>\n",
       "    </tr>\n",
       "  </tbody>\n",
       "</table>\n",
       "</div>"
      ],
      "text/plain": [
       "            Ingresos  Egresos\n",
       "Enero            257      611\n",
       "Febrero         1092      681\n",
       "Marzo            689      188\n",
       "Abril            643      790\n",
       "Mayo             251      580\n",
       "Junio            821     1156\n",
       "Julio            877     1228\n",
       "Agosto           582      536\n",
       "Septiembre      1177     1223\n",
       "Octubre          306      175\n",
       "Noviembre        221      323\n",
       "Diciembre       1468     1433"
      ]
     },
     "execution_count": 37,
     "metadata": {},
     "output_type": "execute_result"
    }
   ],
   "source": [
    "df"
   ]
  },
  {
   "cell_type": "code",
   "execution_count": 42,
   "id": "f77ef6fe-78ad-4b92-8a66-bb24d4949329",
   "metadata": {},
   "outputs": [
    {
     "data": {
      "text/plain": [
       "Ingresos    257\n",
       "Egresos     611\n",
       "Name: Enero, dtype: int32"
      ]
     },
     "execution_count": 42,
     "metadata": {},
     "output_type": "execute_result"
    }
   ],
   "source": [
    "df.loc[\"Enero\"]"
   ]
  },
  {
   "cell_type": "code",
   "execution_count": 43,
   "id": "3ef23fef-93f6-4763-a687-1907379dab41",
   "metadata": {},
   "outputs": [
    {
     "data": {
      "text/plain": [
       "Ingresos    1468\n",
       "Egresos     1433\n",
       "Name: Diciembre, dtype: int32"
      ]
     },
     "execution_count": 43,
     "metadata": {},
     "output_type": "execute_result"
    }
   ],
   "source": [
    "df.iloc[11]"
   ]
  },
  {
   "cell_type": "code",
   "execution_count": 40,
   "id": "0d32fab5-7c3f-425f-97f6-d5ebd6cffa97",
   "metadata": {},
   "outputs": [
    {
     "data": {
      "text/html": [
       "<div>\n",
       "<style scoped>\n",
       "    .dataframe tbody tr th:only-of-type {\n",
       "        vertical-align: middle;\n",
       "    }\n",
       "\n",
       "    .dataframe tbody tr th {\n",
       "        vertical-align: top;\n",
       "    }\n",
       "\n",
       "    .dataframe thead th {\n",
       "        text-align: right;\n",
       "    }\n",
       "</style>\n",
       "<table border=\"1\" class=\"dataframe\">\n",
       "  <thead>\n",
       "    <tr style=\"text-align: right;\">\n",
       "      <th></th>\n",
       "      <th>Ingresos</th>\n",
       "      <th>Egresos</th>\n",
       "    </tr>\n",
       "  </thead>\n",
       "  <tbody>\n",
       "    <tr>\n",
       "      <th>Enero</th>\n",
       "      <td>257</td>\n",
       "      <td>611</td>\n",
       "    </tr>\n",
       "    <tr>\n",
       "      <th>Febrero</th>\n",
       "      <td>1092</td>\n",
       "      <td>681</td>\n",
       "    </tr>\n",
       "    <tr>\n",
       "      <th>Marzo</th>\n",
       "      <td>689</td>\n",
       "      <td>188</td>\n",
       "    </tr>\n",
       "    <tr>\n",
       "      <th>Abril</th>\n",
       "      <td>643</td>\n",
       "      <td>790</td>\n",
       "    </tr>\n",
       "  </tbody>\n",
       "</table>\n",
       "</div>"
      ],
      "text/plain": [
       "         Ingresos  Egresos\n",
       "Enero         257      611\n",
       "Febrero      1092      681\n",
       "Marzo         689      188\n",
       "Abril         643      790"
      ]
     },
     "execution_count": 40,
     "metadata": {},
     "output_type": "execute_result"
    }
   ],
   "source": [
    "df.iloc[0:4]"
   ]
  },
  {
   "cell_type": "markdown",
   "id": "b1149d92-0bde-417f-ae39-679891b82a3f",
   "metadata": {},
   "source": [
    "## Consulta avanzada mediante queries"
   ]
  },
  {
   "cell_type": "code",
   "execution_count": 45,
   "id": "f5d6578d-db76-4985-87e1-0275f05f1da7",
   "metadata": {},
   "outputs": [
    {
     "data": {
      "text/html": [
       "<div>\n",
       "<style scoped>\n",
       "    .dataframe tbody tr th:only-of-type {\n",
       "        vertical-align: middle;\n",
       "    }\n",
       "\n",
       "    .dataframe tbody tr th {\n",
       "        vertical-align: top;\n",
       "    }\n",
       "\n",
       "    .dataframe thead th {\n",
       "        text-align: right;\n",
       "    }\n",
       "</style>\n",
       "<table border=\"1\" class=\"dataframe\">\n",
       "  <thead>\n",
       "    <tr style=\"text-align: right;\">\n",
       "      <th></th>\n",
       "      <th>Ingresos</th>\n",
       "      <th>Egresos</th>\n",
       "    </tr>\n",
       "  </thead>\n",
       "  <tbody>\n",
       "    <tr>\n",
       "      <th>Febrero</th>\n",
       "      <td>1092</td>\n",
       "      <td>681</td>\n",
       "    </tr>\n",
       "  </tbody>\n",
       "</table>\n",
       "</div>"
      ],
      "text/plain": [
       "         Ingresos  Egresos\n",
       "Febrero      1092      681"
      ]
     },
     "execution_count": 45,
     "metadata": {},
     "output_type": "execute_result"
    }
   ],
   "source": [
    "df.query(\"Ingresos >= 800 and Egresos < 1000\")"
   ]
  },
  {
   "cell_type": "code",
   "execution_count": 62,
   "id": "3aece355-3244-41d4-b344-f8a53e9bc030",
   "metadata": {},
   "outputs": [
    {
     "data": {
      "image/png": "[encoded data removed]",
      "text/plain": [
       "<Figure size 1500x500 with 1 Axes>"
      ]
     },
     "metadata": {},
     "output_type": "display_data"
    }
   ],
   "source": [
    "# Graficamos la relacion de ambos\n",
    "\n",
    "plt.figure(figsize=(15,5))\n",
    "plt.plot(df[\"Ingresos\"], \"c\", label=\"Ingresos\")\n",
    "plt.ylabel(\"Miles de Pesos\")\n",
    "plt.xlabel(\"2024\")\n",
    "plt.plot(df[\"Egresos\"], \"r\", label=\"Egresos\")\n",
    "plt.legend(loc=\"best\")\n",
    "plt.show()"
   ]
  },
  {
   "cell_type": "markdown",
   "id": "30875cb8-4933-4f2d-9055-9c53e47baf29",
   "metadata": {},
   "source": [
    "Calculamos el balance total para analizar si hubo perdidas o ganancias en el año"
   ]
  },
  {
   "cell_type": "code",
   "execution_count": 64,
   "id": "86090e8b-99d6-4249-91ab-ce77c742f8de",
   "metadata": {},
   "outputs": [
    {
     "name": "stdout",
     "output_type": "stream",
     "text": [
      "Balance total: $-540\n"
     ]
    },
    {
     "data": {
      "image/png": "[encoded data removed]",
      "text/plain": [
       "<Figure size 1500x500 with 1 Axes>"
      ]
     },
     "metadata": {},
     "output_type": "display_data"
    }
   ],
   "source": [
    "totalVentas = np.sum(df[\"Ingresos\"])\n",
    "totalGastos = np.sum(df[\"Egresos\"])\n",
    "\n",
    "print(f'Balance total: ${totalVentas - totalGastos}')\n",
    "\n",
    "plt.figure(figsize=(15,5))\n",
    "plt.plot((df[\"Ingresos\"] - df[\"Egresos\"]), label=\"Balance\")\n",
    "plt.legend()\n",
    "plt.show()"
   ]
  },
  {
   "cell_type": "markdown",
   "id": "6a47e327-afa1-4ff1-8038-f0f896cd4b38",
   "metadata": {},
   "source": [
    "Podemos ver que hubo perdidas por $540 000 pesos"
   ]
  },
  {
   "cell_type": "markdown",
   "id": "6c28db95-f4c3-4f86-ab6f-097804348aa6",
   "metadata": {},
   "source": [
    "## Modificacion de un DataFrame"
   ]
  },
  {
   "cell_type": "code",
   "execution_count": 55,
   "id": "ae46598c-3e7f-4235-8d3e-ed7b9b1151bd",
   "metadata": {},
   "outputs": [
    {
     "data": {
      "text/html": [
       "<div>\n",
       "<style scoped>\n",
       "    .dataframe tbody tr th:only-of-type {\n",
       "        vertical-align: middle;\n",
       "    }\n",
       "\n",
       "    .dataframe tbody tr th {\n",
       "        vertical-align: top;\n",
       "    }\n",
       "\n",
       "    .dataframe thead th {\n",
       "        text-align: right;\n",
       "    }\n",
       "</style>\n",
       "<table border=\"1\" class=\"dataframe\">\n",
       "  <thead>\n",
       "    <tr style=\"text-align: right;\">\n",
       "      <th></th>\n",
       "      <th>Ingresos</th>\n",
       "      <th>Egresos</th>\n",
       "      <th>Balances</th>\n",
       "    </tr>\n",
       "  </thead>\n",
       "  <tbody>\n",
       "    <tr>\n",
       "      <th>Enero</th>\n",
       "      <td>257</td>\n",
       "      <td>611</td>\n",
       "      <td>-354</td>\n",
       "    </tr>\n",
       "    <tr>\n",
       "      <th>Febrero</th>\n",
       "      <td>1092</td>\n",
       "      <td>681</td>\n",
       "      <td>411</td>\n",
       "    </tr>\n",
       "    <tr>\n",
       "      <th>Marzo</th>\n",
       "      <td>689</td>\n",
       "      <td>188</td>\n",
       "      <td>501</td>\n",
       "    </tr>\n",
       "    <tr>\n",
       "      <th>Abril</th>\n",
       "      <td>643</td>\n",
       "      <td>790</td>\n",
       "      <td>-147</td>\n",
       "    </tr>\n",
       "    <tr>\n",
       "      <th>Mayo</th>\n",
       "      <td>251</td>\n",
       "      <td>580</td>\n",
       "      <td>-329</td>\n",
       "    </tr>\n",
       "    <tr>\n",
       "      <th>Junio</th>\n",
       "      <td>821</td>\n",
       "      <td>1156</td>\n",
       "      <td>-335</td>\n",
       "    </tr>\n",
       "    <tr>\n",
       "      <th>Julio</th>\n",
       "      <td>877</td>\n",
       "      <td>1228</td>\n",
       "      <td>-351</td>\n",
       "    </tr>\n",
       "    <tr>\n",
       "      <th>Agosto</th>\n",
       "      <td>582</td>\n",
       "      <td>536</td>\n",
       "      <td>46</td>\n",
       "    </tr>\n",
       "    <tr>\n",
       "      <th>Septiembre</th>\n",
       "      <td>1177</td>\n",
       "      <td>1223</td>\n",
       "      <td>-46</td>\n",
       "    </tr>\n",
       "    <tr>\n",
       "      <th>Octubre</th>\n",
       "      <td>306</td>\n",
       "      <td>175</td>\n",
       "      <td>131</td>\n",
       "    </tr>\n",
       "    <tr>\n",
       "      <th>Noviembre</th>\n",
       "      <td>221</td>\n",
       "      <td>323</td>\n",
       "      <td>-102</td>\n",
       "    </tr>\n",
       "    <tr>\n",
       "      <th>Diciembre</th>\n",
       "      <td>1468</td>\n",
       "      <td>1433</td>\n",
       "      <td>35</td>\n",
       "    </tr>\n",
       "  </tbody>\n",
       "</table>\n",
       "</div>"
      ],
      "text/plain": [
       "            Ingresos  Egresos  Balances\n",
       "Enero            257      611      -354\n",
       "Febrero         1092      681       411\n",
       "Marzo            689      188       501\n",
       "Abril            643      790      -147\n",
       "Mayo             251      580      -329\n",
       "Junio            821     1156      -335\n",
       "Julio            877     1228      -351\n",
       "Agosto           582      536        46\n",
       "Septiembre      1177     1223       -46\n",
       "Octubre          306      175       131\n",
       "Noviembre        221      323      -102\n",
       "Diciembre       1468     1433        35"
      ]
     },
     "execution_count": 55,
     "metadata": {},
     "output_type": "execute_result"
    }
   ],
   "source": [
    "# Añadir una nueva columna a el dataframe\n",
    "\n",
    "balances = df[\"Ingresos\"] - df[\"Egresos\"]\n",
    "df[\"Balances\"] = balances\n",
    "df"
   ]
  },
  {
   "cell_type": "code",
   "execution_count": 53,
   "id": "5076273c-6f86-4da8-827d-d19cbc8312d3",
   "metadata": {},
   "outputs": [
    {
     "data": {
      "text/html": [
       "<div>\n",
       "<style scoped>\n",
       "    .dataframe tbody tr th:only-of-type {\n",
       "        vertical-align: middle;\n",
       "    }\n",
       "\n",
       "    .dataframe tbody tr th {\n",
       "        vertical-align: top;\n",
       "    }\n",
       "\n",
       "    .dataframe thead th {\n",
       "        text-align: right;\n",
       "    }\n",
       "</style>\n",
       "<table border=\"1\" class=\"dataframe\">\n",
       "  <thead>\n",
       "    <tr style=\"text-align: right;\">\n",
       "      <th></th>\n",
       "      <th>Ingresos</th>\n",
       "      <th>Egresos</th>\n",
       "      <th>balances</th>\n",
       "    </tr>\n",
       "  </thead>\n",
       "  <tbody>\n",
       "    <tr>\n",
       "      <th>Enero</th>\n",
       "      <td>257</td>\n",
       "      <td>611</td>\n",
       "      <td>-354</td>\n",
       "    </tr>\n",
       "    <tr>\n",
       "      <th>Febrero</th>\n",
       "      <td>1092</td>\n",
       "      <td>681</td>\n",
       "      <td>411</td>\n",
       "    </tr>\n",
       "    <tr>\n",
       "      <th>Marzo</th>\n",
       "      <td>689</td>\n",
       "      <td>188</td>\n",
       "      <td>501</td>\n",
       "    </tr>\n",
       "    <tr>\n",
       "      <th>Abril</th>\n",
       "      <td>643</td>\n",
       "      <td>790</td>\n",
       "      <td>-147</td>\n",
       "    </tr>\n",
       "    <tr>\n",
       "      <th>Mayo</th>\n",
       "      <td>251</td>\n",
       "      <td>580</td>\n",
       "      <td>-329</td>\n",
       "    </tr>\n",
       "    <tr>\n",
       "      <th>Junio</th>\n",
       "      <td>821</td>\n",
       "      <td>1156</td>\n",
       "      <td>-335</td>\n",
       "    </tr>\n",
       "    <tr>\n",
       "      <th>Julio</th>\n",
       "      <td>877</td>\n",
       "      <td>1228</td>\n",
       "      <td>-351</td>\n",
       "    </tr>\n",
       "    <tr>\n",
       "      <th>Agosto</th>\n",
       "      <td>582</td>\n",
       "      <td>536</td>\n",
       "      <td>46</td>\n",
       "    </tr>\n",
       "    <tr>\n",
       "      <th>Septiembre</th>\n",
       "      <td>1177</td>\n",
       "      <td>1223</td>\n",
       "      <td>-46</td>\n",
       "    </tr>\n",
       "    <tr>\n",
       "      <th>Octubre</th>\n",
       "      <td>306</td>\n",
       "      <td>175</td>\n",
       "      <td>131</td>\n",
       "    </tr>\n",
       "    <tr>\n",
       "      <th>Noviembre</th>\n",
       "      <td>221</td>\n",
       "      <td>323</td>\n",
       "      <td>-102</td>\n",
       "    </tr>\n",
       "    <tr>\n",
       "      <th>Diciembre</th>\n",
       "      <td>1468</td>\n",
       "      <td>1433</td>\n",
       "      <td>35</td>\n",
       "    </tr>\n",
       "  </tbody>\n",
       "</table>\n",
       "</div>"
      ],
      "text/plain": [
       "            Ingresos  Egresos  balances\n",
       "Enero            257      611      -354\n",
       "Febrero         1092      681       411\n",
       "Marzo            689      188       501\n",
       "Abril            643      790      -147\n",
       "Mayo             251      580      -329\n",
       "Junio            821     1156      -335\n",
       "Julio            877     1228      -351\n",
       "Agosto           582      536        46\n",
       "Septiembre      1177     1223       -46\n",
       "Octubre          306      175       131\n",
       "Noviembre        221      323      -102\n",
       "Diciembre       1468     1433        35"
      ]
     },
     "execution_count": 53,
     "metadata": {},
     "output_type": "execute_result"
    }
   ],
   "source": [
    "# Añadiendo una nueva columna y retornando un nuevo DataFrame\n",
    "df_mod = df.assign(balances = [-354, 411, 501, -147, -329, -335, -351, 46, -46, 131, -102, 35])\n",
    "df_mod"
   ]
  },
  {
   "cell_type": "code",
   "execution_count": 47,
   "id": "9a4ab692-c6ad-4c17-bc9c-377a5ca66647",
   "metadata": {},
   "outputs": [
    {
     "data": {
      "text/html": [
       "<div>\n",
       "<style scoped>\n",
       "    .dataframe tbody tr th:only-of-type {\n",
       "        vertical-align: middle;\n",
       "    }\n",
       "\n",
       "    .dataframe tbody tr th {\n",
       "        vertical-align: top;\n",
       "    }\n",
       "\n",
       "    .dataframe thead th {\n",
       "        text-align: right;\n",
       "    }\n",
       "</style>\n",
       "<table border=\"1\" class=\"dataframe\">\n",
       "  <thead>\n",
       "    <tr style=\"text-align: right;\">\n",
       "      <th></th>\n",
       "      <th>Ingresos</th>\n",
       "      <th>Egresos</th>\n",
       "    </tr>\n",
       "  </thead>\n",
       "  <tbody>\n",
       "    <tr>\n",
       "      <th>Enero</th>\n",
       "      <td>257</td>\n",
       "      <td>611</td>\n",
       "    </tr>\n",
       "    <tr>\n",
       "      <th>Febrero</th>\n",
       "      <td>1092</td>\n",
       "      <td>681</td>\n",
       "    </tr>\n",
       "    <tr>\n",
       "      <th>Marzo</th>\n",
       "      <td>689</td>\n",
       "      <td>188</td>\n",
       "    </tr>\n",
       "    <tr>\n",
       "      <th>Abril</th>\n",
       "      <td>643</td>\n",
       "      <td>790</td>\n",
       "    </tr>\n",
       "    <tr>\n",
       "      <th>Mayo</th>\n",
       "      <td>251</td>\n",
       "      <td>580</td>\n",
       "    </tr>\n",
       "    <tr>\n",
       "      <th>Junio</th>\n",
       "      <td>821</td>\n",
       "      <td>1156</td>\n",
       "    </tr>\n",
       "    <tr>\n",
       "      <th>Julio</th>\n",
       "      <td>877</td>\n",
       "      <td>1228</td>\n",
       "    </tr>\n",
       "    <tr>\n",
       "      <th>Agosto</th>\n",
       "      <td>582</td>\n",
       "      <td>536</td>\n",
       "    </tr>\n",
       "    <tr>\n",
       "      <th>Septiembre</th>\n",
       "      <td>1177</td>\n",
       "      <td>1223</td>\n",
       "    </tr>\n",
       "    <tr>\n",
       "      <th>Octubre</th>\n",
       "      <td>306</td>\n",
       "      <td>175</td>\n",
       "    </tr>\n",
       "    <tr>\n",
       "      <th>Noviembre</th>\n",
       "      <td>221</td>\n",
       "      <td>323</td>\n",
       "    </tr>\n",
       "    <tr>\n",
       "      <th>Diciembre</th>\n",
       "      <td>1468</td>\n",
       "      <td>1433</td>\n",
       "    </tr>\n",
       "  </tbody>\n",
       "</table>\n",
       "</div>"
      ],
      "text/plain": [
       "            Ingresos  Egresos\n",
       "Enero            257      611\n",
       "Febrero         1092      681\n",
       "Marzo            689      188\n",
       "Abril            643      790\n",
       "Mayo             251      580\n",
       "Junio            821     1156\n",
       "Julio            877     1228\n",
       "Agosto           582      536\n",
       "Septiembre      1177     1223\n",
       "Octubre          306      175\n",
       "Noviembre        221      323\n",
       "Diciembre       1468     1433"
      ]
     },
     "execution_count": 47,
     "metadata": {},
     "output_type": "execute_result"
    }
   ],
   "source": [
    "# Eliminar una columna existente del DataFrame\n",
    "del df[\"Balances\"]\n",
    "df"
   ]
  },
  {
   "cell_type": "code",
   "execution_count": 57,
   "id": "92fd6f59-7702-40cd-bb53-0d8eb0f7fdd8",
   "metadata": {},
   "outputs": [
    {
     "data": {
      "text/html": [
       "<div>\n",
       "<style scoped>\n",
       "    .dataframe tbody tr th:only-of-type {\n",
       "        vertical-align: middle;\n",
       "    }\n",
       "\n",
       "    .dataframe tbody tr th {\n",
       "        vertical-align: top;\n",
       "    }\n",
       "\n",
       "    .dataframe thead th {\n",
       "        text-align: right;\n",
       "    }\n",
       "</style>\n",
       "<table border=\"1\" class=\"dataframe\">\n",
       "  <thead>\n",
       "    <tr style=\"text-align: right;\">\n",
       "      <th></th>\n",
       "      <th>Ingresos</th>\n",
       "      <th>Egresos</th>\n",
       "    </tr>\n",
       "  </thead>\n",
       "  <tbody>\n",
       "    <tr>\n",
       "      <th>Enero</th>\n",
       "      <td>257</td>\n",
       "      <td>611</td>\n",
       "    </tr>\n",
       "    <tr>\n",
       "      <th>Febrero</th>\n",
       "      <td>1092</td>\n",
       "      <td>681</td>\n",
       "    </tr>\n",
       "    <tr>\n",
       "      <th>Marzo</th>\n",
       "      <td>689</td>\n",
       "      <td>188</td>\n",
       "    </tr>\n",
       "    <tr>\n",
       "      <th>Abril</th>\n",
       "      <td>643</td>\n",
       "      <td>790</td>\n",
       "    </tr>\n",
       "    <tr>\n",
       "      <th>Mayo</th>\n",
       "      <td>251</td>\n",
       "      <td>580</td>\n",
       "    </tr>\n",
       "    <tr>\n",
       "      <th>Junio</th>\n",
       "      <td>821</td>\n",
       "      <td>1156</td>\n",
       "    </tr>\n",
       "    <tr>\n",
       "      <th>Julio</th>\n",
       "      <td>877</td>\n",
       "      <td>1228</td>\n",
       "    </tr>\n",
       "    <tr>\n",
       "      <th>Agosto</th>\n",
       "      <td>582</td>\n",
       "      <td>536</td>\n",
       "    </tr>\n",
       "    <tr>\n",
       "      <th>Septiembre</th>\n",
       "      <td>1177</td>\n",
       "      <td>1223</td>\n",
       "    </tr>\n",
       "    <tr>\n",
       "      <th>Octubre</th>\n",
       "      <td>306</td>\n",
       "      <td>175</td>\n",
       "    </tr>\n",
       "    <tr>\n",
       "      <th>Noviembre</th>\n",
       "      <td>221</td>\n",
       "      <td>323</td>\n",
       "    </tr>\n",
       "    <tr>\n",
       "      <th>Diciembre</th>\n",
       "      <td>1468</td>\n",
       "      <td>1433</td>\n",
       "    </tr>\n",
       "  </tbody>\n",
       "</table>\n",
       "</div>"
      ],
      "text/plain": [
       "            Ingresos  Egresos\n",
       "Enero            257      611\n",
       "Febrero         1092      681\n",
       "Marzo            689      188\n",
       "Abril            643      790\n",
       "Mayo             251      580\n",
       "Junio            821     1156\n",
       "Julio            877     1228\n",
       "Agosto           582      536\n",
       "Septiembre      1177     1223\n",
       "Octubre          306      175\n",
       "Noviembre        221      323\n",
       "Diciembre       1468     1433"
      ]
     },
     "execution_count": 57,
     "metadata": {},
     "output_type": "execute_result"
    }
   ],
   "source": [
    "# Borrando una columna y devolver una copia del DataFrame resultante\n",
    "\n",
    "df_mod = df.drop([\"Balances\"], axis=1)\n",
    "df_mod"
   ]
  },
  {
   "cell_type": "code",
   "execution_count": 58,
   "id": "1e90786f-db01-4962-bcfe-dcc23d1ca64b",
   "metadata": {},
   "outputs": [
    {
     "data": {
      "text/html": [
       "<div>\n",
       "<style scoped>\n",
       "    .dataframe tbody tr th:only-of-type {\n",
       "        vertical-align: middle;\n",
       "    }\n",
       "\n",
       "    .dataframe tbody tr th {\n",
       "        vertical-align: top;\n",
       "    }\n",
       "\n",
       "    .dataframe thead th {\n",
       "        text-align: right;\n",
       "    }\n",
       "</style>\n",
       "<table border=\"1\" class=\"dataframe\">\n",
       "  <thead>\n",
       "    <tr style=\"text-align: right;\">\n",
       "      <th></th>\n",
       "      <th>Ingresos</th>\n",
       "      <th>Egresos</th>\n",
       "      <th>Balances</th>\n",
       "    </tr>\n",
       "  </thead>\n",
       "  <tbody>\n",
       "    <tr>\n",
       "      <th>Enero</th>\n",
       "      <td>257</td>\n",
       "      <td>611</td>\n",
       "      <td>-354</td>\n",
       "    </tr>\n",
       "    <tr>\n",
       "      <th>Febrero</th>\n",
       "      <td>1092</td>\n",
       "      <td>681</td>\n",
       "      <td>411</td>\n",
       "    </tr>\n",
       "    <tr>\n",
       "      <th>Marzo</th>\n",
       "      <td>689</td>\n",
       "      <td>188</td>\n",
       "      <td>501</td>\n",
       "    </tr>\n",
       "    <tr>\n",
       "      <th>Abril</th>\n",
       "      <td>643</td>\n",
       "      <td>790</td>\n",
       "      <td>-147</td>\n",
       "    </tr>\n",
       "    <tr>\n",
       "      <th>Mayo</th>\n",
       "      <td>251</td>\n",
       "      <td>580</td>\n",
       "      <td>-329</td>\n",
       "    </tr>\n",
       "    <tr>\n",
       "      <th>Junio</th>\n",
       "      <td>821</td>\n",
       "      <td>1156</td>\n",
       "      <td>-335</td>\n",
       "    </tr>\n",
       "    <tr>\n",
       "      <th>Julio</th>\n",
       "      <td>877</td>\n",
       "      <td>1228</td>\n",
       "      <td>-351</td>\n",
       "    </tr>\n",
       "    <tr>\n",
       "      <th>Agosto</th>\n",
       "      <td>582</td>\n",
       "      <td>536</td>\n",
       "      <td>46</td>\n",
       "    </tr>\n",
       "    <tr>\n",
       "      <th>Septiembre</th>\n",
       "      <td>1177</td>\n",
       "      <td>1223</td>\n",
       "      <td>-46</td>\n",
       "    </tr>\n",
       "    <tr>\n",
       "      <th>Octubre</th>\n",
       "      <td>306</td>\n",
       "      <td>175</td>\n",
       "      <td>131</td>\n",
       "    </tr>\n",
       "    <tr>\n",
       "      <th>Noviembre</th>\n",
       "      <td>221</td>\n",
       "      <td>323</td>\n",
       "      <td>-102</td>\n",
       "    </tr>\n",
       "    <tr>\n",
       "      <th>Diciembre</th>\n",
       "      <td>1468</td>\n",
       "      <td>1433</td>\n",
       "      <td>35</td>\n",
       "    </tr>\n",
       "  </tbody>\n",
       "</table>\n",
       "</div>"
      ],
      "text/plain": [
       "            Ingresos  Egresos  Balances\n",
       "Enero            257      611      -354\n",
       "Febrero         1092      681       411\n",
       "Marzo            689      188       501\n",
       "Abril            643      790      -147\n",
       "Mayo             251      580      -329\n",
       "Junio            821     1156      -335\n",
       "Julio            877     1228      -351\n",
       "Agosto           582      536        46\n",
       "Septiembre      1177     1223       -46\n",
       "Octubre          306      175       131\n",
       "Noviembre        221      323      -102\n",
       "Diciembre       1468     1433        35"
      ]
     },
     "execution_count": 58,
     "metadata": {},
     "output_type": "execute_result"
    }
   ],
   "source": [
    "df"
   ]
  },
  {
   "cell_type": "markdown",
   "id": "629a2e98-8130-4061-bd03-ee369f232c95",
   "metadata": {},
   "source": [
    "### Evaluando expresiones sobre un DataFrame"
   ]
  },
  {
   "cell_type": "code",
   "execution_count": 59,
   "id": "6df9b532-b9a0-4208-99f4-63d3b3822899",
   "metadata": {},
   "outputs": [
    {
     "data": {
      "text/plain": [
       "Enero        -254\n",
       "Febrero       511\n",
       "Marzo         601\n",
       "Abril         -47\n",
       "Mayo         -229\n",
       "Junio        -235\n",
       "Julio        -251\n",
       "Agosto        146\n",
       "Septiembre     54\n",
       "Octubre       231\n",
       "Noviembre      -2\n",
       "Diciembre     135\n",
       "Name: Balances, dtype: int32"
      ]
     },
     "execution_count": 59,
     "metadata": {},
     "output_type": "execute_result"
    }
   ],
   "source": [
    "df.eval(\"Balances + 100\")"
   ]
  },
  {
   "cell_type": "code",
   "execution_count": 60,
   "id": "ad782e03-8678-4d55-966c-5f7266ac4ceb",
   "metadata": {},
   "outputs": [
    {
     "data": {
      "text/html": [
       "<div>\n",
       "<style scoped>\n",
       "    .dataframe tbody tr th:only-of-type {\n",
       "        vertical-align: middle;\n",
       "    }\n",
       "\n",
       "    .dataframe tbody tr th {\n",
       "        vertical-align: top;\n",
       "    }\n",
       "\n",
       "    .dataframe thead th {\n",
       "        text-align: right;\n",
       "    }\n",
       "</style>\n",
       "<table border=\"1\" class=\"dataframe\">\n",
       "  <thead>\n",
       "    <tr style=\"text-align: right;\">\n",
       "      <th></th>\n",
       "      <th>Ingresos</th>\n",
       "      <th>Egresos</th>\n",
       "      <th>Balances</th>\n",
       "      <th>Impuestos</th>\n",
       "    </tr>\n",
       "  </thead>\n",
       "  <tbody>\n",
       "    <tr>\n",
       "      <th>Enero</th>\n",
       "      <td>257</td>\n",
       "      <td>611</td>\n",
       "      <td>-354</td>\n",
       "      <td>84.81</td>\n",
       "    </tr>\n",
       "    <tr>\n",
       "      <th>Febrero</th>\n",
       "      <td>1092</td>\n",
       "      <td>681</td>\n",
       "      <td>411</td>\n",
       "      <td>360.36</td>\n",
       "    </tr>\n",
       "    <tr>\n",
       "      <th>Marzo</th>\n",
       "      <td>689</td>\n",
       "      <td>188</td>\n",
       "      <td>501</td>\n",
       "      <td>227.37</td>\n",
       "    </tr>\n",
       "    <tr>\n",
       "      <th>Abril</th>\n",
       "      <td>643</td>\n",
       "      <td>790</td>\n",
       "      <td>-147</td>\n",
       "      <td>212.19</td>\n",
       "    </tr>\n",
       "    <tr>\n",
       "      <th>Mayo</th>\n",
       "      <td>251</td>\n",
       "      <td>580</td>\n",
       "      <td>-329</td>\n",
       "      <td>82.83</td>\n",
       "    </tr>\n",
       "    <tr>\n",
       "      <th>Junio</th>\n",
       "      <td>821</td>\n",
       "      <td>1156</td>\n",
       "      <td>-335</td>\n",
       "      <td>270.93</td>\n",
       "    </tr>\n",
       "    <tr>\n",
       "      <th>Julio</th>\n",
       "      <td>877</td>\n",
       "      <td>1228</td>\n",
       "      <td>-351</td>\n",
       "      <td>289.41</td>\n",
       "    </tr>\n",
       "    <tr>\n",
       "      <th>Agosto</th>\n",
       "      <td>582</td>\n",
       "      <td>536</td>\n",
       "      <td>46</td>\n",
       "      <td>192.06</td>\n",
       "    </tr>\n",
       "    <tr>\n",
       "      <th>Septiembre</th>\n",
       "      <td>1177</td>\n",
       "      <td>1223</td>\n",
       "      <td>-46</td>\n",
       "      <td>388.41</td>\n",
       "    </tr>\n",
       "    <tr>\n",
       "      <th>Octubre</th>\n",
       "      <td>306</td>\n",
       "      <td>175</td>\n",
       "      <td>131</td>\n",
       "      <td>100.98</td>\n",
       "    </tr>\n",
       "    <tr>\n",
       "      <th>Noviembre</th>\n",
       "      <td>221</td>\n",
       "      <td>323</td>\n",
       "      <td>-102</td>\n",
       "      <td>72.93</td>\n",
       "    </tr>\n",
       "    <tr>\n",
       "      <th>Diciembre</th>\n",
       "      <td>1468</td>\n",
       "      <td>1433</td>\n",
       "      <td>35</td>\n",
       "      <td>484.44</td>\n",
       "    </tr>\n",
       "  </tbody>\n",
       "</table>\n",
       "</div>"
      ],
      "text/plain": [
       "            Ingresos  Egresos  Balances  Impuestos\n",
       "Enero            257      611      -354      84.81\n",
       "Febrero         1092      681       411     360.36\n",
       "Marzo            689      188       501     227.37\n",
       "Abril            643      790      -147     212.19\n",
       "Mayo             251      580      -329      82.83\n",
       "Junio            821     1156      -335     270.93\n",
       "Julio            877     1228      -351     289.41\n",
       "Agosto           582      536        46     192.06\n",
       "Septiembre      1177     1223       -46     388.41\n",
       "Octubre          306      175       131     100.98\n",
       "Noviembre        221      323      -102      72.93\n",
       "Diciembre       1468     1433        35     484.44"
      ]
     },
     "execution_count": 60,
     "metadata": {},
     "output_type": "execute_result"
    }
   ],
   "source": [
    "# Agregando un valor resultante como una nueva columna\n",
    "df.eval(\"Impuestos = Ingresos * 0.33\", inplace=True)\n",
    "df"
   ]
  },
  {
   "cell_type": "markdown",
   "id": "0cf60348-1158-4913-b718-ed4abbf478ec",
   "metadata": {},
   "source": [
    "# Guardando un DataFrame"
   ]
  },
  {
   "cell_type": "code",
   "execution_count": 65,
   "id": "027d5ecc-dea0-4ca5-9517-89d9c287cc41",
   "metadata": {},
   "outputs": [],
   "source": [
    "df.to_csv(\"Balance_2024.csv\")"
   ]
  },
  {
   "cell_type": "code",
   "execution_count": 68,
   "id": "5f6f255e-4083-473b-a7d4-ae632d1cafda",
   "metadata": {},
   "outputs": [],
   "source": [
    "df.to_excel(\"Balance_2024.xlsx\")"
   ]
  },
  {
   "cell_type": "code",
   "execution_count": 69,
   "id": "66f9e161-efa3-45e1-85f0-89b8278f811b",
   "metadata": {},
   "outputs": [],
   "source": [
    "df.to_json(\"Balance_2024.json\")"
   ]
  },
  {
   "cell_type": "markdown",
   "id": "e60f671e-a5fc-40bc-b5e1-6471cd09c393",
   "metadata": {},
   "source": [
    "## Leyendo un DataFrame"
   ]
  },
  {
   "cell_type": "code",
   "execution_count": 71,
   "id": "c839d576-8936-4162-b45e-01dedc8d6f2a",
   "metadata": {},
   "outputs": [
    {
     "data": {
      "text/html": [
       "<div>\n",
       "<style scoped>\n",
       "    .dataframe tbody tr th:only-of-type {\n",
       "        vertical-align: middle;\n",
       "    }\n",
       "\n",
       "    .dataframe tbody tr th {\n",
       "        vertical-align: top;\n",
       "    }\n",
       "\n",
       "    .dataframe thead th {\n",
       "        text-align: right;\n",
       "    }\n",
       "</style>\n",
       "<table border=\"1\" class=\"dataframe\">\n",
       "  <thead>\n",
       "    <tr style=\"text-align: right;\">\n",
       "      <th></th>\n",
       "      <th>Ingresos</th>\n",
       "      <th>Egresos</th>\n",
       "      <th>Balances</th>\n",
       "      <th>Impuestos</th>\n",
       "    </tr>\n",
       "  </thead>\n",
       "  <tbody>\n",
       "    <tr>\n",
       "      <th>Enero</th>\n",
       "      <td>257</td>\n",
       "      <td>611</td>\n",
       "      <td>-354</td>\n",
       "      <td>84.81</td>\n",
       "    </tr>\n",
       "    <tr>\n",
       "      <th>Febrero</th>\n",
       "      <td>1092</td>\n",
       "      <td>681</td>\n",
       "      <td>411</td>\n",
       "      <td>360.36</td>\n",
       "    </tr>\n",
       "    <tr>\n",
       "      <th>Marzo</th>\n",
       "      <td>689</td>\n",
       "      <td>188</td>\n",
       "      <td>501</td>\n",
       "      <td>227.37</td>\n",
       "    </tr>\n",
       "    <tr>\n",
       "      <th>Abril</th>\n",
       "      <td>643</td>\n",
       "      <td>790</td>\n",
       "      <td>-147</td>\n",
       "      <td>212.19</td>\n",
       "    </tr>\n",
       "    <tr>\n",
       "      <th>Mayo</th>\n",
       "      <td>251</td>\n",
       "      <td>580</td>\n",
       "      <td>-329</td>\n",
       "      <td>82.83</td>\n",
       "    </tr>\n",
       "    <tr>\n",
       "      <th>Junio</th>\n",
       "      <td>821</td>\n",
       "      <td>1156</td>\n",
       "      <td>-335</td>\n",
       "      <td>270.93</td>\n",
       "    </tr>\n",
       "    <tr>\n",
       "      <th>Julio</th>\n",
       "      <td>877</td>\n",
       "      <td>1228</td>\n",
       "      <td>-351</td>\n",
       "      <td>289.41</td>\n",
       "    </tr>\n",
       "    <tr>\n",
       "      <th>Agosto</th>\n",
       "      <td>582</td>\n",
       "      <td>536</td>\n",
       "      <td>46</td>\n",
       "      <td>192.06</td>\n",
       "    </tr>\n",
       "    <tr>\n",
       "      <th>Septiembre</th>\n",
       "      <td>1177</td>\n",
       "      <td>1223</td>\n",
       "      <td>-46</td>\n",
       "      <td>388.41</td>\n",
       "    </tr>\n",
       "    <tr>\n",
       "      <th>Octubre</th>\n",
       "      <td>306</td>\n",
       "      <td>175</td>\n",
       "      <td>131</td>\n",
       "      <td>100.98</td>\n",
       "    </tr>\n",
       "    <tr>\n",
       "      <th>Noviembre</th>\n",
       "      <td>221</td>\n",
       "      <td>323</td>\n",
       "      <td>-102</td>\n",
       "      <td>72.93</td>\n",
       "    </tr>\n",
       "    <tr>\n",
       "      <th>Diciembre</th>\n",
       "      <td>1468</td>\n",
       "      <td>1433</td>\n",
       "      <td>35</td>\n",
       "      <td>484.44</td>\n",
       "    </tr>\n",
       "  </tbody>\n",
       "</table>\n",
       "</div>"
      ],
      "text/plain": [
       "            Ingresos  Egresos  Balances  Impuestos\n",
       "Enero            257      611      -354      84.81\n",
       "Febrero         1092      681       411     360.36\n",
       "Marzo            689      188       501     227.37\n",
       "Abril            643      790      -147     212.19\n",
       "Mayo             251      580      -329      82.83\n",
       "Junio            821     1156      -335     270.93\n",
       "Julio            877     1228      -351     289.41\n",
       "Agosto           582      536        46     192.06\n",
       "Septiembre      1177     1223       -46     388.41\n",
       "Octubre          306      175       131     100.98\n",
       "Noviembre        221      323      -102      72.93\n",
       "Diciembre       1468     1433        35     484.44"
      ]
     },
     "execution_count": 71,
     "metadata": {},
     "output_type": "execute_result"
    }
   ],
   "source": [
    "# Cargamos el DataFrame con la primera columna correctamente asignada\n",
    "df2 = pd.read_csv(\"Balance_2024.csv\", index_col=0)\n",
    "df2"
   ]
  }
 ],
 "metadata": {
  "kernelspec": {
   "display_name": "Python 3 (ipykernel)",
   "language": "python",
   "name": "python3"
  },
  "language_info": {
   "codemirror_mode": {
    "name": "ipython",
    "version": 3
   },
   "file_extension": ".py",
   "mimetype": "text/x-python",
   "name": "python",
   "nbconvert_exporter": "python",
   "pygments_lexer": "ipython3",
   "version": "3.12.2"
  }
 },
 "nbformat": 4,
 "nbformat_minor": 5
}
