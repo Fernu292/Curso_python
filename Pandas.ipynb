{
 "cells": [
  {
   "cell_type": "markdown",
   "id": "5a468f02-0820-4b13-b570-acf5f8384caa",
   "metadata": {},
   "source": [
    "# Pandas\n",
    "\n",
    "Es una libreria de computo y analisis de datos que proporciona herramientas poderosas para manejo de datos y estructuras en DataFrames, posee la licencia BSD-License.\n",
    "\n",
    "Posee dos estructuras de datos fundamentales, Series y DataFrames. Las Series son similares a un Array de una dimension, y un DataFrame se corresponde con una tabla 2D\n",
    "\n",
    "* Series: Array de una dimesion\n",
    "* DataFrame: Se corresponde con una tabla 2D\n",
    "* Panel: Similar a un diccionario de DataFrames"
   ]
  },
  {
   "cell_type": "code",
   "execution_count": 1,
   "id": "67e12852-5bc7-4536-b6c9-54403e63b11c",
   "metadata": {
    "ExecuteTime": {
     "end_time": "2024-04-01T04:05:38.376880Z",
     "start_time": "2024-04-01T04:05:38.371896Z"
    }
   },
   "outputs": [],
   "source": [
    "import pandas as pd"
   ]
  },
  {
   "cell_type": "markdown",
   "id": "079a2be1-2135-46f4-b592-f9e6ed7985ab",
   "metadata": {},
   "source": [
    "## Series \n",
    "\n",
    "Podemos generar series en base a una lista de python y tendra la siguiente estructura"
   ]
  },
  {
   "cell_type": "code",
   "execution_count": 2,
   "id": "90971f1c-658e-4497-9d41-ac1deff079a1",
   "metadata": {
    "ExecuteTime": {
     "end_time": "2024-04-01T04:05:38.391547Z",
     "start_time": "2024-04-01T04:05:38.378400Z"
    }
   },
   "outputs": [
    {
     "data": {
      "text/plain": [
       "0       0\n",
       "1       1\n",
       "2       4\n",
       "3       9\n",
       "4      16\n",
       "5      25\n",
       "6      36\n",
       "7      49\n",
       "8      64\n",
       "9      81\n",
       "10    100\n",
       "dtype: int64"
      ]
     },
     "execution_count": 2,
     "metadata": {},
     "output_type": "execute_result"
    }
   ],
   "source": [
    "serie = pd.Series([x**2 for x in range(11)])\n",
    "serie"
   ]
  },
  {
   "cell_type": "markdown",
   "id": "1d7e5bb3-9d31-4508-9fbe-617e99ecb093",
   "metadata": {},
   "source": [
    "Tambien podemos crear una serie en base a un diccionario de Python"
   ]
  },
  {
   "cell_type": "code",
   "execution_count": 3,
   "id": "cab94ad9-5877-4c28-bbf7-fbd65b06fc06",
   "metadata": {
    "ExecuteTime": {
     "end_time": "2024-04-01T04:05:38.401701Z",
     "start_time": "2024-04-01T04:05:38.391547Z"
    }
   },
   "outputs": [
    {
     "data": {
      "text/plain": [
       "Mexico      20\n",
       "Colombia    25\n",
       "USA         30\n",
       "dtype: int64"
      ]
     },
     "execution_count": 3,
     "metadata": {},
     "output_type": "execute_result"
    }
   ],
   "source": [
    "temperaturas = {\"Mexico\": 20, \"Colombia\": 25, \"USA\": 30}\n",
    "temp = pd.Series(temperaturas)\n",
    "temp"
   ]
  },
  {
   "cell_type": "markdown",
   "id": "0cb2b409-0827-4935-8b6a-da55cba5489e",
   "metadata": {},
   "source": [
    "Podemos crear igualmente una serie en base a asignarle a todos los elementos un valor en especifico, supongamos que creamos \n",
    "un DataFrame para las ventas de una empresa en el 2024 por lo cual que iniciaremos todas las ventas con $0"
   ]
  },
  {
   "cell_type": "code",
   "execution_count": 4,
   "id": "31d6a0ee-9e6d-4b2f-bf52-58cf878cef50",
   "metadata": {
    "ExecuteTime": {
     "end_time": "2024-04-01T04:05:38.410455Z",
     "start_time": "2024-04-01T04:05:38.401701Z"
    }
   },
   "outputs": [
    {
     "data": {
      "text/plain": [
       "Enero         0.0\n",
       "Febrero       0.0\n",
       "Marzo         0.0\n",
       "Abril         0.0\n",
       "Mayo          0.0\n",
       "Junio         0.0\n",
       "Julio         0.0\n",
       "Agosto        0.0\n",
       "Septiembre    0.0\n",
       "Octubre       0.0\n",
       "Noviembre     0.0\n",
       "Diciembre     0.0\n",
       "dtype: float64"
      ]
     },
     "execution_count": 4,
     "metadata": {},
     "output_type": "execute_result"
    }
   ],
   "source": [
    "meses = [\"Enero\", \"Febrero\", \"Marzo\", \"Abril\", \"Mayo\", \"Junio\", \"Julio\", \"Agosto\", \"Septiembre\", \"Octubre\", \"Noviembre\", \"Diciembre\"]\n",
    "ventas = pd.Series(0.0, meses)\n",
    "ventas"
   ]
  },
  {
   "cell_type": "markdown",
   "id": "b95bf163-361c-4ec8-bc63-38986d11479a",
   "metadata": {},
   "source": [
    "## Accediendo a los elementos de una serie\n",
    "\n",
    "Podemos acceder por la posicion, usando los indices de manera similar a un array, ademas tabien podemos acceder mediante la clave que le asignamos con el diccionario"
   ]
  },
  {
   "cell_type": "code",
   "execution_count": 5,
   "id": "5290065f-2bc2-4331-b730-56e5694a43e8",
   "metadata": {
    "ExecuteTime": {
     "end_time": "2024-04-01T04:05:38.417070Z",
     "start_time": "2024-04-01T04:05:38.410455Z"
    }
   },
   "outputs": [
    {
     "name": "stdout",
     "output_type": "stream",
     "text": [
      "Enero: 0.0\n",
      "Enero: 0.0\n"
     ]
    }
   ],
   "source": [
    "# Usamos el metodo iloc para acceder a una posicion especifica\n",
    "print(f'Enero: {ventas.iloc[0]}')\n",
    "\n",
    "# Usamos la llave de acceso para obtener el valor \n",
    "print(f'Enero: {ventas[\"Enero\"]}')"
   ]
  },
  {
   "cell_type": "code",
   "execution_count": 6,
   "id": "0004a708-fdf7-43b8-9005-99091aac5287",
   "metadata": {
    "ExecuteTime": {
     "end_time": "2024-04-01T04:05:38.423198Z",
     "start_time": "2024-04-01T04:05:38.418608Z"
    }
   },
   "outputs": [
    {
     "name": "stdout",
     "output_type": "stream",
     "text": [
      "Julio: 0.0\n"
     ]
    }
   ],
   "source": [
    "# Tambien podemos acceder mediante el metodo loc\n",
    "print(f'Julio: {ventas.loc[\"Julio\"]}')"
   ]
  },
  {
   "cell_type": "markdown",
   "id": "7d06d44e-6b4e-40d7-ab52-3440d74bac93",
   "metadata": {},
   "source": [
    "### Segmentacion y acceso\n",
    "\n",
    "Se puede usar segmentacion de listas para acceder a ciertos valores de la serie.\n",
    "[Inicio, Final-1] podemos verlo en cuestion de intervalos como un intervalo cerrado abierto\n",
    "Por ejemplo ventas[2:5] lo podemos interpretar como \n",
    "[2,5) = {2,3,4}\n",
    "\n",
    "Ya que en el segundo argumento se toma como un intervalo abierto, entonces se toma como n-1\n"
   ]
  },
  {
   "cell_type": "code",
   "execution_count": 7,
   "id": "6339b215-aaf1-4dd1-a1d2-c4bc0f020257",
   "metadata": {
    "ExecuteTime": {
     "end_time": "2024-04-01T04:05:38.433126Z",
     "start_time": "2024-04-01T04:05:38.424209Z"
    }
   },
   "outputs": [
    {
     "data": {
      "text/plain": [
       "Marzo    0.0\n",
       "Abril    0.0\n",
       "Mayo     0.0\n",
       "dtype: float64"
      ]
     },
     "execution_count": 7,
     "metadata": {},
     "output_type": "execute_result"
    }
   ],
   "source": [
    "# Accediendo de la posicion 2 -> 4 de la Serie\n",
    "ventas.iloc[2:5]"
   ]
  },
  {
   "cell_type": "markdown",
   "id": "c6529747-3dcd-4ac1-8380-118c852178a8",
   "metadata": {},
   "source": [
    "### Operaciones aritmeticas con Series\n",
    "\n",
    "Las series de pandas son compatibles y similares a los arrays de numpy, por lo que podemos manipularlos con dicha libreria"
   ]
  },
  {
   "cell_type": "code",
   "execution_count": 8,
   "id": "edabc704-6802-4063-8aa3-2ac045a5f1e5",
   "metadata": {
    "ExecuteTime": {
     "end_time": "2024-04-01T04:05:38.439887Z",
     "start_time": "2024-04-01T04:05:38.433126Z"
    }
   },
   "outputs": [
    {
     "data": {
      "text/plain": [
       "0.0"
      ]
     },
     "execution_count": 8,
     "metadata": {},
     "output_type": "execute_result"
    }
   ],
   "source": [
    "import numpy as np\n",
    "\n",
    "sumaVentas = np.sum(ventas)\n",
    "sumaVentas"
   ]
  },
  {
   "cell_type": "code",
   "execution_count": 9,
   "id": "c60f14ca-1749-4b86-ac11-c2498282c175",
   "metadata": {
    "ExecuteTime": {
     "end_time": "2024-04-01T04:05:38.448954Z",
     "start_time": "2024-04-01T04:05:38.439887Z"
    }
   },
   "outputs": [
    {
     "data": {
      "text/plain": [
       "array([ 842, 1240,  279,  103, 1107, 1313, 1163,  529, 1030,  654,  408,\n",
       "        491])"
      ]
     },
     "execution_count": 9,
     "metadata": {},
     "output_type": "execute_result"
    }
   ],
   "source": [
    "ventaAleatoria = np.random.randint(low=0, high=1500, size=12)\n",
    "ventaAleatoria"
   ]
  },
  {
   "cell_type": "code",
   "execution_count": 10,
   "id": "54bd2044-5c8e-42dd-941c-ee2bcc3d2d53",
   "metadata": {
    "ExecuteTime": {
     "end_time": "2024-04-01T04:05:38.458479Z",
     "start_time": "2024-04-01T04:05:38.448954Z"
    }
   },
   "outputs": [
    {
     "data": {
      "text/plain": [
       "Enero          842.0\n",
       "Febrero       1240.0\n",
       "Marzo          279.0\n",
       "Abril          103.0\n",
       "Mayo          1107.0\n",
       "Junio         1313.0\n",
       "Julio         1163.0\n",
       "Agosto         529.0\n",
       "Septiembre    1030.0\n",
       "Octubre        654.0\n",
       "Noviembre      408.0\n",
       "Diciembre      491.0\n",
       "dtype: float64"
      ]
     },
     "execution_count": 10,
     "metadata": {},
     "output_type": "execute_result"
    }
   ],
   "source": [
    "ventas += ventaAleatoria\n",
    "ventas"
   ]
  },
  {
   "cell_type": "code",
   "execution_count": 11,
   "id": "1c315ceb-0765-4744-ab9f-4eeda0f51f46",
   "metadata": {
    "ExecuteTime": {
     "end_time": "2024-04-01T04:05:38.464678Z",
     "start_time": "2024-04-01T04:05:38.459523Z"
    }
   },
   "outputs": [
    {
     "name": "stdout",
     "output_type": "stream",
     "text": [
      "Suma anual 2024: $9159.0\n"
     ]
    }
   ],
   "source": [
    "# Obtenemos la suma de las ventas totales del año\n",
    "\n",
    "sumaVentas = np.sum(ventas)\n",
    "print(f'Suma anual 2024: ${sumaVentas}')"
   ]
  },
  {
   "cell_type": "code",
   "execution_count": 12,
   "id": "7188a422-713a-49b8-bef0-17a1e4acad29",
   "metadata": {
    "ExecuteTime": {
     "end_time": "2024-04-01T04:05:38.472767Z",
     "start_time": "2024-04-01T04:05:38.464678Z"
    }
   },
   "outputs": [
    {
     "data": {
      "text/plain": [
       "Enero          842.0\n",
       "Febrero       1240.0\n",
       "Marzo          279.0\n",
       "Abril          103.0\n",
       "Mayo          1107.0\n",
       "Junio         1313.0\n",
       "Julio         1163.0\n",
       "Agosto         529.0\n",
       "Septiembre    1030.0\n",
       "Octubre        654.0\n",
       "Noviembre      408.0\n",
       "Diciembre      491.0\n",
       "Name: Ventas 2024, dtype: float64"
      ]
     },
     "execution_count": 12,
     "metadata": {},
     "output_type": "execute_result"
    }
   ],
   "source": [
    "ventas = pd.Series(ventas, name=\"Ventas 2024\")\n",
    "ventas"
   ]
  },
  {
   "cell_type": "markdown",
   "id": "234a7bce-2ed5-4575-a37c-0c01d4121b09",
   "metadata": {},
   "source": [
    "## Representacion grafica de las ventas en el 2024\n",
    "\n",
    "En base a nuestro ejemplo de ventas, podemos realizar analisis graficos de dichos comportamientos, para asi generar reportes mas atractivos y entendibles, no solo para compañeros de area si no para ejecutivos."
   ]
  },
  {
   "cell_type": "code",
   "execution_count": 13,
   "id": "92a7e346-e564-4d4d-aa06-b52251ef41d1",
   "metadata": {
    "ExecuteTime": {
     "end_time": "2024-04-01T04:05:38.734327Z",
     "start_time": "2024-04-01T04:05:38.473779Z"
    }
   },
   "outputs": [
    {
     "data": {
      "image/png": "[encoded data removed]",
      "text/plain": [
       "<Figure size 640x480 with 1 Axes>"
      ]
     },
     "metadata": {},
     "output_type": "display_data"
    }
   ],
   "source": [
    "import matplotlib.pyplot as plt\n",
    "\n",
    "ventas.plot()\n",
    "plt.show()"
   ]
  },
  {
   "cell_type": "markdown",
   "id": "2fbd643d-c1ba-4005-a356-48bb61047cfb",
   "metadata": {},
   "source": [
    "# Creacion de un objeto DataFrame\n",
    "\n",
    "Los DataFrames son el tipo de dato principal y el mas utilizado en pandas para analisis de datos, y podemos generarlo en base a una serie compleja de datos, tanto archivos de excel, csv y demas formatos"
   ]
  },
  {
   "cell_type": "code",
   "execution_count": 14,
   "id": "6ac55e8f-417e-43d8-8d96-1a32d93fd63d",
   "metadata": {
    "ExecuteTime": {
     "end_time": "2024-04-01T04:05:38.751828Z",
     "start_time": "2024-04-01T04:05:38.734327Z"
    }
   },
   "outputs": [
    {
     "data": {
      "text/html": [
       "<div>\n",
       "<style scoped>\n",
       "    .dataframe tbody tr th:only-of-type {\n",
       "        vertical-align: middle;\n",
       "    }\n",
       "\n",
       "    .dataframe tbody tr th {\n",
       "        vertical-align: top;\n",
       "    }\n",
       "\n",
       "    .dataframe thead th {\n",
       "        text-align: right;\n",
       "    }\n",
       "</style>\n",
       "<table border=\"1\" class=\"dataframe\">\n",
       "  <thead>\n",
       "    <tr style=\"text-align: right;\">\n",
       "      <th></th>\n",
       "      <th>Ingresos</th>\n",
       "      <th>Egresos</th>\n",
       "    </tr>\n",
       "  </thead>\n",
       "  <tbody>\n",
       "    <tr>\n",
       "      <th>Enero</th>\n",
       "      <td>849</td>\n",
       "      <td>1208</td>\n",
       "    </tr>\n",
       "    <tr>\n",
       "      <th>Febrero</th>\n",
       "      <td>273</td>\n",
       "      <td>259</td>\n",
       "    </tr>\n",
       "    <tr>\n",
       "      <th>Marzo</th>\n",
       "      <td>1386</td>\n",
       "      <td>786</td>\n",
       "    </tr>\n",
       "    <tr>\n",
       "      <th>Abril</th>\n",
       "      <td>351</td>\n",
       "      <td>608</td>\n",
       "    </tr>\n",
       "    <tr>\n",
       "      <th>Mayo</th>\n",
       "      <td>311</td>\n",
       "      <td>429</td>\n",
       "    </tr>\n",
       "    <tr>\n",
       "      <th>Junio</th>\n",
       "      <td>508</td>\n",
       "      <td>49</td>\n",
       "    </tr>\n",
       "    <tr>\n",
       "      <th>Julio</th>\n",
       "      <td>445</td>\n",
       "      <td>392</td>\n",
       "    </tr>\n",
       "    <tr>\n",
       "      <th>Agosto</th>\n",
       "      <td>1053</td>\n",
       "      <td>324</td>\n",
       "    </tr>\n",
       "    <tr>\n",
       "      <th>Septiembre</th>\n",
       "      <td>910</td>\n",
       "      <td>648</td>\n",
       "    </tr>\n",
       "    <tr>\n",
       "      <th>Octubre</th>\n",
       "      <td>79</td>\n",
       "      <td>502</td>\n",
       "    </tr>\n",
       "    <tr>\n",
       "      <th>Noviembre</th>\n",
       "      <td>515</td>\n",
       "      <td>166</td>\n",
       "    </tr>\n",
       "    <tr>\n",
       "      <th>Diciembre</th>\n",
       "      <td>432</td>\n",
       "      <td>1446</td>\n",
       "    </tr>\n",
       "  </tbody>\n",
       "</table>\n",
       "</div>"
      ],
      "text/plain": [
       "            Ingresos  Egresos\n",
       "Enero            849     1208\n",
       "Febrero          273      259\n",
       "Marzo           1386      786\n",
       "Abril            351      608\n",
       "Mayo             311      429\n",
       "Junio            508       49\n",
       "Julio            445      392\n",
       "Agosto          1053      324\n",
       "Septiembre       910      648\n",
       "Octubre           79      502\n",
       "Noviembre        515      166\n",
       "Diciembre        432     1446"
      ]
     },
     "execution_count": 14,
     "metadata": {},
     "output_type": "execute_result"
    }
   ],
   "source": [
    "balance = {\n",
    "    \"Ingresos\": pd.Series( np.random.randint(low=0, high=1500, size=12), meses), \n",
    "    \"Egresos\": pd.Series( np.random.randint(low=0, high=1500, size=12), meses)\n",
    "}\n",
    "\n",
    "df = pd.DataFrame(balance)\n",
    "df"
   ]
  },
  {
   "cell_type": "code",
   "execution_count": 15,
   "id": "1b03cd77-f675-4543-b59e-d7191a42c0af",
   "metadata": {
    "ExecuteTime": {
     "end_time": "2024-04-01T04:05:38.759707Z",
     "start_time": "2024-04-01T04:05:38.751828Z"
    }
   },
   "outputs": [
    {
     "data": {
      "text/plain": [
       "Enero          849\n",
       "Febrero        273\n",
       "Marzo         1386\n",
       "Abril          351\n",
       "Mayo           311\n",
       "Junio          508\n",
       "Julio          445\n",
       "Agosto        1053\n",
       "Septiembre     910\n",
       "Octubre         79\n",
       "Noviembre      515\n",
       "Diciembre      432\n",
       "Name: Ingresos, dtype: int32"
      ]
     },
     "execution_count": 15,
     "metadata": {},
     "output_type": "execute_result"
    }
   ],
   "source": [
    "# Accederemos a los valores de las columnas especificas de un DataFrame\n",
    "df[\"Ingresos\"]"
   ]
  },
  {
   "cell_type": "code",
   "execution_count": 16,
   "id": "d216a19d-b2c2-46ee-8c6f-e43861713552",
   "metadata": {
    "ExecuteTime": {
     "end_time": "2024-04-01T04:05:38.771917Z",
     "start_time": "2024-04-01T04:05:38.759707Z"
    }
   },
   "outputs": [
    {
     "data": {
      "text/html": [
       "<div>\n",
       "<style scoped>\n",
       "    .dataframe tbody tr th:only-of-type {\n",
       "        vertical-align: middle;\n",
       "    }\n",
       "\n",
       "    .dataframe tbody tr th {\n",
       "        vertical-align: top;\n",
       "    }\n",
       "\n",
       "    .dataframe thead th {\n",
       "        text-align: right;\n",
       "    }\n",
       "</style>\n",
       "<table border=\"1\" class=\"dataframe\">\n",
       "  <thead>\n",
       "    <tr style=\"text-align: right;\">\n",
       "      <th></th>\n",
       "      <th>Ingresos</th>\n",
       "      <th>Egresos</th>\n",
       "    </tr>\n",
       "  </thead>\n",
       "  <tbody>\n",
       "    <tr>\n",
       "      <th>Enero</th>\n",
       "      <td>849</td>\n",
       "      <td>1208</td>\n",
       "    </tr>\n",
       "    <tr>\n",
       "      <th>Febrero</th>\n",
       "      <td>273</td>\n",
       "      <td>259</td>\n",
       "    </tr>\n",
       "    <tr>\n",
       "      <th>Marzo</th>\n",
       "      <td>1386</td>\n",
       "      <td>786</td>\n",
       "    </tr>\n",
       "    <tr>\n",
       "      <th>Abril</th>\n",
       "      <td>351</td>\n",
       "      <td>608</td>\n",
       "    </tr>\n",
       "    <tr>\n",
       "      <th>Mayo</th>\n",
       "      <td>311</td>\n",
       "      <td>429</td>\n",
       "    </tr>\n",
       "    <tr>\n",
       "      <th>Junio</th>\n",
       "      <td>508</td>\n",
       "      <td>49</td>\n",
       "    </tr>\n",
       "    <tr>\n",
       "      <th>Julio</th>\n",
       "      <td>445</td>\n",
       "      <td>392</td>\n",
       "    </tr>\n",
       "    <tr>\n",
       "      <th>Agosto</th>\n",
       "      <td>1053</td>\n",
       "      <td>324</td>\n",
       "    </tr>\n",
       "    <tr>\n",
       "      <th>Septiembre</th>\n",
       "      <td>910</td>\n",
       "      <td>648</td>\n",
       "    </tr>\n",
       "    <tr>\n",
       "      <th>Octubre</th>\n",
       "      <td>79</td>\n",
       "      <td>502</td>\n",
       "    </tr>\n",
       "    <tr>\n",
       "      <th>Noviembre</th>\n",
       "      <td>515</td>\n",
       "      <td>166</td>\n",
       "    </tr>\n",
       "    <tr>\n",
       "      <th>Diciembre</th>\n",
       "      <td>432</td>\n",
       "      <td>1446</td>\n",
       "    </tr>\n",
       "  </tbody>\n",
       "</table>\n",
       "</div>"
      ],
      "text/plain": [
       "            Ingresos  Egresos\n",
       "Enero            849     1208\n",
       "Febrero          273      259\n",
       "Marzo           1386      786\n",
       "Abril            351      608\n",
       "Mayo             311      429\n",
       "Junio            508       49\n",
       "Julio            445      392\n",
       "Agosto          1053      324\n",
       "Septiembre       910      648\n",
       "Octubre           79      502\n",
       "Noviembre        515      166\n",
       "Diciembre        432     1446"
      ]
     },
     "execution_count": 16,
     "metadata": {},
     "output_type": "execute_result"
    }
   ],
   "source": [
    "# Accediendo a multiples columnas, en este caso son solo 2, sin embargo funciona para n-columnas\n",
    "# Debemos de pasar un array con la lista de las columnas que deseamos acceder\n",
    "df[[\"Ingresos\", \"Egresos\"]]"
   ]
  },
  {
   "cell_type": "markdown",
   "id": "aa58d8e8-d858-4266-9dc6-1dfed053aed0",
   "metadata": {},
   "source": [
    "### Expresiones booleanas y filtracion de datos\n",
    "\n",
    "Podemos filtrar datos en base a condicionales, y pandas se encarga de retornar si la entrada cumple o no la condicion\n"
   ]
  },
  {
   "cell_type": "code",
   "execution_count": 17,
   "id": "8242318b-1604-44db-be0d-c96d4d74280f",
   "metadata": {
    "ExecuteTime": {
     "end_time": "2024-04-01T04:05:38.781341Z",
     "start_time": "2024-04-01T04:05:38.771917Z"
    }
   },
   "outputs": [
    {
     "data": {
      "text/plain": [
       "Enero         False\n",
       "Febrero       False\n",
       "Marzo          True\n",
       "Abril         False\n",
       "Mayo          False\n",
       "Junio         False\n",
       "Julio         False\n",
       "Agosto         True\n",
       "Septiembre    False\n",
       "Octubre       False\n",
       "Noviembre     False\n",
       "Diciembre     False\n",
       "Name: Ingresos, dtype: bool"
      ]
     },
     "execution_count": 17,
     "metadata": {},
     "output_type": "execute_result"
    }
   ],
   "source": [
    "df[\"Ingresos\"] > 1000"
   ]
  },
  {
   "cell_type": "markdown",
   "id": "be790a75-0d7f-40ba-8c4c-07eda207836a",
   "metadata": {},
   "source": [
    "Podemos combinar expresiones para acceder solo a los elementos que cumplan la condicion"
   ]
  },
  {
   "cell_type": "code",
   "execution_count": 18,
   "id": "4e457874-0868-4af9-bf94-cc1b21fdfdd2",
   "metadata": {
    "ExecuteTime": {
     "end_time": "2024-04-01T04:05:38.790016Z",
     "start_time": "2024-04-01T04:05:38.781341Z"
    }
   },
   "outputs": [
    {
     "data": {
      "text/html": [
       "<div>\n",
       "<style scoped>\n",
       "    .dataframe tbody tr th:only-of-type {\n",
       "        vertical-align: middle;\n",
       "    }\n",
       "\n",
       "    .dataframe tbody tr th {\n",
       "        vertical-align: top;\n",
       "    }\n",
       "\n",
       "    .dataframe thead th {\n",
       "        text-align: right;\n",
       "    }\n",
       "</style>\n",
       "<table border=\"1\" class=\"dataframe\">\n",
       "  <thead>\n",
       "    <tr style=\"text-align: right;\">\n",
       "      <th></th>\n",
       "      <th>Ingresos</th>\n",
       "      <th>Egresos</th>\n",
       "    </tr>\n",
       "  </thead>\n",
       "  <tbody>\n",
       "    <tr>\n",
       "      <th>Marzo</th>\n",
       "      <td>1386</td>\n",
       "      <td>786</td>\n",
       "    </tr>\n",
       "    <tr>\n",
       "      <th>Agosto</th>\n",
       "      <td>1053</td>\n",
       "      <td>324</td>\n",
       "    </tr>\n",
       "  </tbody>\n",
       "</table>\n",
       "</div>"
      ],
      "text/plain": [
       "        Ingresos  Egresos\n",
       "Marzo       1386      786\n",
       "Agosto      1053      324"
      ]
     },
     "execution_count": 18,
     "metadata": {},
     "output_type": "execute_result"
    }
   ],
   "source": [
    "df[df[\"Ingresos\"] > 1000]"
   ]
  },
  {
   "cell_type": "markdown",
   "id": "e1e609ad-8277-48ab-9dd8-9006fcf19936",
   "metadata": {},
   "source": [
    "### Accediendo a los elementos de las filas del DataFrame\n",
    "\n",
    "Accedemos a los elementos de una fila especifica de un DataFrame igual que lo hariamos a los elementos de una Serie"
   ]
  },
  {
   "cell_type": "code",
   "execution_count": 19,
   "id": "d45751bc-bed5-4cb4-bca9-3cd865e957dd",
   "metadata": {
    "ExecuteTime": {
     "end_time": "2024-04-01T04:05:38.798804Z",
     "start_time": "2024-04-01T04:05:38.791031Z"
    }
   },
   "outputs": [
    {
     "data": {
      "text/html": [
       "<div>\n",
       "<style scoped>\n",
       "    .dataframe tbody tr th:only-of-type {\n",
       "        vertical-align: middle;\n",
       "    }\n",
       "\n",
       "    .dataframe tbody tr th {\n",
       "        vertical-align: top;\n",
       "    }\n",
       "\n",
       "    .dataframe thead th {\n",
       "        text-align: right;\n",
       "    }\n",
       "</style>\n",
       "<table border=\"1\" class=\"dataframe\">\n",
       "  <thead>\n",
       "    <tr style=\"text-align: right;\">\n",
       "      <th></th>\n",
       "      <th>Ingresos</th>\n",
       "      <th>Egresos</th>\n",
       "    </tr>\n",
       "  </thead>\n",
       "  <tbody>\n",
       "    <tr>\n",
       "      <th>Enero</th>\n",
       "      <td>849</td>\n",
       "      <td>1208</td>\n",
       "    </tr>\n",
       "    <tr>\n",
       "      <th>Febrero</th>\n",
       "      <td>273</td>\n",
       "      <td>259</td>\n",
       "    </tr>\n",
       "    <tr>\n",
       "      <th>Marzo</th>\n",
       "      <td>1386</td>\n",
       "      <td>786</td>\n",
       "    </tr>\n",
       "    <tr>\n",
       "      <th>Abril</th>\n",
       "      <td>351</td>\n",
       "      <td>608</td>\n",
       "    </tr>\n",
       "    <tr>\n",
       "      <th>Mayo</th>\n",
       "      <td>311</td>\n",
       "      <td>429</td>\n",
       "    </tr>\n",
       "    <tr>\n",
       "      <th>Junio</th>\n",
       "      <td>508</td>\n",
       "      <td>49</td>\n",
       "    </tr>\n",
       "    <tr>\n",
       "      <th>Julio</th>\n",
       "      <td>445</td>\n",
       "      <td>392</td>\n",
       "    </tr>\n",
       "    <tr>\n",
       "      <th>Agosto</th>\n",
       "      <td>1053</td>\n",
       "      <td>324</td>\n",
       "    </tr>\n",
       "    <tr>\n",
       "      <th>Septiembre</th>\n",
       "      <td>910</td>\n",
       "      <td>648</td>\n",
       "    </tr>\n",
       "    <tr>\n",
       "      <th>Octubre</th>\n",
       "      <td>79</td>\n",
       "      <td>502</td>\n",
       "    </tr>\n",
       "    <tr>\n",
       "      <th>Noviembre</th>\n",
       "      <td>515</td>\n",
       "      <td>166</td>\n",
       "    </tr>\n",
       "    <tr>\n",
       "      <th>Diciembre</th>\n",
       "      <td>432</td>\n",
       "      <td>1446</td>\n",
       "    </tr>\n",
       "  </tbody>\n",
       "</table>\n",
       "</div>"
      ],
      "text/plain": [
       "            Ingresos  Egresos\n",
       "Enero            849     1208\n",
       "Febrero          273      259\n",
       "Marzo           1386      786\n",
       "Abril            351      608\n",
       "Mayo             311      429\n",
       "Junio            508       49\n",
       "Julio            445      392\n",
       "Agosto          1053      324\n",
       "Septiembre       910      648\n",
       "Octubre           79      502\n",
       "Noviembre        515      166\n",
       "Diciembre        432     1446"
      ]
     },
     "execution_count": 19,
     "metadata": {},
     "output_type": "execute_result"
    }
   ],
   "source": [
    "df"
   ]
  },
  {
   "cell_type": "code",
   "execution_count": 20,
   "id": "f77ef6fe-78ad-4b92-8a66-bb24d4949329",
   "metadata": {
    "ExecuteTime": {
     "end_time": "2024-04-01T04:05:38.805487Z",
     "start_time": "2024-04-01T04:05:38.798804Z"
    }
   },
   "outputs": [
    {
     "data": {
      "text/plain": [
       "Ingresos     849\n",
       "Egresos     1208\n",
       "Name: Enero, dtype: int32"
      ]
     },
     "execution_count": 20,
     "metadata": {},
     "output_type": "execute_result"
    }
   ],
   "source": [
    "df.loc[\"Enero\"]"
   ]
  },
  {
   "cell_type": "code",
   "execution_count": 21,
   "id": "3ef23fef-93f6-4763-a687-1907379dab41",
   "metadata": {
    "ExecuteTime": {
     "end_time": "2024-04-01T04:05:38.812884Z",
     "start_time": "2024-04-01T04:05:38.805487Z"
    }
   },
   "outputs": [
    {
     "data": {
      "text/plain": [
       "Ingresos     432\n",
       "Egresos     1446\n",
       "Name: Diciembre, dtype: int32"
      ]
     },
     "execution_count": 21,
     "metadata": {},
     "output_type": "execute_result"
    }
   ],
   "source": [
    "df.iloc[11]"
   ]
  },
  {
   "cell_type": "code",
   "execution_count": 22,
   "id": "0d32fab5-7c3f-425f-97f6-d5ebd6cffa97",
   "metadata": {
    "ExecuteTime": {
     "end_time": "2024-04-01T04:05:38.824189Z",
     "start_time": "2024-04-01T04:05:38.812884Z"
    }
   },
   "outputs": [
    {
     "data": {
      "text/html": [
       "<div>\n",
       "<style scoped>\n",
       "    .dataframe tbody tr th:only-of-type {\n",
       "        vertical-align: middle;\n",
       "    }\n",
       "\n",
       "    .dataframe tbody tr th {\n",
       "        vertical-align: top;\n",
       "    }\n",
       "\n",
       "    .dataframe thead th {\n",
       "        text-align: right;\n",
       "    }\n",
       "</style>\n",
       "<table border=\"1\" class=\"dataframe\">\n",
       "  <thead>\n",
       "    <tr style=\"text-align: right;\">\n",
       "      <th></th>\n",
       "      <th>Ingresos</th>\n",
       "      <th>Egresos</th>\n",
       "    </tr>\n",
       "  </thead>\n",
       "  <tbody>\n",
       "    <tr>\n",
       "      <th>Enero</th>\n",
       "      <td>849</td>\n",
       "      <td>1208</td>\n",
       "    </tr>\n",
       "    <tr>\n",
       "      <th>Febrero</th>\n",
       "      <td>273</td>\n",
       "      <td>259</td>\n",
       "    </tr>\n",
       "    <tr>\n",
       "      <th>Marzo</th>\n",
       "      <td>1386</td>\n",
       "      <td>786</td>\n",
       "    </tr>\n",
       "    <tr>\n",
       "      <th>Abril</th>\n",
       "      <td>351</td>\n",
       "      <td>608</td>\n",
       "    </tr>\n",
       "  </tbody>\n",
       "</table>\n",
       "</div>"
      ],
      "text/plain": [
       "         Ingresos  Egresos\n",
       "Enero         849     1208\n",
       "Febrero       273      259\n",
       "Marzo        1386      786\n",
       "Abril         351      608"
      ]
     },
     "execution_count": 22,
     "metadata": {},
     "output_type": "execute_result"
    }
   ],
   "source": [
    "df.iloc[0:4]"
   ]
  },
  {
   "cell_type": "markdown",
   "id": "b1149d92-0bde-417f-ae39-679891b82a3f",
   "metadata": {},
   "source": [
    "## Consulta avanzada mediante queries"
   ]
  },
  {
   "cell_type": "code",
   "execution_count": 23,
   "id": "f5d6578d-db76-4985-87e1-0275f05f1da7",
   "metadata": {
    "ExecuteTime": {
     "end_time": "2024-04-01T04:05:38.836230Z",
     "start_time": "2024-04-01T04:05:38.824189Z"
    }
   },
   "outputs": [
    {
     "data": {
      "text/html": [
       "<div>\n",
       "<style scoped>\n",
       "    .dataframe tbody tr th:only-of-type {\n",
       "        vertical-align: middle;\n",
       "    }\n",
       "\n",
       "    .dataframe tbody tr th {\n",
       "        vertical-align: top;\n",
       "    }\n",
       "\n",
       "    .dataframe thead th {\n",
       "        text-align: right;\n",
       "    }\n",
       "</style>\n",
       "<table border=\"1\" class=\"dataframe\">\n",
       "  <thead>\n",
       "    <tr style=\"text-align: right;\">\n",
       "      <th></th>\n",
       "      <th>Ingresos</th>\n",
       "      <th>Egresos</th>\n",
       "    </tr>\n",
       "  </thead>\n",
       "  <tbody>\n",
       "    <tr>\n",
       "      <th>Marzo</th>\n",
       "      <td>1386</td>\n",
       "      <td>786</td>\n",
       "    </tr>\n",
       "    <tr>\n",
       "      <th>Agosto</th>\n",
       "      <td>1053</td>\n",
       "      <td>324</td>\n",
       "    </tr>\n",
       "    <tr>\n",
       "      <th>Septiembre</th>\n",
       "      <td>910</td>\n",
       "      <td>648</td>\n",
       "    </tr>\n",
       "  </tbody>\n",
       "</table>\n",
       "</div>"
      ],
      "text/plain": [
       "            Ingresos  Egresos\n",
       "Marzo           1386      786\n",
       "Agosto          1053      324\n",
       "Septiembre       910      648"
      ]
     },
     "execution_count": 23,
     "metadata": {},
     "output_type": "execute_result"
    }
   ],
   "source": [
    "df.query(\"Ingresos >= 800 and Egresos < 1000\")"
   ]
  },
  {
   "cell_type": "code",
   "execution_count": 24,
   "id": "3aece355-3244-41d4-b344-f8a53e9bc030",
   "metadata": {
    "ExecuteTime": {
     "end_time": "2024-04-01T04:05:39.101281Z",
     "start_time": "2024-04-01T04:05:38.836230Z"
    }
   },
   "outputs": [
    {
     "data": {
      "image/png": "[encoded data removed]",
      "text/plain": [
       "<Figure size 1500x500 with 1 Axes>"
      ]
     },
     "metadata": {},
     "output_type": "display_data"
    }
   ],
   "source": [
    "# Graficamos la relacion de ambos\n",
    "\n",
    "plt.figure(figsize=(15,5))\n",
    "plt.plot(df[\"Ingresos\"], \"c\", label=\"Ingresos\")\n",
    "plt.ylabel(\"Miles de Pesos\")\n",
    "plt.xlabel(\"2024\")\n",
    "plt.plot(df[\"Egresos\"], \"r\", label=\"Egresos\")\n",
    "plt.legend(loc=\"best\")\n",
    "plt.show()"
   ]
  },
  {
   "cell_type": "markdown",
   "id": "30875cb8-4933-4f2d-9055-9c53e47baf29",
   "metadata": {},
   "source": [
    "Calculamos el balance total para analizar si hubo perdidas o ganancias en el año"
   ]
  },
  {
   "cell_type": "code",
   "execution_count": 25,
   "id": "86090e8b-99d6-4249-91ab-ce77c742f8de",
   "metadata": {
    "ExecuteTime": {
     "end_time": "2024-04-01T04:05:39.378936Z",
     "start_time": "2024-04-01T04:05:39.101281Z"
    }
   },
   "outputs": [
    {
     "name": "stdout",
     "output_type": "stream",
     "text": [
      "Balance total: $295\n"
     ]
    },
    {
     "data": {
      "image/png": "[encoded data removed]",
      "text/plain": [
       "<Figure size 1500x500 with 1 Axes>"
      ]
     },
     "metadata": {},
     "output_type": "display_data"
    }
   ],
   "source": [
    "totalVentas = np.sum(df[\"Ingresos\"])\n",
    "totalGastos = np.sum(df[\"Egresos\"])\n",
    "\n",
    "print(f'Balance total: ${totalVentas - totalGastos}')\n",
    "\n",
    "plt.figure(figsize=(15,5))\n",
    "plt.title(\"Balance\")\n",
    "plt.plot((df[\"Ingresos\"] - df[\"Egresos\"]), label=\"Balance\")\n",
    "plt.legend(loc=\"best\")\n",
    "plt.show()"
   ]
  },
  {
   "cell_type": "markdown",
   "id": "6a47e327-afa1-4ff1-8038-f0f896cd4b38",
   "metadata": {},
   "source": [
    "Podemos ver que hubo perdidas por $540 000 pesos"
   ]
  },
  {
   "cell_type": "markdown",
   "id": "6c28db95-f4c3-4f86-ab6f-097804348aa6",
   "metadata": {},
   "source": [
    "## Modificacion de un DataFrame"
   ]
  },
  {
   "cell_type": "code",
   "execution_count": 26,
   "id": "ae46598c-3e7f-4235-8d3e-ed7b9b1151bd",
   "metadata": {
    "ExecuteTime": {
     "end_time": "2024-04-01T04:05:39.392228Z",
     "start_time": "2024-04-01T04:05:39.378936Z"
    }
   },
   "outputs": [
    {
     "name": "stdout",
     "output_type": "stream",
     "text": [
      "<class 'pandas.core.series.Series'>\n"
     ]
    },
    {
     "data": {
      "text/html": [
       "<div>\n",
       "<style scoped>\n",
       "    .dataframe tbody tr th:only-of-type {\n",
       "        vertical-align: middle;\n",
       "    }\n",
       "\n",
       "    .dataframe tbody tr th {\n",
       "        vertical-align: top;\n",
       "    }\n",
       "\n",
       "    .dataframe thead th {\n",
       "        text-align: right;\n",
       "    }\n",
       "</style>\n",
       "<table border=\"1\" class=\"dataframe\">\n",
       "  <thead>\n",
       "    <tr style=\"text-align: right;\">\n",
       "      <th></th>\n",
       "      <th>Ingresos</th>\n",
       "      <th>Egresos</th>\n",
       "      <th>Balances</th>\n",
       "    </tr>\n",
       "  </thead>\n",
       "  <tbody>\n",
       "    <tr>\n",
       "      <th>Enero</th>\n",
       "      <td>849</td>\n",
       "      <td>1208</td>\n",
       "      <td>-359</td>\n",
       "    </tr>\n",
       "    <tr>\n",
       "      <th>Febrero</th>\n",
       "      <td>273</td>\n",
       "      <td>259</td>\n",
       "      <td>14</td>\n",
       "    </tr>\n",
       "    <tr>\n",
       "      <th>Marzo</th>\n",
       "      <td>1386</td>\n",
       "      <td>786</td>\n",
       "      <td>600</td>\n",
       "    </tr>\n",
       "    <tr>\n",
       "      <th>Abril</th>\n",
       "      <td>351</td>\n",
       "      <td>608</td>\n",
       "      <td>-257</td>\n",
       "    </tr>\n",
       "    <tr>\n",
       "      <th>Mayo</th>\n",
       "      <td>311</td>\n",
       "      <td>429</td>\n",
       "      <td>-118</td>\n",
       "    </tr>\n",
       "    <tr>\n",
       "      <th>Junio</th>\n",
       "      <td>508</td>\n",
       "      <td>49</td>\n",
       "      <td>459</td>\n",
       "    </tr>\n",
       "    <tr>\n",
       "      <th>Julio</th>\n",
       "      <td>445</td>\n",
       "      <td>392</td>\n",
       "      <td>53</td>\n",
       "    </tr>\n",
       "    <tr>\n",
       "      <th>Agosto</th>\n",
       "      <td>1053</td>\n",
       "      <td>324</td>\n",
       "      <td>729</td>\n",
       "    </tr>\n",
       "    <tr>\n",
       "      <th>Septiembre</th>\n",
       "      <td>910</td>\n",
       "      <td>648</td>\n",
       "      <td>262</td>\n",
       "    </tr>\n",
       "    <tr>\n",
       "      <th>Octubre</th>\n",
       "      <td>79</td>\n",
       "      <td>502</td>\n",
       "      <td>-423</td>\n",
       "    </tr>\n",
       "    <tr>\n",
       "      <th>Noviembre</th>\n",
       "      <td>515</td>\n",
       "      <td>166</td>\n",
       "      <td>349</td>\n",
       "    </tr>\n",
       "    <tr>\n",
       "      <th>Diciembre</th>\n",
       "      <td>432</td>\n",
       "      <td>1446</td>\n",
       "      <td>-1014</td>\n",
       "    </tr>\n",
       "  </tbody>\n",
       "</table>\n",
       "</div>"
      ],
      "text/plain": [
       "            Ingresos  Egresos  Balances\n",
       "Enero            849     1208      -359\n",
       "Febrero          273      259        14\n",
       "Marzo           1386      786       600\n",
       "Abril            351      608      -257\n",
       "Mayo             311      429      -118\n",
       "Junio            508       49       459\n",
       "Julio            445      392        53\n",
       "Agosto          1053      324       729\n",
       "Septiembre       910      648       262\n",
       "Octubre           79      502      -423\n",
       "Noviembre        515      166       349\n",
       "Diciembre        432     1446     -1014"
      ]
     },
     "execution_count": 26,
     "metadata": {},
     "output_type": "execute_result"
    }
   ],
   "source": [
    "# Añadir una nueva columna a el dataframe\n",
    "\n",
    "balances = df[\"Ingresos\"] - df[\"Egresos\"]\n",
    "df[\"Balances\"] = balances\n",
    "print(type(df[\"Ingresos\"]))\n",
    "df"
   ]
  },
  {
   "cell_type": "code",
   "execution_count": 27,
   "id": "5076273c-6f86-4da8-827d-d19cbc8312d3",
   "metadata": {
    "ExecuteTime": {
     "end_time": "2024-04-01T04:05:39.404711Z",
     "start_time": "2024-04-01T04:05:39.392228Z"
    }
   },
   "outputs": [
    {
     "data": {
      "text/html": [
       "<div>\n",
       "<style scoped>\n",
       "    .dataframe tbody tr th:only-of-type {\n",
       "        vertical-align: middle;\n",
       "    }\n",
       "\n",
       "    .dataframe tbody tr th {\n",
       "        vertical-align: top;\n",
       "    }\n",
       "\n",
       "    .dataframe thead th {\n",
       "        text-align: right;\n",
       "    }\n",
       "</style>\n",
       "<table border=\"1\" class=\"dataframe\">\n",
       "  <thead>\n",
       "    <tr style=\"text-align: right;\">\n",
       "      <th></th>\n",
       "      <th>Ingresos</th>\n",
       "      <th>Egresos</th>\n",
       "      <th>Balances</th>\n",
       "    </tr>\n",
       "  </thead>\n",
       "  <tbody>\n",
       "    <tr>\n",
       "      <th>Enero</th>\n",
       "      <td>849</td>\n",
       "      <td>1208</td>\n",
       "      <td>-354</td>\n",
       "    </tr>\n",
       "    <tr>\n",
       "      <th>Febrero</th>\n",
       "      <td>273</td>\n",
       "      <td>259</td>\n",
       "      <td>411</td>\n",
       "    </tr>\n",
       "    <tr>\n",
       "      <th>Marzo</th>\n",
       "      <td>1386</td>\n",
       "      <td>786</td>\n",
       "      <td>501</td>\n",
       "    </tr>\n",
       "    <tr>\n",
       "      <th>Abril</th>\n",
       "      <td>351</td>\n",
       "      <td>608</td>\n",
       "      <td>-147</td>\n",
       "    </tr>\n",
       "    <tr>\n",
       "      <th>Mayo</th>\n",
       "      <td>311</td>\n",
       "      <td>429</td>\n",
       "      <td>-329</td>\n",
       "    </tr>\n",
       "    <tr>\n",
       "      <th>Junio</th>\n",
       "      <td>508</td>\n",
       "      <td>49</td>\n",
       "      <td>-335</td>\n",
       "    </tr>\n",
       "    <tr>\n",
       "      <th>Julio</th>\n",
       "      <td>445</td>\n",
       "      <td>392</td>\n",
       "      <td>-351</td>\n",
       "    </tr>\n",
       "    <tr>\n",
       "      <th>Agosto</th>\n",
       "      <td>1053</td>\n",
       "      <td>324</td>\n",
       "      <td>46</td>\n",
       "    </tr>\n",
       "    <tr>\n",
       "      <th>Septiembre</th>\n",
       "      <td>910</td>\n",
       "      <td>648</td>\n",
       "      <td>-46</td>\n",
       "    </tr>\n",
       "    <tr>\n",
       "      <th>Octubre</th>\n",
       "      <td>79</td>\n",
       "      <td>502</td>\n",
       "      <td>131</td>\n",
       "    </tr>\n",
       "    <tr>\n",
       "      <th>Noviembre</th>\n",
       "      <td>515</td>\n",
       "      <td>166</td>\n",
       "      <td>-102</td>\n",
       "    </tr>\n",
       "    <tr>\n",
       "      <th>Diciembre</th>\n",
       "      <td>432</td>\n",
       "      <td>1446</td>\n",
       "      <td>35</td>\n",
       "    </tr>\n",
       "  </tbody>\n",
       "</table>\n",
       "</div>"
      ],
      "text/plain": [
       "            Ingresos  Egresos  Balances\n",
       "Enero            849     1208      -354\n",
       "Febrero          273      259       411\n",
       "Marzo           1386      786       501\n",
       "Abril            351      608      -147\n",
       "Mayo             311      429      -329\n",
       "Junio            508       49      -335\n",
       "Julio            445      392      -351\n",
       "Agosto          1053      324        46\n",
       "Septiembre       910      648       -46\n",
       "Octubre           79      502       131\n",
       "Noviembre        515      166      -102\n",
       "Diciembre        432     1446        35"
      ]
     },
     "execution_count": 27,
     "metadata": {},
     "output_type": "execute_result"
    }
   ],
   "source": [
    "# Añadicendo una nueva columna y retornando un nuevo DataFrame\n",
    "df_mod = df.assign(Balances = [-354, 411, 501, -147, -329, -335, -351, 46, -46, 131, -102, 35])\n",
    "df_mod"
   ]
  },
  {
   "cell_type": "code",
   "execution_count": 28,
   "id": "9a4ab692-c6ad-4c17-bc9c-377a5ca66647",
   "metadata": {
    "ExecuteTime": {
     "end_time": "2024-04-01T04:05:39.416287Z",
     "start_time": "2024-04-01T04:05:39.404711Z"
    }
   },
   "outputs": [
    {
     "data": {
      "text/html": [
       "<div>\n",
       "<style scoped>\n",
       "    .dataframe tbody tr th:only-of-type {\n",
       "        vertical-align: middle;\n",
       "    }\n",
       "\n",
       "    .dataframe tbody tr th {\n",
       "        vertical-align: top;\n",
       "    }\n",
       "\n",
       "    .dataframe thead th {\n",
       "        text-align: right;\n",
       "    }\n",
       "</style>\n",
       "<table border=\"1\" class=\"dataframe\">\n",
       "  <thead>\n",
       "    <tr style=\"text-align: right;\">\n",
       "      <th></th>\n",
       "      <th>Ingresos</th>\n",
       "      <th>Egresos</th>\n",
       "    </tr>\n",
       "  </thead>\n",
       "  <tbody>\n",
       "    <tr>\n",
       "      <th>Enero</th>\n",
       "      <td>849</td>\n",
       "      <td>1208</td>\n",
       "    </tr>\n",
       "    <tr>\n",
       "      <th>Febrero</th>\n",
       "      <td>273</td>\n",
       "      <td>259</td>\n",
       "    </tr>\n",
       "    <tr>\n",
       "      <th>Marzo</th>\n",
       "      <td>1386</td>\n",
       "      <td>786</td>\n",
       "    </tr>\n",
       "    <tr>\n",
       "      <th>Abril</th>\n",
       "      <td>351</td>\n",
       "      <td>608</td>\n",
       "    </tr>\n",
       "    <tr>\n",
       "      <th>Mayo</th>\n",
       "      <td>311</td>\n",
       "      <td>429</td>\n",
       "    </tr>\n",
       "    <tr>\n",
       "      <th>Junio</th>\n",
       "      <td>508</td>\n",
       "      <td>49</td>\n",
       "    </tr>\n",
       "    <tr>\n",
       "      <th>Julio</th>\n",
       "      <td>445</td>\n",
       "      <td>392</td>\n",
       "    </tr>\n",
       "    <tr>\n",
       "      <th>Agosto</th>\n",
       "      <td>1053</td>\n",
       "      <td>324</td>\n",
       "    </tr>\n",
       "    <tr>\n",
       "      <th>Septiembre</th>\n",
       "      <td>910</td>\n",
       "      <td>648</td>\n",
       "    </tr>\n",
       "    <tr>\n",
       "      <th>Octubre</th>\n",
       "      <td>79</td>\n",
       "      <td>502</td>\n",
       "    </tr>\n",
       "    <tr>\n",
       "      <th>Noviembre</th>\n",
       "      <td>515</td>\n",
       "      <td>166</td>\n",
       "    </tr>\n",
       "    <tr>\n",
       "      <th>Diciembre</th>\n",
       "      <td>432</td>\n",
       "      <td>1446</td>\n",
       "    </tr>\n",
       "  </tbody>\n",
       "</table>\n",
       "</div>"
      ],
      "text/plain": [
       "            Ingresos  Egresos\n",
       "Enero            849     1208\n",
       "Febrero          273      259\n",
       "Marzo           1386      786\n",
       "Abril            351      608\n",
       "Mayo             311      429\n",
       "Junio            508       49\n",
       "Julio            445      392\n",
       "Agosto          1053      324\n",
       "Septiembre       910      648\n",
       "Octubre           79      502\n",
       "Noviembre        515      166\n",
       "Diciembre        432     1446"
      ]
     },
     "execution_count": 28,
     "metadata": {},
     "output_type": "execute_result"
    }
   ],
   "source": [
    "# Eliminar una columna existente del DataFrame\n",
    "del df[\"Balances\"]\n",
    "df"
   ]
  },
  {
   "cell_type": "code",
   "execution_count": 29,
   "id": "92fd6f59-7702-40cd-bb53-0d8eb0f7fdd8",
   "metadata": {
    "ExecuteTime": {
     "end_time": "2024-04-01T04:05:41.489961Z",
     "start_time": "2024-04-01T04:05:39.418303Z"
    }
   },
   "outputs": [
    {
     "ename": "KeyError",
     "evalue": "\"['Balances'] not found in axis\"",
     "output_type": "error",
     "traceback": [
      "\u001b[1;31m---------------------------------------------------------------------------\u001b[0m",
      "\u001b[1;31mKeyError\u001b[0m                                  Traceback (most recent call last)",
      "Cell \u001b[1;32mIn[29], line 3\u001b[0m\n\u001b[0;32m      1\u001b[0m \u001b[38;5;66;03m# Borrando una columna y devolver una copia del DataFrame resultante\u001b[39;00m\n\u001b[1;32m----> 3\u001b[0m df_mod \u001b[38;5;241m=\u001b[39m \u001b[43mdf\u001b[49m\u001b[38;5;241;43m.\u001b[39;49m\u001b[43mdrop\u001b[49m\u001b[43m(\u001b[49m\u001b[43m[\u001b[49m\u001b[38;5;124;43m\"\u001b[39;49m\u001b[38;5;124;43mBalances\u001b[39;49m\u001b[38;5;124;43m\"\u001b[39;49m\u001b[43m]\u001b[49m\u001b[43m,\u001b[49m\u001b[43m \u001b[49m\u001b[43maxis\u001b[49m\u001b[38;5;241;43m=\u001b[39;49m\u001b[38;5;241;43m1\u001b[39;49m\u001b[43m)\u001b[49m\n\u001b[0;32m      4\u001b[0m df_mod\n",
      "File \u001b[1;32m~\\OneDrive\\Desktop\\Antares\\Python\\venv\\Lib\\site-packages\\pandas\\core\\frame.py:5568\u001b[0m, in \u001b[0;36mDataFrame.drop\u001b[1;34m(self, labels, axis, index, columns, level, inplace, errors)\u001b[0m\n\u001b[0;32m   5420\u001b[0m \u001b[38;5;28;01mdef\u001b[39;00m \u001b[38;5;21mdrop\u001b[39m(\n\u001b[0;32m   5421\u001b[0m     \u001b[38;5;28mself\u001b[39m,\n\u001b[0;32m   5422\u001b[0m     labels: IndexLabel \u001b[38;5;241m|\u001b[39m \u001b[38;5;28;01mNone\u001b[39;00m \u001b[38;5;241m=\u001b[39m \u001b[38;5;28;01mNone\u001b[39;00m,\n\u001b[1;32m   (...)\u001b[0m\n\u001b[0;32m   5429\u001b[0m     errors: IgnoreRaise \u001b[38;5;241m=\u001b[39m \u001b[38;5;124m\"\u001b[39m\u001b[38;5;124mraise\u001b[39m\u001b[38;5;124m\"\u001b[39m,\n\u001b[0;32m   5430\u001b[0m ) \u001b[38;5;241m-\u001b[39m\u001b[38;5;241m>\u001b[39m DataFrame \u001b[38;5;241m|\u001b[39m \u001b[38;5;28;01mNone\u001b[39;00m:\n\u001b[0;32m   5431\u001b[0m \u001b[38;5;250m    \u001b[39m\u001b[38;5;124;03m\"\"\"\u001b[39;00m\n\u001b[0;32m   5432\u001b[0m \u001b[38;5;124;03m    Drop specified labels from rows or columns.\u001b[39;00m\n\u001b[0;32m   5433\u001b[0m \n\u001b[1;32m   (...)\u001b[0m\n\u001b[0;32m   5566\u001b[0m \u001b[38;5;124;03m            weight  1.0     0.8\u001b[39;00m\n\u001b[0;32m   5567\u001b[0m \u001b[38;5;124;03m    \"\"\"\u001b[39;00m\n\u001b[1;32m-> 5568\u001b[0m     \u001b[38;5;28;01mreturn\u001b[39;00m \u001b[38;5;28;43msuper\u001b[39;49m\u001b[43m(\u001b[49m\u001b[43m)\u001b[49m\u001b[38;5;241;43m.\u001b[39;49m\u001b[43mdrop\u001b[49m\u001b[43m(\u001b[49m\n\u001b[0;32m   5569\u001b[0m \u001b[43m        \u001b[49m\u001b[43mlabels\u001b[49m\u001b[38;5;241;43m=\u001b[39;49m\u001b[43mlabels\u001b[49m\u001b[43m,\u001b[49m\n\u001b[0;32m   5570\u001b[0m \u001b[43m        \u001b[49m\u001b[43maxis\u001b[49m\u001b[38;5;241;43m=\u001b[39;49m\u001b[43maxis\u001b[49m\u001b[43m,\u001b[49m\n\u001b[0;32m   5571\u001b[0m \u001b[43m        \u001b[49m\u001b[43mindex\u001b[49m\u001b[38;5;241;43m=\u001b[39;49m\u001b[43mindex\u001b[49m\u001b[43m,\u001b[49m\n\u001b[0;32m   5572\u001b[0m \u001b[43m        \u001b[49m\u001b[43mcolumns\u001b[49m\u001b[38;5;241;43m=\u001b[39;49m\u001b[43mcolumns\u001b[49m\u001b[43m,\u001b[49m\n\u001b[0;32m   5573\u001b[0m \u001b[43m        \u001b[49m\u001b[43mlevel\u001b[49m\u001b[38;5;241;43m=\u001b[39;49m\u001b[43mlevel\u001b[49m\u001b[43m,\u001b[49m\n\u001b[0;32m   5574\u001b[0m \u001b[43m        \u001b[49m\u001b[43minplace\u001b[49m\u001b[38;5;241;43m=\u001b[39;49m\u001b[43minplace\u001b[49m\u001b[43m,\u001b[49m\n\u001b[0;32m   5575\u001b[0m \u001b[43m        \u001b[49m\u001b[43merrors\u001b[49m\u001b[38;5;241;43m=\u001b[39;49m\u001b[43merrors\u001b[49m\u001b[43m,\u001b[49m\n\u001b[0;32m   5576\u001b[0m \u001b[43m    \u001b[49m\u001b[43m)\u001b[49m\n",
      "File \u001b[1;32m~\\OneDrive\\Desktop\\Antares\\Python\\venv\\Lib\\site-packages\\pandas\\core\\generic.py:4785\u001b[0m, in \u001b[0;36mNDFrame.drop\u001b[1;34m(self, labels, axis, index, columns, level, inplace, errors)\u001b[0m\n\u001b[0;32m   4783\u001b[0m \u001b[38;5;28;01mfor\u001b[39;00m axis, labels \u001b[38;5;129;01min\u001b[39;00m axes\u001b[38;5;241m.\u001b[39mitems():\n\u001b[0;32m   4784\u001b[0m     \u001b[38;5;28;01mif\u001b[39;00m labels \u001b[38;5;129;01mis\u001b[39;00m \u001b[38;5;129;01mnot\u001b[39;00m \u001b[38;5;28;01mNone\u001b[39;00m:\n\u001b[1;32m-> 4785\u001b[0m         obj \u001b[38;5;241m=\u001b[39m \u001b[43mobj\u001b[49m\u001b[38;5;241;43m.\u001b[39;49m\u001b[43m_drop_axis\u001b[49m\u001b[43m(\u001b[49m\u001b[43mlabels\u001b[49m\u001b[43m,\u001b[49m\u001b[43m \u001b[49m\u001b[43maxis\u001b[49m\u001b[43m,\u001b[49m\u001b[43m \u001b[49m\u001b[43mlevel\u001b[49m\u001b[38;5;241;43m=\u001b[39;49m\u001b[43mlevel\u001b[49m\u001b[43m,\u001b[49m\u001b[43m \u001b[49m\u001b[43merrors\u001b[49m\u001b[38;5;241;43m=\u001b[39;49m\u001b[43merrors\u001b[49m\u001b[43m)\u001b[49m\n\u001b[0;32m   4787\u001b[0m \u001b[38;5;28;01mif\u001b[39;00m inplace:\n\u001b[0;32m   4788\u001b[0m     \u001b[38;5;28mself\u001b[39m\u001b[38;5;241m.\u001b[39m_update_inplace(obj)\n",
      "File \u001b[1;32m~\\OneDrive\\Desktop\\Antares\\Python\\venv\\Lib\\site-packages\\pandas\\core\\generic.py:4827\u001b[0m, in \u001b[0;36mNDFrame._drop_axis\u001b[1;34m(self, labels, axis, level, errors, only_slice)\u001b[0m\n\u001b[0;32m   4825\u001b[0m         new_axis \u001b[38;5;241m=\u001b[39m axis\u001b[38;5;241m.\u001b[39mdrop(labels, level\u001b[38;5;241m=\u001b[39mlevel, errors\u001b[38;5;241m=\u001b[39merrors)\n\u001b[0;32m   4826\u001b[0m     \u001b[38;5;28;01melse\u001b[39;00m:\n\u001b[1;32m-> 4827\u001b[0m         new_axis \u001b[38;5;241m=\u001b[39m \u001b[43maxis\u001b[49m\u001b[38;5;241;43m.\u001b[39;49m\u001b[43mdrop\u001b[49m\u001b[43m(\u001b[49m\u001b[43mlabels\u001b[49m\u001b[43m,\u001b[49m\u001b[43m \u001b[49m\u001b[43merrors\u001b[49m\u001b[38;5;241;43m=\u001b[39;49m\u001b[43merrors\u001b[49m\u001b[43m)\u001b[49m\n\u001b[0;32m   4828\u001b[0m     indexer \u001b[38;5;241m=\u001b[39m axis\u001b[38;5;241m.\u001b[39mget_indexer(new_axis)\n\u001b[0;32m   4830\u001b[0m \u001b[38;5;66;03m# Case for non-unique axis\u001b[39;00m\n\u001b[0;32m   4831\u001b[0m \u001b[38;5;28;01melse\u001b[39;00m:\n",
      "File \u001b[1;32m~\\OneDrive\\Desktop\\Antares\\Python\\venv\\Lib\\site-packages\\pandas\\core\\indexes\\base.py:7070\u001b[0m, in \u001b[0;36mIndex.drop\u001b[1;34m(self, labels, errors)\u001b[0m\n\u001b[0;32m   7068\u001b[0m \u001b[38;5;28;01mif\u001b[39;00m mask\u001b[38;5;241m.\u001b[39many():\n\u001b[0;32m   7069\u001b[0m     \u001b[38;5;28;01mif\u001b[39;00m errors \u001b[38;5;241m!=\u001b[39m \u001b[38;5;124m\"\u001b[39m\u001b[38;5;124mignore\u001b[39m\u001b[38;5;124m\"\u001b[39m:\n\u001b[1;32m-> 7070\u001b[0m         \u001b[38;5;28;01mraise\u001b[39;00m \u001b[38;5;167;01mKeyError\u001b[39;00m(\u001b[38;5;124mf\u001b[39m\u001b[38;5;124m\"\u001b[39m\u001b[38;5;132;01m{\u001b[39;00mlabels[mask]\u001b[38;5;241m.\u001b[39mtolist()\u001b[38;5;132;01m}\u001b[39;00m\u001b[38;5;124m not found in axis\u001b[39m\u001b[38;5;124m\"\u001b[39m)\n\u001b[0;32m   7071\u001b[0m     indexer \u001b[38;5;241m=\u001b[39m indexer[\u001b[38;5;241m~\u001b[39mmask]\n\u001b[0;32m   7072\u001b[0m \u001b[38;5;28;01mreturn\u001b[39;00m \u001b[38;5;28mself\u001b[39m\u001b[38;5;241m.\u001b[39mdelete(indexer)\n",
      "\u001b[1;31mKeyError\u001b[0m: \"['Balances'] not found in axis\""
     ]
    }
   ],
   "source": [
    "# Borrando una columna y devolver una copia del DataFrame resultante\n",
    "\n",
    "df_mod = df.drop([\"Balances\"], axis=1)\n",
    "df_mod"
   ]
  },
  {
   "cell_type": "code",
   "execution_count": null,
   "id": "1e90786f-db01-4962-bcfe-dcc23d1ca64b",
   "metadata": {
    "ExecuteTime": {
     "end_time": "2024-04-01T04:05:41.490981Z",
     "start_time": "2024-04-01T04:05:41.490981Z"
    }
   },
   "outputs": [],
   "source": [
    "df"
   ]
  },
  {
   "cell_type": "markdown",
   "id": "629a2e98-8130-4061-bd03-ee369f232c95",
   "metadata": {},
   "source": [
    "### Evaluando expresiones sobre un DataFrame"
   ]
  },
  {
   "cell_type": "code",
   "execution_count": null,
   "id": "6df9b532-b9a0-4208-99f4-63d3b3822899",
   "metadata": {
    "ExecuteTime": {
     "end_time": "2024-04-01T04:05:41.490981Z",
     "start_time": "2024-04-01T04:05:41.490981Z"
    }
   },
   "outputs": [],
   "source": [
    "df.eval(\"Balances + 100\")"
   ]
  },
  {
   "cell_type": "code",
   "execution_count": null,
   "id": "ad782e03-8678-4d55-966c-5f7266ac4ceb",
   "metadata": {},
   "outputs": [],
   "source": [
    "# Agregando un valor resultante como una nueva columna\n",
    "df.eval(\"Impuestos = Ingresos * 0.33\", inplace=True)\n",
    "df"
   ]
  },
  {
   "cell_type": "markdown",
   "id": "0cf60348-1158-4913-b718-ed4abbf478ec",
   "metadata": {},
   "source": [
    "# Guardando un DataFrame"
   ]
  },
  {
   "cell_type": "code",
   "execution_count": null,
   "id": "027d5ecc-dea0-4ca5-9517-89d9c287cc41",
   "metadata": {
    "ExecuteTime": {
     "start_time": "2024-04-01T04:05:41.498662Z"
    }
   },
   "outputs": [],
   "source": [
    "df.to_csv(\"Balance_2024.csv\")"
   ]
  },
  {
   "cell_type": "code",
   "execution_count": null,
   "id": "5f6f255e-4083-473b-a7d4-ae632d1cafda",
   "metadata": {
    "ExecuteTime": {
     "start_time": "2024-04-01T04:05:41.503686Z"
    }
   },
   "outputs": [],
   "source": [
    "df.to_excel(\"Balance_2024.xlsx\")"
   ]
  },
  {
   "cell_type": "code",
   "execution_count": null,
   "id": "66f9e161-efa3-45e1-85f0-89b8278f811b",
   "metadata": {
    "ExecuteTime": {
     "start_time": "2024-04-01T04:05:41.505698Z"
    }
   },
   "outputs": [],
   "source": [
    "df.to_json(\"Balance_2024.json\")"
   ]
  },
  {
   "cell_type": "markdown",
   "id": "e60f671e-a5fc-40bc-b5e1-6471cd09c393",
   "metadata": {},
   "source": [
    "## Leyendo un DataFrame"
   ]
  },
  {
   "cell_type": "code",
   "execution_count": null,
   "id": "c839d576-8936-4162-b45e-01dedc8d6f2a",
   "metadata": {
    "ExecuteTime": {
     "start_time": "2024-04-01T04:05:41.505698Z"
    }
   },
   "outputs": [],
   "source": [
    "# Cargamos el DataFrame con la primera columna correctamente asignada\n",
    "df2 = pd.read_csv(\"Balance_2024.csv\", index_col=0)\n",
    "df2"
   ]
  }
 ],
 "metadata": {
  "kernelspec": {
   "display_name": "Python 3 (ipykernel)",
   "language": "python",
   "name": "python3"
  },
  "language_info": {
   "codemirror_mode": {
    "name": "ipython",
    "version": 3
   },
   "file_extension": ".py",
   "mimetype": "text/x-python",
   "name": "python",
   "nbconvert_exporter": "python",
   "pygments_lexer": "ipython3",
   "version": "3.11.7"
  }
 },
 "nbformat": 4,
 "nbformat_minor": 5
}
