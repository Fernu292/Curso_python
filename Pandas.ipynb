{
 "cells": [
  {
   "cell_type": "markdown",
   "id": "5a468f02-0820-4b13-b570-acf5f8384caa",
   "metadata": {},
   "source": [
    "# Pandas\n",
    "\n",
    "Es una libreria de computo y analisis de datos que proporciona herramientas poderosas para manejo de datos y estructuras en DataFrames, posee la licencia BSD-License.\n",
    "\n",
    "Posee dos estructuras de datos fundamentales, Series y DataFrames. Las Series son similares a un Array de una dimension, y un DataFrame se corresponde con una tabla 2D\n",
    "\n",
    "* Series: Array de una dimesion\n",
    "* DataFrame: Se corresponde con una tabla 2D\n",
    "* Panel: Similar a un diccionario de DataFrames"
   ]
  },
  {
   "cell_type": "code",
   "execution_count": 1,
   "id": "67e12852-5bc7-4536-b6c9-54403e63b11c",
   "metadata": {},
   "outputs": [],
   "source": [
    "import pandas as pd"
   ]
  },
  {
   "cell_type": "markdown",
   "id": "079a2be1-2135-46f4-b592-f9e6ed7985ab",
   "metadata": {},
   "source": [
    "## Series \n",
    "\n",
    "Podemos generar series en base a una lista de python y tendra la siguiente estructura"
   ]
  },
  {
   "cell_type": "code",
   "execution_count": 2,
   "id": "90971f1c-658e-4497-9d41-ac1deff079a1",
   "metadata": {},
   "outputs": [
    {
     "data": {
      "text/plain": [
       "0       0\n",
       "1       1\n",
       "2       4\n",
       "3       9\n",
       "4      16\n",
       "5      25\n",
       "6      36\n",
       "7      49\n",
       "8      64\n",
       "9      81\n",
       "10    100\n",
       "dtype: int64"
      ]
     },
     "execution_count": 2,
     "metadata": {},
     "output_type": "execute_result"
    }
   ],
   "source": [
    "serie = pd.Series([x**2 for x in range(11)])\n",
    "serie"
   ]
  },
  {
   "cell_type": "markdown",
   "id": "1d7e5bb3-9d31-4508-9fbe-617e99ecb093",
   "metadata": {},
   "source": [
    "Tambien podemos crear una serie en base a un diccionario de Python"
   ]
  },
  {
   "cell_type": "code",
   "execution_count": 3,
   "id": "cab94ad9-5877-4c28-bbf7-fbd65b06fc06",
   "metadata": {},
   "outputs": [
    {
     "data": {
      "text/plain": [
       "Mexico      20\n",
       "Colombia    25\n",
       "USA         30\n",
       "dtype: int64"
      ]
     },
     "execution_count": 3,
     "metadata": {},
     "output_type": "execute_result"
    }
   ],
   "source": [
    "temperaturas = {\"Mexico\": 20, \"Colombia\": 25, \"USA\": 30}\n",
    "temp = pd.Series(temperaturas)\n",
    "temp"
   ]
  },
  {
   "cell_type": "markdown",
   "id": "0cb2b409-0827-4935-8b6a-da55cba5489e",
   "metadata": {},
   "source": [
    "Podemos crear igualmente una serie en base a asignarle a todos los elementos un valor en especifico, supongamos que creamos \n",
    "un DataFrame para las ventas de una empresa en el 2024 por lo cual que iniciaremos todas las ventas con $0"
   ]
  },
  {
   "cell_type": "code",
   "execution_count": 4,
   "id": "31d6a0ee-9e6d-4b2f-bf52-58cf878cef50",
   "metadata": {},
   "outputs": [
    {
     "data": {
      "text/plain": [
       "Enero         0.0\n",
       "Febrero       0.0\n",
       "Marzo         0.0\n",
       "Abril         0.0\n",
       "Mayo          0.0\n",
       "Junio         0.0\n",
       "Julio         0.0\n",
       "Agosto        0.0\n",
       "Septiembre    0.0\n",
       "Octubre       0.0\n",
       "Noviembre     0.0\n",
       "Diciembre     0.0\n",
       "dtype: float64"
      ]
     },
     "execution_count": 4,
     "metadata": {},
     "output_type": "execute_result"
    }
   ],
   "source": [
    "meses = [\"Enero\", \"Febrero\", \"Marzo\", \"Abril\", \"Mayo\", \"Junio\", \"Julio\", \"Agosto\", \"Septiembre\", \"Octubre\", \"Noviembre\", \"Diciembre\"]\n",
    "ventas = pd.Series(0.0, meses)\n",
    "ventas"
   ]
  },
  {
   "cell_type": "markdown",
   "id": "b95bf163-361c-4ec8-bc63-38986d11479a",
   "metadata": {},
   "source": [
    "## Accediendo a los elementos de una serie\n",
    "\n",
    "Podemos acceder por la posicion, usando los indices de manera similar a un array, ademas tabien podemos acceder mediante la clave que le asignamos con el diccionario"
   ]
  },
  {
   "cell_type": "code",
   "execution_count": 5,
   "id": "5290065f-2bc2-4331-b730-56e5694a43e8",
   "metadata": {},
   "outputs": [
    {
     "name": "stdout",
     "output_type": "stream",
     "text": [
      "Enero: 0.0\n",
      "Enero: 0.0\n"
     ]
    }
   ],
   "source": [
    "# Usamos el metodo iloc para acceder a una posicion especifica\n",
    "print(f'Enero: {ventas.iloc[0]}')\n",
    "\n",
    "# Usamos la llave de acceso para optener el valor \n",
    "print(f'Enero: {ventas[\"Enero\"]}')"
   ]
  },
  {
   "cell_type": "code",
   "execution_count": 6,
   "id": "0004a708-fdf7-43b8-9005-99091aac5287",
   "metadata": {},
   "outputs": [
    {
     "name": "stdout",
     "output_type": "stream",
     "text": [
      "Julio: 0.0\n"
     ]
    }
   ],
   "source": [
    "# Tambien podemos acceder mediante el metodo loc\n",
    "print(f'Julio: {ventas.loc[\"Julio\"]}')"
   ]
  },
  {
   "cell_type": "markdown",
   "id": "7d06d44e-6b4e-40d7-ab52-3440d74bac93",
   "metadata": {},
   "source": [
    "### Segmentacion y acceso\n",
    "\n",
    "Se puede usar segmentacion de listas para acceder a ciertos valores de la serie.\n",
    "[Inicio, Final-1] podemos verlo en cuestion de intervalos como un intervalo cerrado abierto\n",
    "Por ejemplo ventas[2:5] lo podemos interpretar como \n",
    "[2,5) = {2,3,4}\n",
    "\n",
    "Ya que en el segundo argumento se toma como un intervalo abierto, entonces se toma como n-1\n"
   ]
  },
  {
   "cell_type": "code",
   "execution_count": 7,
   "id": "6339b215-aaf1-4dd1-a1d2-c4bc0f020257",
   "metadata": {},
   "outputs": [
    {
     "data": {
      "text/plain": [
       "Marzo    0.0\n",
       "Abril    0.0\n",
       "Mayo     0.0\n",
       "dtype: float64"
      ]
     },
     "execution_count": 7,
     "metadata": {},
     "output_type": "execute_result"
    }
   ],
   "source": [
    "# Accediendo de la posicion 2 -> 4 de la Serie\n",
    "ventas.iloc[2:5]"
   ]
  },
  {
   "cell_type": "markdown",
   "id": "c6529747-3dcd-4ac1-8380-118c852178a8",
   "metadata": {},
   "source": [
    "### Operaciones aritmeticas con Series\n",
    "\n",
    "Las series de pandas son compatibles y similares a los arrays de numpy, por lo que podemos manipularlos con dicha libreria"
   ]
  },
  {
   "cell_type": "code",
   "execution_count": 8,
   "id": "edabc704-6802-4063-8aa3-2ac045a5f1e5",
   "metadata": {},
   "outputs": [
    {
     "data": {
      "text/plain": [
       "0.0"
      ]
     },
     "execution_count": 8,
     "metadata": {},
     "output_type": "execute_result"
    }
   ],
   "source": [
    "import numpy as np\n",
    "\n",
    "sumaVentas = np.sum(ventas)\n",
    "sumaVentas"
   ]
  },
  {
   "cell_type": "code",
   "execution_count": 9,
   "id": "c60f14ca-1749-4b86-ac11-c2498282c175",
   "metadata": {},
   "outputs": [
    {
     "data": {
      "text/plain": [
       "array([ 687,  703, 1092, 1447, 1103, 1267,  718,  993,  541, 1100,  354,\n",
       "        282])"
      ]
     },
     "execution_count": 9,
     "metadata": {},
     "output_type": "execute_result"
    }
   ],
   "source": [
    "ventaAleatoria = np.random.randint(low=0, high=1500, size=12)\n",
    "ventaAleatoria"
   ]
  },
  {
   "cell_type": "code",
   "execution_count": 10,
   "id": "54bd2044-5c8e-42dd-941c-ee2bcc3d2d53",
   "metadata": {},
   "outputs": [
    {
     "data": {
      "text/plain": [
       "Enero          687.0\n",
       "Febrero        703.0\n",
       "Marzo         1092.0\n",
       "Abril         1447.0\n",
       "Mayo          1103.0\n",
       "Junio         1267.0\n",
       "Julio          718.0\n",
       "Agosto         993.0\n",
       "Septiembre     541.0\n",
       "Octubre       1100.0\n",
       "Noviembre      354.0\n",
       "Diciembre      282.0\n",
       "dtype: float64"
      ]
     },
     "execution_count": 10,
     "metadata": {},
     "output_type": "execute_result"
    }
   ],
   "source": [
    "ventas += ventaAleatoria\n",
    "ventas"
   ]
  },
  {
   "cell_type": "code",
   "execution_count": 11,
   "id": "1c315ceb-0765-4744-ab9f-4eeda0f51f46",
   "metadata": {},
   "outputs": [
    {
     "name": "stdout",
     "output_type": "stream",
     "text": [
      "Suma anual 2024: $10287.0\n"
     ]
    }
   ],
   "source": [
    "# Obtenemos la suma de las ventas totales del año\n",
    "\n",
    "sumaVentas = np.sum(ventas)\n",
    "print(f'Suma anual 2024: ${sumaVentas}')"
   ]
  },
  {
   "cell_type": "code",
   "execution_count": 12,
   "id": "7188a422-713a-49b8-bef0-17a1e4acad29",
   "metadata": {},
   "outputs": [
    {
     "data": {
      "text/plain": [
       "Enero          687.0\n",
       "Febrero        703.0\n",
       "Marzo         1092.0\n",
       "Abril         1447.0\n",
       "Mayo          1103.0\n",
       "Junio         1267.0\n",
       "Julio          718.0\n",
       "Agosto         993.0\n",
       "Septiembre     541.0\n",
       "Octubre       1100.0\n",
       "Noviembre      354.0\n",
       "Diciembre      282.0\n",
       "Name: Ventas 2024, dtype: float64"
      ]
     },
     "execution_count": 12,
     "metadata": {},
     "output_type": "execute_result"
    }
   ],
   "source": [
    "ventas = pd.Series(ventas, name=\"Ventas 2024\")\n",
    "ventas"
   ]
  },
  {
   "cell_type": "markdown",
   "id": "234a7bce-2ed5-4575-a37c-0c01d4121b09",
   "metadata": {},
   "source": [
    "## Representacion grafica de las ventas en el 2024\n",
    "\n",
    "En base a nuestro ejemplo de ventas, podemos realizar analisis graficos de dichos comportamientos, para asi generar reportes mas atractivos y entendibles, no solo para compañeros de area si no para ejecutivos."
   ]
  },
  {
   "cell_type": "code",
   "execution_count": 13,
   "id": "92a7e346-e564-4d4d-aa06-b52251ef41d1",
   "metadata": {},
   "outputs": [
    {
     "data": {
      "image/png": "[encoded data removed]",
      "text/plain": [
       "<Figure size 640x480 with 1 Axes>"
      ]
     },
     "metadata": {},
     "output_type": "display_data"
    }
   ],
   "source": [
    "import matplotlib.pyplot as plt\n",
    "\n",
    "ventas.plot()\n",
    "plt.show()"
   ]
  },
  {
   "cell_type": "markdown",
   "id": "2fbd643d-c1ba-4005-a356-48bb61047cfb",
   "metadata": {},
   "source": [
    "# Creacion de un objeto DataFrame\n",
    "\n",
    "Los DataFrames son el tipo de dato principal y el mas utilizado en pandas para analisis de datos, y podemos generarlo en base a una serie compleja de datos, tanto archivos de excel, csv y demas formatos"
   ]
  },
  {
   "cell_type": "code",
   "execution_count": 14,
   "id": "6ac55e8f-417e-43d8-8d96-1a32d93fd63d",
   "metadata": {},
   "outputs": [
    {
     "data": {
      "text/html": [
       "<div>\n",
       "<style scoped>\n",
       "    .dataframe tbody tr th:only-of-type {\n",
       "        vertical-align: middle;\n",
       "    }\n",
       "\n",
       "    .dataframe tbody tr th {\n",
       "        vertical-align: top;\n",
       "    }\n",
       "\n",
       "    .dataframe thead th {\n",
       "        text-align: right;\n",
       "    }\n",
       "</style>\n",
       "<table border=\"1\" class=\"dataframe\">\n",
       "  <thead>\n",
       "    <tr style=\"text-align: right;\">\n",
       "      <th></th>\n",
       "      <th>Ingresos</th>\n",
       "      <th>Egresos</th>\n",
       "    </tr>\n",
       "  </thead>\n",
       "  <tbody>\n",
       "    <tr>\n",
       "      <th>Enero</th>\n",
       "      <td>303</td>\n",
       "      <td>690</td>\n",
       "    </tr>\n",
       "    <tr>\n",
       "      <th>Febrero</th>\n",
       "      <td>1055</td>\n",
       "      <td>89</td>\n",
       "    </tr>\n",
       "    <tr>\n",
       "      <th>Marzo</th>\n",
       "      <td>972</td>\n",
       "      <td>773</td>\n",
       "    </tr>\n",
       "    <tr>\n",
       "      <th>Abril</th>\n",
       "      <td>173</td>\n",
       "      <td>947</td>\n",
       "    </tr>\n",
       "    <tr>\n",
       "      <th>Mayo</th>\n",
       "      <td>1287</td>\n",
       "      <td>497</td>\n",
       "    </tr>\n",
       "    <tr>\n",
       "      <th>Junio</th>\n",
       "      <td>1179</td>\n",
       "      <td>304</td>\n",
       "    </tr>\n",
       "    <tr>\n",
       "      <th>Julio</th>\n",
       "      <td>389</td>\n",
       "      <td>1059</td>\n",
       "    </tr>\n",
       "    <tr>\n",
       "      <th>Agosto</th>\n",
       "      <td>153</td>\n",
       "      <td>1166</td>\n",
       "    </tr>\n",
       "    <tr>\n",
       "      <th>Septiembre</th>\n",
       "      <td>1103</td>\n",
       "      <td>1197</td>\n",
       "    </tr>\n",
       "    <tr>\n",
       "      <th>Octubre</th>\n",
       "      <td>964</td>\n",
       "      <td>188</td>\n",
       "    </tr>\n",
       "    <tr>\n",
       "      <th>Noviembre</th>\n",
       "      <td>1022</td>\n",
       "      <td>468</td>\n",
       "    </tr>\n",
       "    <tr>\n",
       "      <th>Diciembre</th>\n",
       "      <td>766</td>\n",
       "      <td>496</td>\n",
       "    </tr>\n",
       "  </tbody>\n",
       "</table>\n",
       "</div>"
      ],
      "text/plain": [
       "            Ingresos  Egresos\n",
       "Enero            303      690\n",
       "Febrero         1055       89\n",
       "Marzo            972      773\n",
       "Abril            173      947\n",
       "Mayo            1287      497\n",
       "Junio           1179      304\n",
       "Julio            389     1059\n",
       "Agosto           153     1166\n",
       "Septiembre      1103     1197\n",
       "Octubre          964      188\n",
       "Noviembre       1022      468\n",
       "Diciembre        766      496"
      ]
     },
     "execution_count": 14,
     "metadata": {},
     "output_type": "execute_result"
    }
   ],
   "source": [
    "balance = {\n",
    "    \"Ingresos\": pd.Series( np.random.randint(low=0, high=1500, size=12), meses), \n",
    "    \"Egresos\": pd.Series( np.random.randint(low=0, high=1500, size=12), meses)\n",
    "}\n",
    "\n",
    "df = pd.DataFrame(balance)\n",
    "df"
   ]
  },
  {
   "cell_type": "code",
   "execution_count": 15,
   "id": "1b03cd77-f675-4543-b59e-d7191a42c0af",
   "metadata": {},
   "outputs": [
    {
     "data": {
      "text/plain": [
       "Enero          303\n",
       "Febrero       1055\n",
       "Marzo          972\n",
       "Abril          173\n",
       "Mayo          1287\n",
       "Junio         1179\n",
       "Julio          389\n",
       "Agosto         153\n",
       "Septiembre    1103\n",
       "Octubre        964\n",
       "Noviembre     1022\n",
       "Diciembre      766\n",
       "Name: Ingresos, dtype: int32"
      ]
     },
     "execution_count": 15,
     "metadata": {},
     "output_type": "execute_result"
    }
   ],
   "source": [
    "# Accederemos a los valores de las columnas especificas de un DataFrame\n",
    "df[\"Ingresos\"]"
   ]
  },
  {
   "cell_type": "code",
   "execution_count": 16,
   "id": "d216a19d-b2c2-46ee-8c6f-e43861713552",
   "metadata": {},
   "outputs": [
    {
     "data": {
      "text/html": [
       "<div>\n",
       "<style scoped>\n",
       "    .dataframe tbody tr th:only-of-type {\n",
       "        vertical-align: middle;\n",
       "    }\n",
       "\n",
       "    .dataframe tbody tr th {\n",
       "        vertical-align: top;\n",
       "    }\n",
       "\n",
       "    .dataframe thead th {\n",
       "        text-align: right;\n",
       "    }\n",
       "</style>\n",
       "<table border=\"1\" class=\"dataframe\">\n",
       "  <thead>\n",
       "    <tr style=\"text-align: right;\">\n",
       "      <th></th>\n",
       "      <th>Ingresos</th>\n",
       "      <th>Egresos</th>\n",
       "    </tr>\n",
       "  </thead>\n",
       "  <tbody>\n",
       "    <tr>\n",
       "      <th>Enero</th>\n",
       "      <td>303</td>\n",
       "      <td>690</td>\n",
       "    </tr>\n",
       "    <tr>\n",
       "      <th>Febrero</th>\n",
       "      <td>1055</td>\n",
       "      <td>89</td>\n",
       "    </tr>\n",
       "    <tr>\n",
       "      <th>Marzo</th>\n",
       "      <td>972</td>\n",
       "      <td>773</td>\n",
       "    </tr>\n",
       "    <tr>\n",
       "      <th>Abril</th>\n",
       "      <td>173</td>\n",
       "      <td>947</td>\n",
       "    </tr>\n",
       "    <tr>\n",
       "      <th>Mayo</th>\n",
       "      <td>1287</td>\n",
       "      <td>497</td>\n",
       "    </tr>\n",
       "    <tr>\n",
       "      <th>Junio</th>\n",
       "      <td>1179</td>\n",
       "      <td>304</td>\n",
       "    </tr>\n",
       "    <tr>\n",
       "      <th>Julio</th>\n",
       "      <td>389</td>\n",
       "      <td>1059</td>\n",
       "    </tr>\n",
       "    <tr>\n",
       "      <th>Agosto</th>\n",
       "      <td>153</td>\n",
       "      <td>1166</td>\n",
       "    </tr>\n",
       "    <tr>\n",
       "      <th>Septiembre</th>\n",
       "      <td>1103</td>\n",
       "      <td>1197</td>\n",
       "    </tr>\n",
       "    <tr>\n",
       "      <th>Octubre</th>\n",
       "      <td>964</td>\n",
       "      <td>188</td>\n",
       "    </tr>\n",
       "    <tr>\n",
       "      <th>Noviembre</th>\n",
       "      <td>1022</td>\n",
       "      <td>468</td>\n",
       "    </tr>\n",
       "    <tr>\n",
       "      <th>Diciembre</th>\n",
       "      <td>766</td>\n",
       "      <td>496</td>\n",
       "    </tr>\n",
       "  </tbody>\n",
       "</table>\n",
       "</div>"
      ],
      "text/plain": [
       "            Ingresos  Egresos\n",
       "Enero            303      690\n",
       "Febrero         1055       89\n",
       "Marzo            972      773\n",
       "Abril            173      947\n",
       "Mayo            1287      497\n",
       "Junio           1179      304\n",
       "Julio            389     1059\n",
       "Agosto           153     1166\n",
       "Septiembre      1103     1197\n",
       "Octubre          964      188\n",
       "Noviembre       1022      468\n",
       "Diciembre        766      496"
      ]
     },
     "execution_count": 16,
     "metadata": {},
     "output_type": "execute_result"
    }
   ],
   "source": [
    "# Accediendo a multiples columnas, en este caso son solo 2, sin embargo funciona para n-columnas\n",
    "# Debemos de pasar un array con la lista de las columnas que deseamos acceder\n",
    "df[[\"Ingresos\", \"Egresos\"]]"
   ]
  },
  {
   "cell_type": "markdown",
   "id": "aa58d8e8-d858-4266-9dc6-1dfed053aed0",
   "metadata": {},
   "source": [
    "### Expresiones booleanas y filtracion de datos\n",
    "\n",
    "Podemos filtrar datos en base a condicionales, y pandas se encarga de retornar si la entrada cumple o no la condicion\n"
   ]
  },
  {
   "cell_type": "code",
   "execution_count": 17,
   "id": "8242318b-1604-44db-be0d-c96d4d74280f",
   "metadata": {},
   "outputs": [
    {
     "data": {
      "text/plain": [
       "Enero         False\n",
       "Febrero        True\n",
       "Marzo         False\n",
       "Abril         False\n",
       "Mayo           True\n",
       "Junio          True\n",
       "Julio         False\n",
       "Agosto        False\n",
       "Septiembre     True\n",
       "Octubre       False\n",
       "Noviembre      True\n",
       "Diciembre     False\n",
       "Name: Ingresos, dtype: bool"
      ]
     },
     "execution_count": 17,
     "metadata": {},
     "output_type": "execute_result"
    }
   ],
   "source": [
    "df[\"Ingresos\"] > 1000"
   ]
  },
  {
   "cell_type": "markdown",
   "id": "be790a75-0d7f-40ba-8c4c-07eda207836a",
   "metadata": {},
   "source": [
    "Podemos combinar expresiones para acceder solo a los elementos que cumplan la condicion"
   ]
  },
  {
   "cell_type": "code",
   "execution_count": 18,
   "id": "4e457874-0868-4af9-bf94-cc1b21fdfdd2",
   "metadata": {},
   "outputs": [
    {
     "data": {
      "text/html": [
       "<div>\n",
       "<style scoped>\n",
       "    .dataframe tbody tr th:only-of-type {\n",
       "        vertical-align: middle;\n",
       "    }\n",
       "\n",
       "    .dataframe tbody tr th {\n",
       "        vertical-align: top;\n",
       "    }\n",
       "\n",
       "    .dataframe thead th {\n",
       "        text-align: right;\n",
       "    }\n",
       "</style>\n",
       "<table border=\"1\" class=\"dataframe\">\n",
       "  <thead>\n",
       "    <tr style=\"text-align: right;\">\n",
       "      <th></th>\n",
       "      <th>Ingresos</th>\n",
       "      <th>Egresos</th>\n",
       "    </tr>\n",
       "  </thead>\n",
       "  <tbody>\n",
       "    <tr>\n",
       "      <th>Febrero</th>\n",
       "      <td>1055</td>\n",
       "      <td>89</td>\n",
       "    </tr>\n",
       "    <tr>\n",
       "      <th>Mayo</th>\n",
       "      <td>1287</td>\n",
       "      <td>497</td>\n",
       "    </tr>\n",
       "    <tr>\n",
       "      <th>Junio</th>\n",
       "      <td>1179</td>\n",
       "      <td>304</td>\n",
       "    </tr>\n",
       "    <tr>\n",
       "      <th>Septiembre</th>\n",
       "      <td>1103</td>\n",
       "      <td>1197</td>\n",
       "    </tr>\n",
       "    <tr>\n",
       "      <th>Noviembre</th>\n",
       "      <td>1022</td>\n",
       "      <td>468</td>\n",
       "    </tr>\n",
       "  </tbody>\n",
       "</table>\n",
       "</div>"
      ],
      "text/plain": [
       "            Ingresos  Egresos\n",
       "Febrero         1055       89\n",
       "Mayo            1287      497\n",
       "Junio           1179      304\n",
       "Septiembre      1103     1197\n",
       "Noviembre       1022      468"
      ]
     },
     "execution_count": 18,
     "metadata": {},
     "output_type": "execute_result"
    }
   ],
   "source": [
    "df[df[\"Ingresos\"] > 1000]"
   ]
  },
  {
   "cell_type": "markdown",
   "id": "e1e609ad-8277-48ab-9dd8-9006fcf19936",
   "metadata": {},
   "source": [
    "### Accediendo a los elementos de las filas del DataFrame\n",
    "\n",
    "Accedemos a los elementos de una fila especifica de un DataFrame igual que lo hariamos a los elementos de una Serie"
   ]
  },
  {
   "cell_type": "code",
   "execution_count": 19,
   "id": "d45751bc-bed5-4cb4-bca9-3cd865e957dd",
   "metadata": {},
   "outputs": [
    {
     "data": {
      "text/html": [
       "<div>\n",
       "<style scoped>\n",
       "    .dataframe tbody tr th:only-of-type {\n",
       "        vertical-align: middle;\n",
       "    }\n",
       "\n",
       "    .dataframe tbody tr th {\n",
       "        vertical-align: top;\n",
       "    }\n",
       "\n",
       "    .dataframe thead th {\n",
       "        text-align: right;\n",
       "    }\n",
       "</style>\n",
       "<table border=\"1\" class=\"dataframe\">\n",
       "  <thead>\n",
       "    <tr style=\"text-align: right;\">\n",
       "      <th></th>\n",
       "      <th>Ingresos</th>\n",
       "      <th>Egresos</th>\n",
       "    </tr>\n",
       "  </thead>\n",
       "  <tbody>\n",
       "    <tr>\n",
       "      <th>Enero</th>\n",
       "      <td>303</td>\n",
       "      <td>690</td>\n",
       "    </tr>\n",
       "    <tr>\n",
       "      <th>Febrero</th>\n",
       "      <td>1055</td>\n",
       "      <td>89</td>\n",
       "    </tr>\n",
       "    <tr>\n",
       "      <th>Marzo</th>\n",
       "      <td>972</td>\n",
       "      <td>773</td>\n",
       "    </tr>\n",
       "    <tr>\n",
       "      <th>Abril</th>\n",
       "      <td>173</td>\n",
       "      <td>947</td>\n",
       "    </tr>\n",
       "    <tr>\n",
       "      <th>Mayo</th>\n",
       "      <td>1287</td>\n",
       "      <td>497</td>\n",
       "    </tr>\n",
       "    <tr>\n",
       "      <th>Junio</th>\n",
       "      <td>1179</td>\n",
       "      <td>304</td>\n",
       "    </tr>\n",
       "    <tr>\n",
       "      <th>Julio</th>\n",
       "      <td>389</td>\n",
       "      <td>1059</td>\n",
       "    </tr>\n",
       "    <tr>\n",
       "      <th>Agosto</th>\n",
       "      <td>153</td>\n",
       "      <td>1166</td>\n",
       "    </tr>\n",
       "    <tr>\n",
       "      <th>Septiembre</th>\n",
       "      <td>1103</td>\n",
       "      <td>1197</td>\n",
       "    </tr>\n",
       "    <tr>\n",
       "      <th>Octubre</th>\n",
       "      <td>964</td>\n",
       "      <td>188</td>\n",
       "    </tr>\n",
       "    <tr>\n",
       "      <th>Noviembre</th>\n",
       "      <td>1022</td>\n",
       "      <td>468</td>\n",
       "    </tr>\n",
       "    <tr>\n",
       "      <th>Diciembre</th>\n",
       "      <td>766</td>\n",
       "      <td>496</td>\n",
       "    </tr>\n",
       "  </tbody>\n",
       "</table>\n",
       "</div>"
      ],
      "text/plain": [
       "            Ingresos  Egresos\n",
       "Enero            303      690\n",
       "Febrero         1055       89\n",
       "Marzo            972      773\n",
       "Abril            173      947\n",
       "Mayo            1287      497\n",
       "Junio           1179      304\n",
       "Julio            389     1059\n",
       "Agosto           153     1166\n",
       "Septiembre      1103     1197\n",
       "Octubre          964      188\n",
       "Noviembre       1022      468\n",
       "Diciembre        766      496"
      ]
     },
     "execution_count": 19,
     "metadata": {},
     "output_type": "execute_result"
    }
   ],
   "source": [
    "df"
   ]
  },
  {
   "cell_type": "code",
   "execution_count": 20,
   "id": "f77ef6fe-78ad-4b92-8a66-bb24d4949329",
   "metadata": {},
   "outputs": [
    {
     "data": {
      "text/plain": [
       "Ingresos    303\n",
       "Egresos     690\n",
       "Name: Enero, dtype: int32"
      ]
     },
     "execution_count": 20,
     "metadata": {},
     "output_type": "execute_result"
    }
   ],
   "source": [
    "df.loc[\"Enero\"]"
   ]
  },
  {
   "cell_type": "code",
   "execution_count": 21,
   "id": "3ef23fef-93f6-4763-a687-1907379dab41",
   "metadata": {},
   "outputs": [
    {
     "data": {
      "text/plain": [
       "Ingresos    766\n",
       "Egresos     496\n",
       "Name: Diciembre, dtype: int32"
      ]
     },
     "execution_count": 21,
     "metadata": {},
     "output_type": "execute_result"
    }
   ],
   "source": [
    "df.iloc[11]"
   ]
  },
  {
   "cell_type": "code",
   "execution_count": 22,
   "id": "0d32fab5-7c3f-425f-97f6-d5ebd6cffa97",
   "metadata": {},
   "outputs": [
    {
     "data": {
      "text/html": [
       "<div>\n",
       "<style scoped>\n",
       "    .dataframe tbody tr th:only-of-type {\n",
       "        vertical-align: middle;\n",
       "    }\n",
       "\n",
       "    .dataframe tbody tr th {\n",
       "        vertical-align: top;\n",
       "    }\n",
       "\n",
       "    .dataframe thead th {\n",
       "        text-align: right;\n",
       "    }\n",
       "</style>\n",
       "<table border=\"1\" class=\"dataframe\">\n",
       "  <thead>\n",
       "    <tr style=\"text-align: right;\">\n",
       "      <th></th>\n",
       "      <th>Ingresos</th>\n",
       "      <th>Egresos</th>\n",
       "    </tr>\n",
       "  </thead>\n",
       "  <tbody>\n",
       "    <tr>\n",
       "      <th>Enero</th>\n",
       "      <td>303</td>\n",
       "      <td>690</td>\n",
       "    </tr>\n",
       "    <tr>\n",
       "      <th>Febrero</th>\n",
       "      <td>1055</td>\n",
       "      <td>89</td>\n",
       "    </tr>\n",
       "    <tr>\n",
       "      <th>Marzo</th>\n",
       "      <td>972</td>\n",
       "      <td>773</td>\n",
       "    </tr>\n",
       "    <tr>\n",
       "      <th>Abril</th>\n",
       "      <td>173</td>\n",
       "      <td>947</td>\n",
       "    </tr>\n",
       "  </tbody>\n",
       "</table>\n",
       "</div>"
      ],
      "text/plain": [
       "         Ingresos  Egresos\n",
       "Enero         303      690\n",
       "Febrero      1055       89\n",
       "Marzo         972      773\n",
       "Abril         173      947"
      ]
     },
     "execution_count": 22,
     "metadata": {},
     "output_type": "execute_result"
    }
   ],
   "source": [
    "df.iloc[0:4]"
   ]
  },
  {
   "cell_type": "markdown",
   "id": "b1149d92-0bde-417f-ae39-679891b82a3f",
   "metadata": {},
   "source": [
    "## Consulta avanzada mediante queries"
   ]
  },
  {
   "cell_type": "code",
   "execution_count": 23,
   "id": "f5d6578d-db76-4985-87e1-0275f05f1da7",
   "metadata": {},
   "outputs": [
    {
     "data": {
      "text/html": [
       "<div>\n",
       "<style scoped>\n",
       "    .dataframe tbody tr th:only-of-type {\n",
       "        vertical-align: middle;\n",
       "    }\n",
       "\n",
       "    .dataframe tbody tr th {\n",
       "        vertical-align: top;\n",
       "    }\n",
       "\n",
       "    .dataframe thead th {\n",
       "        text-align: right;\n",
       "    }\n",
       "</style>\n",
       "<table border=\"1\" class=\"dataframe\">\n",
       "  <thead>\n",
       "    <tr style=\"text-align: right;\">\n",
       "      <th></th>\n",
       "      <th>Ingresos</th>\n",
       "      <th>Egresos</th>\n",
       "    </tr>\n",
       "  </thead>\n",
       "  <tbody>\n",
       "    <tr>\n",
       "      <th>Febrero</th>\n",
       "      <td>1055</td>\n",
       "      <td>89</td>\n",
       "    </tr>\n",
       "    <tr>\n",
       "      <th>Marzo</th>\n",
       "      <td>972</td>\n",
       "      <td>773</td>\n",
       "    </tr>\n",
       "    <tr>\n",
       "      <th>Mayo</th>\n",
       "      <td>1287</td>\n",
       "      <td>497</td>\n",
       "    </tr>\n",
       "    <tr>\n",
       "      <th>Junio</th>\n",
       "      <td>1179</td>\n",
       "      <td>304</td>\n",
       "    </tr>\n",
       "    <tr>\n",
       "      <th>Octubre</th>\n",
       "      <td>964</td>\n",
       "      <td>188</td>\n",
       "    </tr>\n",
       "    <tr>\n",
       "      <th>Noviembre</th>\n",
       "      <td>1022</td>\n",
       "      <td>468</td>\n",
       "    </tr>\n",
       "  </tbody>\n",
       "</table>\n",
       "</div>"
      ],
      "text/plain": [
       "           Ingresos  Egresos\n",
       "Febrero        1055       89\n",
       "Marzo           972      773\n",
       "Mayo           1287      497\n",
       "Junio          1179      304\n",
       "Octubre         964      188\n",
       "Noviembre      1022      468"
      ]
     },
     "execution_count": 23,
     "metadata": {},
     "output_type": "execute_result"
    }
   ],
   "source": [
    "df.query(\"Ingresos >= 800 and Egresos < 1000\")"
   ]
  },
  {
   "cell_type": "code",
   "execution_count": 24,
   "id": "3aece355-3244-41d4-b344-f8a53e9bc030",
   "metadata": {},
   "outputs": [
    {
     "data": {
      "image/png": "[encoded data removed]",
      "text/plain": [
       "<Figure size 1500x500 with 1 Axes>"
      ]
     },
     "metadata": {},
     "output_type": "display_data"
    }
   ],
   "source": [
    "# Graficamos la relacion de ambos\n",
    "\n",
    "plt.figure(figsize=(15,5))\n",
    "plt.plot(df[\"Ingresos\"], \"c\", label=\"Ingresos\")\n",
    "plt.ylabel(\"Miles de Pesos\")\n",
    "plt.xlabel(\"2024\")\n",
    "plt.plot(df[\"Egresos\"], \"r\", label=\"Egresos\")\n",
    "plt.legend(loc=\"best\")\n",
    "plt.show()"
   ]
  },
  {
   "cell_type": "markdown",
   "id": "30875cb8-4933-4f2d-9055-9c53e47baf29",
   "metadata": {},
   "source": [
    "Calculamos el balance total para analizar si hubo perdidas o ganancias en el año"
   ]
  },
  {
   "cell_type": "code",
   "execution_count": 25,
   "id": "86090e8b-99d6-4249-91ab-ce77c742f8de",
   "metadata": {},
   "outputs": [
    {
     "name": "stdout",
     "output_type": "stream",
     "text": [
      "Balance total: $1492\n"
     ]
    },
    {
     "data": {
      "image/png": "[encoded data removed]",
      "text/plain": [
       "<Figure size 1500x500 with 1 Axes>"
      ]
     },
     "metadata": {},
     "output_type": "display_data"
    }
   ],
   "source": [
    "totalVentas = np.sum(df[\"Ingresos\"])\n",
    "totalGastos = np.sum(df[\"Egresos\"])\n",
    "\n",
    "print(f'Balance total: ${totalVentas - totalGastos}')\n",
    "\n",
    "plt.figure(figsize=(15,5))\n",
    "plt.title(\"Balance\")\n",
    "plt.plot((df[\"Ingresos\"] - df[\"Egresos\"]), label=\"Balance\")\n",
    "plt.legend(loc=\"best\")\n",
    "plt.show()"
   ]
  },
  {
   "cell_type": "markdown",
   "id": "6a47e327-afa1-4ff1-8038-f0f896cd4b38",
   "metadata": {},
   "source": [
    "Podemos ver que hubo perdidas por $540 000 pesos"
   ]
  },
  {
   "cell_type": "markdown",
   "id": "6c28db95-f4c3-4f86-ab6f-097804348aa6",
   "metadata": {},
   "source": [
    "## Modificacion de un DataFrame"
   ]
  },
  {
   "cell_type": "code",
   "execution_count": 39,
   "id": "ae46598c-3e7f-4235-8d3e-ed7b9b1151bd",
   "metadata": {},
   "outputs": [
    {
     "name": "stdout",
     "output_type": "stream",
     "text": [
      "<class 'pandas.core.series.Series'>\n"
     ]
    },
    {
     "data": {
      "text/html": [
       "<div>\n",
       "<style scoped>\n",
       "    .dataframe tbody tr th:only-of-type {\n",
       "        vertical-align: middle;\n",
       "    }\n",
       "\n",
       "    .dataframe tbody tr th {\n",
       "        vertical-align: top;\n",
       "    }\n",
       "\n",
       "    .dataframe thead th {\n",
       "        text-align: right;\n",
       "    }\n",
       "</style>\n",
       "<table border=\"1\" class=\"dataframe\">\n",
       "  <thead>\n",
       "    <tr style=\"text-align: right;\">\n",
       "      <th></th>\n",
       "      <th>Ingresos</th>\n",
       "      <th>Egresos</th>\n",
       "      <th>Balances</th>\n",
       "    </tr>\n",
       "  </thead>\n",
       "  <tbody>\n",
       "    <tr>\n",
       "      <th>Enero</th>\n",
       "      <td>303</td>\n",
       "      <td>690</td>\n",
       "      <td>-387</td>\n",
       "    </tr>\n",
       "    <tr>\n",
       "      <th>Febrero</th>\n",
       "      <td>1055</td>\n",
       "      <td>89</td>\n",
       "      <td>966</td>\n",
       "    </tr>\n",
       "    <tr>\n",
       "      <th>Marzo</th>\n",
       "      <td>972</td>\n",
       "      <td>773</td>\n",
       "      <td>199</td>\n",
       "    </tr>\n",
       "    <tr>\n",
       "      <th>Abril</th>\n",
       "      <td>173</td>\n",
       "      <td>947</td>\n",
       "      <td>-774</td>\n",
       "    </tr>\n",
       "    <tr>\n",
       "      <th>Mayo</th>\n",
       "      <td>1287</td>\n",
       "      <td>497</td>\n",
       "      <td>790</td>\n",
       "    </tr>\n",
       "    <tr>\n",
       "      <th>Junio</th>\n",
       "      <td>1179</td>\n",
       "      <td>304</td>\n",
       "      <td>875</td>\n",
       "    </tr>\n",
       "    <tr>\n",
       "      <th>Julio</th>\n",
       "      <td>389</td>\n",
       "      <td>1059</td>\n",
       "      <td>-670</td>\n",
       "    </tr>\n",
       "    <tr>\n",
       "      <th>Agosto</th>\n",
       "      <td>153</td>\n",
       "      <td>1166</td>\n",
       "      <td>-1013</td>\n",
       "    </tr>\n",
       "    <tr>\n",
       "      <th>Septiembre</th>\n",
       "      <td>1103</td>\n",
       "      <td>1197</td>\n",
       "      <td>-94</td>\n",
       "    </tr>\n",
       "    <tr>\n",
       "      <th>Octubre</th>\n",
       "      <td>964</td>\n",
       "      <td>188</td>\n",
       "      <td>776</td>\n",
       "    </tr>\n",
       "    <tr>\n",
       "      <th>Noviembre</th>\n",
       "      <td>1022</td>\n",
       "      <td>468</td>\n",
       "      <td>554</td>\n",
       "    </tr>\n",
       "    <tr>\n",
       "      <th>Diciembre</th>\n",
       "      <td>766</td>\n",
       "      <td>496</td>\n",
       "      <td>270</td>\n",
       "    </tr>\n",
       "  </tbody>\n",
       "</table>\n",
       "</div>"
      ],
      "text/plain": [
       "            Ingresos  Egresos  Balances\n",
       "Enero            303      690      -387\n",
       "Febrero         1055       89       966\n",
       "Marzo            972      773       199\n",
       "Abril            173      947      -774\n",
       "Mayo            1287      497       790\n",
       "Junio           1179      304       875\n",
       "Julio            389     1059      -670\n",
       "Agosto           153     1166     -1013\n",
       "Septiembre      1103     1197       -94\n",
       "Octubre          964      188       776\n",
       "Noviembre       1022      468       554\n",
       "Diciembre        766      496       270"
      ]
     },
     "execution_count": 39,
     "metadata": {},
     "output_type": "execute_result"
    }
   ],
   "source": [
    "# Añadir una nueva columna a el dataframe\n",
    "\n",
    "balances = df[\"Ingresos\"] - df[\"Egresos\"]\n",
    "df[\"Balances\"] = balances\n",
    "print(type(df[\"Ingresos\"]))\n",
    "df"
   ]
  },
  {
   "cell_type": "code",
   "execution_count": 33,
   "id": "5076273c-6f86-4da8-827d-d19cbc8312d3",
   "metadata": {},
   "outputs": [
    {
     "data": {
      "text/html": [
       "<div>\n",
       "<style scoped>\n",
       "    .dataframe tbody tr th:only-of-type {\n",
       "        vertical-align: middle;\n",
       "    }\n",
       "\n",
       "    .dataframe tbody tr th {\n",
       "        vertical-align: top;\n",
       "    }\n",
       "\n",
       "    .dataframe thead th {\n",
       "        text-align: right;\n",
       "    }\n",
       "</style>\n",
       "<table border=\"1\" class=\"dataframe\">\n",
       "  <thead>\n",
       "    <tr style=\"text-align: right;\">\n",
       "      <th></th>\n",
       "      <th>Ingresos</th>\n",
       "      <th>Egresos</th>\n",
       "      <th>Balances</th>\n",
       "    </tr>\n",
       "  </thead>\n",
       "  <tbody>\n",
       "    <tr>\n",
       "      <th>Enero</th>\n",
       "      <td>303</td>\n",
       "      <td>690</td>\n",
       "      <td>-354</td>\n",
       "    </tr>\n",
       "    <tr>\n",
       "      <th>Febrero</th>\n",
       "      <td>1055</td>\n",
       "      <td>89</td>\n",
       "      <td>411</td>\n",
       "    </tr>\n",
       "    <tr>\n",
       "      <th>Marzo</th>\n",
       "      <td>972</td>\n",
       "      <td>773</td>\n",
       "      <td>501</td>\n",
       "    </tr>\n",
       "    <tr>\n",
       "      <th>Abril</th>\n",
       "      <td>173</td>\n",
       "      <td>947</td>\n",
       "      <td>-147</td>\n",
       "    </tr>\n",
       "    <tr>\n",
       "      <th>Mayo</th>\n",
       "      <td>1287</td>\n",
       "      <td>497</td>\n",
       "      <td>-329</td>\n",
       "    </tr>\n",
       "    <tr>\n",
       "      <th>Junio</th>\n",
       "      <td>1179</td>\n",
       "      <td>304</td>\n",
       "      <td>-335</td>\n",
       "    </tr>\n",
       "    <tr>\n",
       "      <th>Julio</th>\n",
       "      <td>389</td>\n",
       "      <td>1059</td>\n",
       "      <td>-351</td>\n",
       "    </tr>\n",
       "    <tr>\n",
       "      <th>Agosto</th>\n",
       "      <td>153</td>\n",
       "      <td>1166</td>\n",
       "      <td>46</td>\n",
       "    </tr>\n",
       "    <tr>\n",
       "      <th>Septiembre</th>\n",
       "      <td>1103</td>\n",
       "      <td>1197</td>\n",
       "      <td>-46</td>\n",
       "    </tr>\n",
       "    <tr>\n",
       "      <th>Octubre</th>\n",
       "      <td>964</td>\n",
       "      <td>188</td>\n",
       "      <td>131</td>\n",
       "    </tr>\n",
       "    <tr>\n",
       "      <th>Noviembre</th>\n",
       "      <td>1022</td>\n",
       "      <td>468</td>\n",
       "      <td>-102</td>\n",
       "    </tr>\n",
       "    <tr>\n",
       "      <th>Diciembre</th>\n",
       "      <td>766</td>\n",
       "      <td>496</td>\n",
       "      <td>35</td>\n",
       "    </tr>\n",
       "  </tbody>\n",
       "</table>\n",
       "</div>"
      ],
      "text/plain": [
       "            Ingresos  Egresos  Balances\n",
       "Enero            303      690      -354\n",
       "Febrero         1055       89       411\n",
       "Marzo            972      773       501\n",
       "Abril            173      947      -147\n",
       "Mayo            1287      497      -329\n",
       "Junio           1179      304      -335\n",
       "Julio            389     1059      -351\n",
       "Agosto           153     1166        46\n",
       "Septiembre      1103     1197       -46\n",
       "Octubre          964      188       131\n",
       "Noviembre       1022      468      -102\n",
       "Diciembre        766      496        35"
      ]
     },
     "execution_count": 33,
     "metadata": {},
     "output_type": "execute_result"
    }
   ],
   "source": [
    "# Añadiendo una nueva columna y retornando un nuevo DataFrame\n",
    "df_mod = df.assign(Balances = [-354, 411, 501, -147, -329, -335, -351, 46, -46, 131, -102, 35])\n",
    "df_mod"
   ]
  },
  {
   "cell_type": "code",
   "execution_count": 35,
   "id": "9a4ab692-c6ad-4c17-bc9c-377a5ca66647",
   "metadata": {},
   "outputs": [
    {
     "data": {
      "text/html": [
       "<div>\n",
       "<style scoped>\n",
       "    .dataframe tbody tr th:only-of-type {\n",
       "        vertical-align: middle;\n",
       "    }\n",
       "\n",
       "    .dataframe tbody tr th {\n",
       "        vertical-align: top;\n",
       "    }\n",
       "\n",
       "    .dataframe thead th {\n",
       "        text-align: right;\n",
       "    }\n",
       "</style>\n",
       "<table border=\"1\" class=\"dataframe\">\n",
       "  <thead>\n",
       "    <tr style=\"text-align: right;\">\n",
       "      <th></th>\n",
       "      <th>Ingresos</th>\n",
       "      <th>Egresos</th>\n",
       "    </tr>\n",
       "  </thead>\n",
       "  <tbody>\n",
       "    <tr>\n",
       "      <th>Enero</th>\n",
       "      <td>303</td>\n",
       "      <td>690</td>\n",
       "    </tr>\n",
       "    <tr>\n",
       "      <th>Febrero</th>\n",
       "      <td>1055</td>\n",
       "      <td>89</td>\n",
       "    </tr>\n",
       "    <tr>\n",
       "      <th>Marzo</th>\n",
       "      <td>972</td>\n",
       "      <td>773</td>\n",
       "    </tr>\n",
       "    <tr>\n",
       "      <th>Abril</th>\n",
       "      <td>173</td>\n",
       "      <td>947</td>\n",
       "    </tr>\n",
       "    <tr>\n",
       "      <th>Mayo</th>\n",
       "      <td>1287</td>\n",
       "      <td>497</td>\n",
       "    </tr>\n",
       "    <tr>\n",
       "      <th>Junio</th>\n",
       "      <td>1179</td>\n",
       "      <td>304</td>\n",
       "    </tr>\n",
       "    <tr>\n",
       "      <th>Julio</th>\n",
       "      <td>389</td>\n",
       "      <td>1059</td>\n",
       "    </tr>\n",
       "    <tr>\n",
       "      <th>Agosto</th>\n",
       "      <td>153</td>\n",
       "      <td>1166</td>\n",
       "    </tr>\n",
       "    <tr>\n",
       "      <th>Septiembre</th>\n",
       "      <td>1103</td>\n",
       "      <td>1197</td>\n",
       "    </tr>\n",
       "    <tr>\n",
       "      <th>Octubre</th>\n",
       "      <td>964</td>\n",
       "      <td>188</td>\n",
       "    </tr>\n",
       "    <tr>\n",
       "      <th>Noviembre</th>\n",
       "      <td>1022</td>\n",
       "      <td>468</td>\n",
       "    </tr>\n",
       "    <tr>\n",
       "      <th>Diciembre</th>\n",
       "      <td>766</td>\n",
       "      <td>496</td>\n",
       "    </tr>\n",
       "  </tbody>\n",
       "</table>\n",
       "</div>"
      ],
      "text/plain": [
       "            Ingresos  Egresos\n",
       "Enero            303      690\n",
       "Febrero         1055       89\n",
       "Marzo            972      773\n",
       "Abril            173      947\n",
       "Mayo            1287      497\n",
       "Junio           1179      304\n",
       "Julio            389     1059\n",
       "Agosto           153     1166\n",
       "Septiembre      1103     1197\n",
       "Octubre          964      188\n",
       "Noviembre       1022      468\n",
       "Diciembre        766      496"
      ]
     },
     "execution_count": 35,
     "metadata": {},
     "output_type": "execute_result"
    }
   ],
   "source": [
    "# Eliminar una columna existente del DataFrame\n",
    "del df[\"Balances\"]\n",
    "df"
   ]
  },
  {
   "cell_type": "code",
   "execution_count": 38,
   "id": "92fd6f59-7702-40cd-bb53-0d8eb0f7fdd8",
   "metadata": {},
   "outputs": [
    {
     "data": {
      "text/html": [
       "<div>\n",
       "<style scoped>\n",
       "    .dataframe tbody tr th:only-of-type {\n",
       "        vertical-align: middle;\n",
       "    }\n",
       "\n",
       "    .dataframe tbody tr th {\n",
       "        vertical-align: top;\n",
       "    }\n",
       "\n",
       "    .dataframe thead th {\n",
       "        text-align: right;\n",
       "    }\n",
       "</style>\n",
       "<table border=\"1\" class=\"dataframe\">\n",
       "  <thead>\n",
       "    <tr style=\"text-align: right;\">\n",
       "      <th></th>\n",
       "      <th>Ingresos</th>\n",
       "      <th>Egresos</th>\n",
       "    </tr>\n",
       "  </thead>\n",
       "  <tbody>\n",
       "    <tr>\n",
       "      <th>Enero</th>\n",
       "      <td>303</td>\n",
       "      <td>690</td>\n",
       "    </tr>\n",
       "    <tr>\n",
       "      <th>Febrero</th>\n",
       "      <td>1055</td>\n",
       "      <td>89</td>\n",
       "    </tr>\n",
       "    <tr>\n",
       "      <th>Marzo</th>\n",
       "      <td>972</td>\n",
       "      <td>773</td>\n",
       "    </tr>\n",
       "    <tr>\n",
       "      <th>Abril</th>\n",
       "      <td>173</td>\n",
       "      <td>947</td>\n",
       "    </tr>\n",
       "    <tr>\n",
       "      <th>Mayo</th>\n",
       "      <td>1287</td>\n",
       "      <td>497</td>\n",
       "    </tr>\n",
       "    <tr>\n",
       "      <th>Junio</th>\n",
       "      <td>1179</td>\n",
       "      <td>304</td>\n",
       "    </tr>\n",
       "    <tr>\n",
       "      <th>Julio</th>\n",
       "      <td>389</td>\n",
       "      <td>1059</td>\n",
       "    </tr>\n",
       "    <tr>\n",
       "      <th>Agosto</th>\n",
       "      <td>153</td>\n",
       "      <td>1166</td>\n",
       "    </tr>\n",
       "    <tr>\n",
       "      <th>Septiembre</th>\n",
       "      <td>1103</td>\n",
       "      <td>1197</td>\n",
       "    </tr>\n",
       "    <tr>\n",
       "      <th>Octubre</th>\n",
       "      <td>964</td>\n",
       "      <td>188</td>\n",
       "    </tr>\n",
       "    <tr>\n",
       "      <th>Noviembre</th>\n",
       "      <td>1022</td>\n",
       "      <td>468</td>\n",
       "    </tr>\n",
       "    <tr>\n",
       "      <th>Diciembre</th>\n",
       "      <td>766</td>\n",
       "      <td>496</td>\n",
       "    </tr>\n",
       "  </tbody>\n",
       "</table>\n",
       "</div>"
      ],
      "text/plain": [
       "            Ingresos  Egresos\n",
       "Enero            303      690\n",
       "Febrero         1055       89\n",
       "Marzo            972      773\n",
       "Abril            173      947\n",
       "Mayo            1287      497\n",
       "Junio           1179      304\n",
       "Julio            389     1059\n",
       "Agosto           153     1166\n",
       "Septiembre      1103     1197\n",
       "Octubre          964      188\n",
       "Noviembre       1022      468\n",
       "Diciembre        766      496"
      ]
     },
     "execution_count": 38,
     "metadata": {},
     "output_type": "execute_result"
    }
   ],
   "source": [
    "# Borrando una columna y devolver una copia del DataFrame resultante\n",
    "\n",
    "df_mod = df.drop([\"Balances\"], axis=1)\n",
    "df_mod"
   ]
  },
  {
   "cell_type": "code",
   "execution_count": 40,
   "id": "1e90786f-db01-4962-bcfe-dcc23d1ca64b",
   "metadata": {},
   "outputs": [
    {
     "data": {
      "text/html": [
       "<div>\n",
       "<style scoped>\n",
       "    .dataframe tbody tr th:only-of-type {\n",
       "        vertical-align: middle;\n",
       "    }\n",
       "\n",
       "    .dataframe tbody tr th {\n",
       "        vertical-align: top;\n",
       "    }\n",
       "\n",
       "    .dataframe thead th {\n",
       "        text-align: right;\n",
       "    }\n",
       "</style>\n",
       "<table border=\"1\" class=\"dataframe\">\n",
       "  <thead>\n",
       "    <tr style=\"text-align: right;\">\n",
       "      <th></th>\n",
       "      <th>Ingresos</th>\n",
       "      <th>Egresos</th>\n",
       "    </tr>\n",
       "  </thead>\n",
       "  <tbody>\n",
       "    <tr>\n",
       "      <th>Enero</th>\n",
       "      <td>64</td>\n",
       "      <td>878</td>\n",
       "    </tr>\n",
       "    <tr>\n",
       "      <th>Febrero</th>\n",
       "      <td>774</td>\n",
       "      <td>1421</td>\n",
       "    </tr>\n",
       "    <tr>\n",
       "      <th>Marzo</th>\n",
       "      <td>1457</td>\n",
       "      <td>1108</td>\n",
       "    </tr>\n",
       "    <tr>\n",
       "      <th>Abril</th>\n",
       "      <td>1428</td>\n",
       "      <td>946</td>\n",
       "    </tr>\n",
       "    <tr>\n",
       "      <th>Mayo</th>\n",
       "      <td>969</td>\n",
       "      <td>878</td>\n",
       "    </tr>\n",
       "    <tr>\n",
       "      <th>Junio</th>\n",
       "      <td>1051</td>\n",
       "      <td>148</td>\n",
       "    </tr>\n",
       "    <tr>\n",
       "      <th>Julio</th>\n",
       "      <td>1172</td>\n",
       "      <td>463</td>\n",
       "    </tr>\n",
       "    <tr>\n",
       "      <th>Agosto</th>\n",
       "      <td>518</td>\n",
       "      <td>1248</td>\n",
       "    </tr>\n",
       "    <tr>\n",
       "      <th>Septiembre</th>\n",
       "      <td>1302</td>\n",
       "      <td>992</td>\n",
       "    </tr>\n",
       "    <tr>\n",
       "      <th>Octubre</th>\n",
       "      <td>1215</td>\n",
       "      <td>372</td>\n",
       "    </tr>\n",
       "    <tr>\n",
       "      <th>Noviembre</th>\n",
       "      <td>583</td>\n",
       "      <td>386</td>\n",
       "    </tr>\n",
       "    <tr>\n",
       "      <th>Diciembre</th>\n",
       "      <td>893</td>\n",
       "      <td>992</td>\n",
       "    </tr>\n",
       "  </tbody>\n",
       "</table>\n",
       "</div>"
      ],
      "text/plain": [
       "            Ingresos  Egresos\n",
       "Enero             64      878\n",
       "Febrero          774     1421\n",
       "Marzo           1457     1108\n",
       "Abril           1428      946\n",
       "Mayo             969      878\n",
       "Junio           1051      148\n",
       "Julio           1172      463\n",
       "Agosto           518     1248\n",
       "Septiembre      1302      992\n",
       "Octubre         1215      372\n",
       "Noviembre        583      386\n",
       "Diciembre        893      992"
      ]
     },
     "execution_count": 40,
     "metadata": {},
     "output_type": "execute_result"
    }
   ],
   "source": [
    "df"
   ]
  },
  {
   "cell_type": "markdown",
   "id": "629a2e98-8130-4061-bd03-ee369f232c95",
   "metadata": {},
   "source": [
    "### Evaluando expresiones sobre un DataFrame"
   ]
  },
  {
   "cell_type": "code",
   "execution_count": 40,
   "id": "6df9b532-b9a0-4208-99f4-63d3b3822899",
   "metadata": {},
   "outputs": [
    {
     "data": {
      "text/plain": [
       "Enero         -287\n",
       "Febrero       1066\n",
       "Marzo          299\n",
       "Abril         -674\n",
       "Mayo           890\n",
       "Junio          975\n",
       "Julio         -570\n",
       "Agosto        -913\n",
       "Septiembre       6\n",
       "Octubre        876\n",
       "Noviembre      654\n",
       "Diciembre      370\n",
       "Name: Balances, dtype: int32"
      ]
     },
     "execution_count": 40,
     "metadata": {},
     "output_type": "execute_result"
    }
   ],
   "source": [
    "df.eval(\"Balances + 100\")"
   ]
  },
  {
   "cell_type": "code",
   "execution_count": 41,
   "id": "ad782e03-8678-4d55-966c-5f7266ac4ceb",
   "metadata": {},
   "outputs": [
    {
     "data": {
      "text/html": [
       "<div>\n",
       "<style scoped>\n",
       "    .dataframe tbody tr th:only-of-type {\n",
       "        vertical-align: middle;\n",
       "    }\n",
       "\n",
       "    .dataframe tbody tr th {\n",
       "        vertical-align: top;\n",
       "    }\n",
       "\n",
       "    .dataframe thead th {\n",
       "        text-align: right;\n",
       "    }\n",
       "</style>\n",
       "<table border=\"1\" class=\"dataframe\">\n",
       "  <thead>\n",
       "    <tr style=\"text-align: right;\">\n",
       "      <th></th>\n",
       "      <th>Ingresos</th>\n",
       "      <th>Egresos</th>\n",
       "      <th>Balances</th>\n",
       "      <th>Impuestos</th>\n",
       "    </tr>\n",
       "  </thead>\n",
       "  <tbody>\n",
       "    <tr>\n",
       "      <th>Enero</th>\n",
       "      <td>303</td>\n",
       "      <td>690</td>\n",
       "      <td>-387</td>\n",
       "      <td>99.99</td>\n",
       "    </tr>\n",
       "    <tr>\n",
       "      <th>Febrero</th>\n",
       "      <td>1055</td>\n",
       "      <td>89</td>\n",
       "      <td>966</td>\n",
       "      <td>348.15</td>\n",
       "    </tr>\n",
       "    <tr>\n",
       "      <th>Marzo</th>\n",
       "      <td>972</td>\n",
       "      <td>773</td>\n",
       "      <td>199</td>\n",
       "      <td>320.76</td>\n",
       "    </tr>\n",
       "    <tr>\n",
       "      <th>Abril</th>\n",
       "      <td>173</td>\n",
       "      <td>947</td>\n",
       "      <td>-774</td>\n",
       "      <td>57.09</td>\n",
       "    </tr>\n",
       "    <tr>\n",
       "      <th>Mayo</th>\n",
       "      <td>1287</td>\n",
       "      <td>497</td>\n",
       "      <td>790</td>\n",
       "      <td>424.71</td>\n",
       "    </tr>\n",
       "    <tr>\n",
       "      <th>Junio</th>\n",
       "      <td>1179</td>\n",
       "      <td>304</td>\n",
       "      <td>875</td>\n",
       "      <td>389.07</td>\n",
       "    </tr>\n",
       "    <tr>\n",
       "      <th>Julio</th>\n",
       "      <td>389</td>\n",
       "      <td>1059</td>\n",
       "      <td>-670</td>\n",
       "      <td>128.37</td>\n",
       "    </tr>\n",
       "    <tr>\n",
       "      <th>Agosto</th>\n",
       "      <td>153</td>\n",
       "      <td>1166</td>\n",
       "      <td>-1013</td>\n",
       "      <td>50.49</td>\n",
       "    </tr>\n",
       "    <tr>\n",
       "      <th>Septiembre</th>\n",
       "      <td>1103</td>\n",
       "      <td>1197</td>\n",
       "      <td>-94</td>\n",
       "      <td>363.99</td>\n",
       "    </tr>\n",
       "    <tr>\n",
       "      <th>Octubre</th>\n",
       "      <td>964</td>\n",
       "      <td>188</td>\n",
       "      <td>776</td>\n",
       "      <td>318.12</td>\n",
       "    </tr>\n",
       "    <tr>\n",
       "      <th>Noviembre</th>\n",
       "      <td>1022</td>\n",
       "      <td>468</td>\n",
       "      <td>554</td>\n",
       "      <td>337.26</td>\n",
       "    </tr>\n",
       "    <tr>\n",
       "      <th>Diciembre</th>\n",
       "      <td>766</td>\n",
       "      <td>496</td>\n",
       "      <td>270</td>\n",
       "      <td>252.78</td>\n",
       "    </tr>\n",
       "  </tbody>\n",
       "</table>\n",
       "</div>"
      ],
      "text/plain": [
       "            Ingresos  Egresos  Balances  Impuestos\n",
       "Enero            303      690      -387      99.99\n",
       "Febrero         1055       89       966     348.15\n",
       "Marzo            972      773       199     320.76\n",
       "Abril            173      947      -774      57.09\n",
       "Mayo            1287      497       790     424.71\n",
       "Junio           1179      304       875     389.07\n",
       "Julio            389     1059      -670     128.37\n",
       "Agosto           153     1166     -1013      50.49\n",
       "Septiembre      1103     1197       -94     363.99\n",
       "Octubre          964      188       776     318.12\n",
       "Noviembre       1022      468       554     337.26\n",
       "Diciembre        766      496       270     252.78"
      ]
     },
     "execution_count": 41,
     "metadata": {},
     "output_type": "execute_result"
    }
   ],
   "source": [
    "# Agregando un valor resultante como una nueva columna\n",
    "df.eval(\"Impuestos = Ingresos * 0.33\", inplace=True)\n",
    "df"
   ]
  },
  {
   "cell_type": "markdown",
   "id": "0cf60348-1158-4913-b718-ed4abbf478ec",
   "metadata": {},
   "source": [
    "# Guardando un DataFrame"
   ]
  },
  {
   "cell_type": "code",
   "execution_count": null,
   "id": "027d5ecc-dea0-4ca5-9517-89d9c287cc41",
   "metadata": {},
   "outputs": [],
   "source": [
    "df.to_csv(\"Balance_2024.csv\")"
   ]
  },
  {
   "cell_type": "code",
   "execution_count": null,
   "id": "5f6f255e-4083-473b-a7d4-ae632d1cafda",
   "metadata": {},
   "outputs": [],
   "source": [
    "df.to_excel(\"Balance_2024.xlsx\")"
   ]
  },
  {
   "cell_type": "code",
   "execution_count": null,
   "id": "66f9e161-efa3-45e1-85f0-89b8278f811b",
   "metadata": {},
   "outputs": [],
   "source": [
    "df.to_json(\"Balance_2024.json\")"
   ]
  },
  {
   "cell_type": "markdown",
   "id": "e60f671e-a5fc-40bc-b5e1-6471cd09c393",
   "metadata": {},
   "source": [
    "## Leyendo un DataFrame"
   ]
  },
  {
   "cell_type": "code",
   "execution_count": null,
   "id": "c839d576-8936-4162-b45e-01dedc8d6f2a",
   "metadata": {},
   "outputs": [],
   "source": [
    "# Cargamos el DataFrame con la primera columna correctamente asignada\n",
    "df2 = pd.read_csv(\"Balance_2024.csv\", index_col=0)\n",
    "df2"
   ]
  }
 ],
 "metadata": {
  "kernelspec": {
   "display_name": "Python 3 (ipykernel)",
   "language": "python",
   "name": "python3"
  },
  "language_info": {
   "codemirror_mode": {
    "name": "ipython",
    "version": 3
   },
   "file_extension": ".py",
   "mimetype": "text/x-python",
   "name": "python",
   "nbconvert_exporter": "python",
   "pygments_lexer": "ipython3",
   "version": "3.12.2"
  }
 },
 "nbformat": 4,
 "nbformat_minor": 5
}
